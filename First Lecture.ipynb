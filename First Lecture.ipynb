{
 "cells": [
  {
   "cell_type": "code",
   "execution_count": 22,
   "id": "b81ef009",
   "metadata": {},
   "outputs": [],
   "source": [
    "x='A mango is an edible stone fruit produced by the tropical tree Mangifera indica which is believed to have originated in the region between northwestern Myanmar, Bangladesh, and northeastern India.[1] M. indica has been cultivated in South and Southeast Asia since ancient times resulting in two types of modern mango cultivars: the \"Indian type\" and the \"Southeast Asian type\".[2][3] Other species in the genus Mangifera also produce edible fruits that are also called \"mangoes\", the majority of which are found in the Malesian ecoregion.[4]\\\n",
    "\\\n",
    "Worldwide, there are several hundred cultivars of mango. Depending on the cultivar, mango fruit varies in size, shape, sweetness, skin color, and flesh color which may be pale yellow, gold, green, or orange.[1] Mango is the national fruit of India, Pakistan and the Philippines,[5][6] while the mango tree is the national tree of Bangladesh.[7]'"
   ]
  },
  {
   "cell_type": "code",
   "execution_count": 23,
   "id": "32895e14",
   "metadata": {},
   "outputs": [
    {
     "name": "stdout",
     "output_type": "stream",
     "text": [
      "A mango is an edible stone fruit produced by the tropical tree Mangifera indica which is believed to have originated in the region between northwestern Myanmar, Bangladesh, and northeastern India.[1] M. indica has been cultivated in South and Southeast Asia since ancient times resulting in two types of modern mango cultivars: the \"Indian type\" and the \"Southeast Asian type\".[2][3] Other species in the genus Mangifera also produce edible fruits that are also called \"mangoes\", the majority of which are found in the Malesian ecoregion.[4]Worldwide, there are several hundred cultivars of mango. Depending on the cultivar, mango fruit varies in size, shape, sweetness, skin color, and flesh color which may be pale yellow, gold, green, or orange.[1] Mango is the national fruit of India, Pakistan and the Philippines,[5][6] while the mango tree is the national tree of Bangladesh.[7]\n"
     ]
    }
   ],
   "source": [
    "print(x)"
   ]
  },
  {
   "cell_type": "code",
   "execution_count": 27,
   "id": "1d91f936",
   "metadata": {},
   "outputs": [],
   "source": [
    "x='x\\\n",
    "y\\\n",
    "z\\\n",
    "w'"
   ]
  },
  {
   "cell_type": "code",
   "execution_count": 28,
   "id": "19598020",
   "metadata": {},
   "outputs": [],
   "source": [
    "x='''x\n",
    "y\n",
    "z\n",
    "w'''"
   ]
  },
  {
   "cell_type": "code",
   "execution_count": 44,
   "id": "a1116ebd",
   "metadata": {},
   "outputs": [],
   "source": [
    "name='''Lacky\n",
    "Sharma'''"
   ]
  },
  {
   "cell_type": "code",
   "execution_count": 45,
   "id": "5028685e",
   "metadata": {},
   "outputs": [],
   "source": [
    "message='mango cultivars: the \\'Indian type\\' and the \"Southeast Asian type\"'"
   ]
  },
  {
   "cell_type": "code",
   "execution_count": 46,
   "id": "4ad86e75",
   "metadata": {},
   "outputs": [
    {
     "data": {
      "text/plain": [
       "'mango cultivars: the \"Indian type\" and the \"Southeast Asian type\"'"
      ]
     },
     "execution_count": 46,
     "metadata": {},
     "output_type": "execute_result"
    }
   ],
   "source": [
    "message"
   ]
  },
  {
   "cell_type": "code",
   "execution_count": 47,
   "id": "a10ad93f",
   "metadata": {},
   "outputs": [],
   "source": [
    "owenership='This is Lakhan\\'s house'"
   ]
  },
  {
   "cell_type": "code",
   "execution_count": 48,
   "id": "cb9c051c",
   "metadata": {},
   "outputs": [
    {
     "data": {
      "text/plain": [
       "\"This is Lakhan's house\""
      ]
     },
     "execution_count": 48,
     "metadata": {},
     "output_type": "execute_result"
    }
   ],
   "source": [
    "owenership"
   ]
  },
  {
   "cell_type": "code",
   "execution_count": 49,
   "id": "1d11772e",
   "metadata": {},
   "outputs": [],
   "source": [
    "owenership1=\"This is Lakhan's house\""
   ]
  },
  {
   "cell_type": "code",
   "execution_count": 67,
   "id": "4d6369e4",
   "metadata": {},
   "outputs": [
    {
     "name": "stdout",
     "output_type": "stream",
     "text": [
      "This is Lakhan's house\n"
     ]
    }
   ],
   "source": [
    "owenership1\n",
    "print(owenership1)"
   ]
  },
  {
   "cell_type": "code",
   "execution_count": 66,
   "id": "cd322081",
   "metadata": {},
   "outputs": [
    {
     "name": "stdout",
     "output_type": "stream",
     "text": [
      "This is Lakhan's house\n",
      "This is Lakhan's house\n"
     ]
    }
   ],
   "source": [
    "print(owenership1)\n",
    "print(owenership1)"
   ]
  },
  {
   "cell_type": "code",
   "execution_count": 54,
   "id": "d381c3da",
   "metadata": {},
   "outputs": [],
   "source": [
    "message_1='\"mango cultivars: the \"Indian type\" and the \"Southeast Asian type\"\"'"
   ]
  },
  {
   "cell_type": "code",
   "execution_count": 57,
   "id": "8cebafef",
   "metadata": {},
   "outputs": [],
   "source": [
    "anyvar='mango cultivars: \\nthe \"Indian type\" and the \"Southeast Asian type'"
   ]
  },
  {
   "cell_type": "code",
   "execution_count": 63,
   "id": "ab517b4c",
   "metadata": {},
   "outputs": [
    {
     "name": "stdout",
     "output_type": "stream",
     "text": [
      "mango cultivars: \n",
      "the \"Indian type\" and the \"Southeast Asian type\n"
     ]
    }
   ],
   "source": [
    "print(anyvar)"
   ]
  },
  {
   "cell_type": "code",
   "execution_count": 59,
   "id": "7be42417",
   "metadata": {},
   "outputs": [],
   "source": [
    "p='x\\ny'"
   ]
  },
  {
   "cell_type": "code",
   "execution_count": 70,
   "id": "12fa4183",
   "metadata": {},
   "outputs": [
    {
     "name": "stdout",
     "output_type": "stream",
     "text": [
      "x\n",
      "y\n"
     ]
    }
   ],
   "source": [
    "print(p)"
   ]
  },
  {
   "cell_type": "code",
   "execution_count": 74,
   "id": "f3f3b5bf",
   "metadata": {},
   "outputs": [
    {
     "name": "stdout",
     "output_type": "stream",
     "text": [
      "Hello\n",
      "world\n",
      "Hello world\n",
      "Hello \n",
      "   world\n"
     ]
    }
   ],
   "source": [
    "a='Hello'\n",
    "b='world'\n",
    "print(a)\n",
    "print(b)\n",
    "print(a,b)\n",
    "print(a,'\\n  ',b)"
   ]
  },
  {
   "cell_type": "code",
   "execution_count": 68,
   "id": "60ae1161",
   "metadata": {},
   "outputs": [
    {
     "data": {
      "text/plain": [
       "2"
      ]
     },
     "execution_count": 68,
     "metadata": {},
     "output_type": "execute_result"
    }
   ],
   "source": [
    "2"
   ]
  },
  {
   "cell_type": "code",
   "execution_count": 69,
   "id": "7d70a396",
   "metadata": {},
   "outputs": [
    {
     "data": {
      "text/plain": [
       "'p'"
      ]
     },
     "execution_count": 69,
     "metadata": {},
     "output_type": "execute_result"
    }
   ],
   "source": [
    "\"p\""
   ]
  },
  {
   "cell_type": "code",
   "execution_count": null,
   "id": "41df1c01",
   "metadata": {},
   "outputs": [],
   "source": []
  }
 ],
 "metadata": {
  "kernelspec": {
   "display_name": "Python 3",
   "language": "python",
   "name": "python3"
  },
  "language_info": {
   "codemirror_mode": {
    "name": "ipython",
    "version": 3
   },
   "file_extension": ".py",
   "mimetype": "text/x-python",
   "name": "python",
   "nbconvert_exporter": "python",
   "pygments_lexer": "ipython3",
   "version": "3.8.8"
  }
 },
 "nbformat": 4,
 "nbformat_minor": 5
}
