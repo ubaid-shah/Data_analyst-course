{
 "cells": [
  {
   "cell_type": "markdown",
   "id": "53176e1e",
   "metadata": {},
   "source": [
    "    String\n",
    "    List\n",
    "    Tuple\n",
    "    Set\n",
    "    Dictionary"
   ]
  },
  {
   "cell_type": "markdown",
   "id": "0268af72",
   "metadata": {},
   "source": [
    "# List"
   ]
  },
  {
   "cell_type": "code",
   "execution_count": 1,
   "id": "9e13d1e4",
   "metadata": {},
   "outputs": [],
   "source": [
    "list1=[]"
   ]
  },
  {
   "cell_type": "code",
   "execution_count": 2,
   "id": "15444f29",
   "metadata": {},
   "outputs": [
    {
     "data": {
      "text/plain": [
       "[]"
      ]
     },
     "execution_count": 2,
     "metadata": {},
     "output_type": "execute_result"
    }
   ],
   "source": [
    "list1"
   ]
  },
  {
   "cell_type": "code",
   "execution_count": 3,
   "id": "cb7ad96f",
   "metadata": {},
   "outputs": [
    {
     "data": {
      "text/plain": [
       "list"
      ]
     },
     "execution_count": 3,
     "metadata": {},
     "output_type": "execute_result"
    }
   ],
   "source": [
    "type(list1)"
   ]
  },
  {
   "cell_type": "code",
   "execution_count": 4,
   "id": "fe4412e2",
   "metadata": {},
   "outputs": [],
   "source": [
    "list1.append(1)"
   ]
  },
  {
   "cell_type": "code",
   "execution_count": 5,
   "id": "4e5997b3",
   "metadata": {},
   "outputs": [
    {
     "data": {
      "text/plain": [
       "[1]"
      ]
     },
     "execution_count": 5,
     "metadata": {},
     "output_type": "execute_result"
    }
   ],
   "source": [
    "list1"
   ]
  },
  {
   "cell_type": "code",
   "execution_count": 6,
   "id": "ab6b79c3",
   "metadata": {},
   "outputs": [],
   "source": [
    "name=['Ubaid','Lakhan','Neha','Sonu']"
   ]
  },
  {
   "cell_type": "code",
   "execution_count": 7,
   "id": "b66b5712",
   "metadata": {},
   "outputs": [],
   "source": [
    "name=['Ubaid','Lakhan','Neha','Sonu']\n",
    "id=[101,102,103,104]\n",
    "height=[5.8,5.9,5.6,5.6]\n",
    "gender=[1,1,0,0]"
   ]
  },
  {
   "cell_type": "code",
   "execution_count": 8,
   "id": "41b79e5d",
   "metadata": {},
   "outputs": [],
   "source": [
    "numbers=[10,9,12,13,8,15,4]"
   ]
  },
  {
   "cell_type": "code",
   "execution_count": 10,
   "id": "4d92dd3e",
   "metadata": {},
   "outputs": [
    {
     "data": {
      "text/plain": [
       "9"
      ]
     },
     "execution_count": 10,
     "metadata": {},
     "output_type": "execute_result"
    }
   ],
   "source": [
    "numbers[1]"
   ]
  },
  {
   "cell_type": "code",
   "execution_count": 11,
   "id": "0f206156",
   "metadata": {},
   "outputs": [
    {
     "data": {
      "text/plain": [
       "8"
      ]
     },
     "execution_count": 11,
     "metadata": {},
     "output_type": "execute_result"
    }
   ],
   "source": [
    "numbers[4]"
   ]
  },
  {
   "cell_type": "code",
   "execution_count": 12,
   "id": "bd47e32c",
   "metadata": {},
   "outputs": [
    {
     "data": {
      "text/plain": [
       "4"
      ]
     },
     "execution_count": 12,
     "metadata": {},
     "output_type": "execute_result"
    }
   ],
   "source": [
    "numbers[-1]"
   ]
  },
  {
   "cell_type": "code",
   "execution_count": 13,
   "id": "7c3cc350",
   "metadata": {},
   "outputs": [
    {
     "data": {
      "text/plain": [
       "7"
      ]
     },
     "execution_count": 13,
     "metadata": {},
     "output_type": "execute_result"
    }
   ],
   "source": [
    "len(numbers)"
   ]
  },
  {
   "cell_type": "code",
   "execution_count": 14,
   "id": "cf70511b",
   "metadata": {},
   "outputs": [
    {
     "data": {
      "text/plain": [
       "4"
      ]
     },
     "execution_count": 14,
     "metadata": {},
     "output_type": "execute_result"
    }
   ],
   "source": [
    "numbers[len(numbers)-1]"
   ]
  },
  {
   "cell_type": "code",
   "execution_count": 15,
   "id": "2c7ec647",
   "metadata": {},
   "outputs": [
    {
     "ename": "IndexError",
     "evalue": "list index out of range",
     "output_type": "error",
     "traceback": [
      "\u001b[1;31m---------------------------------------------------------------------------\u001b[0m",
      "\u001b[1;31mIndexError\u001b[0m                                Traceback (most recent call last)",
      "Input \u001b[1;32mIn [15]\u001b[0m, in \u001b[0;36m<cell line: 1>\u001b[1;34m()\u001b[0m\n\u001b[1;32m----> 1\u001b[0m \u001b[43mnumbers\u001b[49m\u001b[43m[\u001b[49m\u001b[38;5;28;43mlen\u001b[39;49m\u001b[43m(\u001b[49m\u001b[43mnumbers\u001b[49m\u001b[43m)\u001b[49m\u001b[43m]\u001b[49m\n",
      "\u001b[1;31mIndexError\u001b[0m: list index out of range"
     ]
    }
   ],
   "source": [
    "numbers[len(numbers)]"
   ]
  },
  {
   "cell_type": "markdown",
   "id": "54690fdc",
   "metadata": {},
   "source": [
    "## List slicing"
   ]
  },
  {
   "cell_type": "raw",
   "id": "d9c5c445",
   "metadata": {},
   "source": [
    "list_name[Start_index: End_index +1 : Step]"
   ]
  },
  {
   "cell_type": "code",
   "execution_count": 16,
   "id": "c9c00e65",
   "metadata": {},
   "outputs": [
    {
     "data": {
      "text/plain": [
       "[10, 9, 12, 13, 8, 15, 4]"
      ]
     },
     "execution_count": 16,
     "metadata": {},
     "output_type": "execute_result"
    }
   ],
   "source": [
    "numbers"
   ]
  },
  {
   "cell_type": "code",
   "execution_count": 17,
   "id": "638fbb09",
   "metadata": {},
   "outputs": [
    {
     "data": {
      "text/plain": [
       "[10, 9]"
      ]
     },
     "execution_count": 17,
     "metadata": {},
     "output_type": "execute_result"
    }
   ],
   "source": [
    "numbers[0:2]"
   ]
  },
  {
   "cell_type": "code",
   "execution_count": 18,
   "id": "97d9063e",
   "metadata": {},
   "outputs": [
    {
     "data": {
      "text/plain": [
       "[10, 9, 12]"
      ]
     },
     "execution_count": 18,
     "metadata": {},
     "output_type": "execute_result"
    }
   ],
   "source": [
    "numbers[0:3]"
   ]
  },
  {
   "cell_type": "code",
   "execution_count": 19,
   "id": "2dbe354d",
   "metadata": {},
   "outputs": [
    {
     "data": {
      "text/plain": [
       "[10, 9, 12]"
      ]
     },
     "execution_count": 19,
     "metadata": {},
     "output_type": "execute_result"
    }
   ],
   "source": [
    "numbers[:3]"
   ]
  },
  {
   "cell_type": "code",
   "execution_count": 20,
   "id": "5e657c19",
   "metadata": {},
   "outputs": [
    {
     "data": {
      "text/plain": [
       "[13, 8, 15, 4]"
      ]
     },
     "execution_count": 20,
     "metadata": {},
     "output_type": "execute_result"
    }
   ],
   "source": [
    "numbers[3:]"
   ]
  },
  {
   "cell_type": "code",
   "execution_count": 21,
   "id": "17e18f4d",
   "metadata": {},
   "outputs": [
    {
     "data": {
      "text/plain": [
       "[12, 13, 8, 15, 4]"
      ]
     },
     "execution_count": 21,
     "metadata": {},
     "output_type": "execute_result"
    }
   ],
   "source": [
    "numbers[2:]"
   ]
  },
  {
   "cell_type": "code",
   "execution_count": 22,
   "id": "45b8e8eb",
   "metadata": {},
   "outputs": [
    {
     "data": {
      "text/plain": [
       "[10, 12, 8, 4]"
      ]
     },
     "execution_count": 22,
     "metadata": {},
     "output_type": "execute_result"
    }
   ],
   "source": [
    "numbers[::2]"
   ]
  },
  {
   "cell_type": "code",
   "execution_count": 23,
   "id": "689bbeaa",
   "metadata": {},
   "outputs": [
    {
     "data": {
      "text/plain": [
       "[10, 13, 4]"
      ]
     },
     "execution_count": 23,
     "metadata": {},
     "output_type": "execute_result"
    }
   ],
   "source": [
    "numbers[::3]"
   ]
  },
  {
   "cell_type": "code",
   "execution_count": 24,
   "id": "0762a032",
   "metadata": {},
   "outputs": [
    {
     "data": {
      "text/plain": [
       "[2, 4, 6, 8, 10, 12, 14, 16, 18, 20]"
      ]
     },
     "execution_count": 24,
     "metadata": {},
     "output_type": "execute_result"
    }
   ],
   "source": [
    "n=[1,2,3,4,5,6,7,8,9,10,11,12,13,14,15,16,17,18,19,20]\n",
    "\n",
    "#Find out even numbers between 1 to 20\n",
    "n[1::2]"
   ]
  },
  {
   "cell_type": "code",
   "execution_count": 25,
   "id": "7ce6adfb",
   "metadata": {},
   "outputs": [
    {
     "data": {
      "text/plain": [
       "[1, 3, 5, 7, 9, 11, 13, 15, 17, 19]"
      ]
     },
     "execution_count": 25,
     "metadata": {},
     "output_type": "execute_result"
    }
   ],
   "source": [
    "#Find out odd numbers between 1 to 20\n",
    "n[::2]"
   ]
  },
  {
   "cell_type": "code",
   "execution_count": 26,
   "id": "4e3b199b",
   "metadata": {},
   "outputs": [],
   "source": [
    "temperature_c=[40.6,45,12,26.8,15.8,19.12,29.8]\n",
    "days=['Sun','Mon','Tue','Wed','Thu','Fri','Sat']"
   ]
  },
  {
   "cell_type": "code",
   "execution_count": 27,
   "id": "0f86bef9",
   "metadata": {},
   "outputs": [
    {
     "data": {
      "text/plain": [
       "[26.8, 19.12]"
      ]
     },
     "execution_count": 27,
     "metadata": {},
     "output_type": "execute_result"
    }
   ],
   "source": [
    "temperature_c[3::2]"
   ]
  },
  {
   "cell_type": "code",
   "execution_count": 28,
   "id": "0c4c44ce",
   "metadata": {},
   "outputs": [],
   "source": [
    "grocery=['oil','salt','ground nuts','spices','rice','sugar']"
   ]
  },
  {
   "cell_type": "code",
   "execution_count": 29,
   "id": "b187144c",
   "metadata": {},
   "outputs": [
    {
     "data": {
      "text/plain": [
       "['spices', 'rice', 'sugar']"
      ]
     },
     "execution_count": 29,
     "metadata": {},
     "output_type": "execute_result"
    }
   ],
   "source": [
    "grocery[-3:]"
   ]
  },
  {
   "cell_type": "code",
   "execution_count": 30,
   "id": "0f89a404",
   "metadata": {},
   "outputs": [
    {
     "data": {
      "text/plain": [
       "['oil', 'salt', 'ground nuts']"
      ]
     },
     "execution_count": 30,
     "metadata": {},
     "output_type": "execute_result"
    }
   ],
   "source": [
    "grocery[:-3]"
   ]
  },
  {
   "cell_type": "code",
   "execution_count": 31,
   "id": "dfcf8a1b",
   "metadata": {},
   "outputs": [
    {
     "data": {
      "text/plain": [
       "['sugar', 'rice', 'spices', 'ground nuts', 'salt', 'oil']"
      ]
     },
     "execution_count": 31,
     "metadata": {},
     "output_type": "execute_result"
    }
   ],
   "source": [
    "grocery[::-1]     # to reverse the list"
   ]
  },
  {
   "cell_type": "code",
   "execution_count": 32,
   "id": "de6851b8",
   "metadata": {},
   "outputs": [
    {
     "data": {
      "text/plain": [
       "['ground nuts', 'salt', 'oil']"
      ]
     },
     "execution_count": 32,
     "metadata": {},
     "output_type": "execute_result"
    }
   ],
   "source": [
    "grocery[-4::-1]"
   ]
  },
  {
   "cell_type": "code",
   "execution_count": 34,
   "id": "0512b341",
   "metadata": {},
   "outputs": [
    {
     "data": {
      "text/plain": [
       "['sugar', 'rice', 'spices', 'ground nuts']"
      ]
     },
     "execution_count": 34,
     "metadata": {},
     "output_type": "execute_result"
    }
   ],
   "source": [
    "grocery[-1:-5:-1]"
   ]
  },
  {
   "cell_type": "code",
   "execution_count": 35,
   "id": "16e3e8ad",
   "metadata": {},
   "outputs": [],
   "source": [
    "shoping=[['Mouse','Pen drive'],['Jeans'],['Oil','Salt','Rice'],'Apple','Sweets']"
   ]
  },
  {
   "cell_type": "code",
   "execution_count": 36,
   "id": "f5f96b58",
   "metadata": {},
   "outputs": [
    {
     "data": {
      "text/plain": [
       "[['Mouse', 'Pen drive'], ['Jeans'], ['Oil', 'Salt', 'Rice'], 'Apple', 'Sweets']"
      ]
     },
     "execution_count": 36,
     "metadata": {},
     "output_type": "execute_result"
    }
   ],
   "source": [
    "shoping"
   ]
  },
  {
   "cell_type": "code",
   "execution_count": 37,
   "id": "2fcbfbf2",
   "metadata": {},
   "outputs": [
    {
     "data": {
      "text/plain": [
       "5"
      ]
     },
     "execution_count": 37,
     "metadata": {},
     "output_type": "execute_result"
    }
   ],
   "source": [
    "len(shoping)"
   ]
  },
  {
   "cell_type": "raw",
   "id": "6f80e93a",
   "metadata": {},
   "source": [
    "0------- Electorincs\n",
    "1------- Fashion\n",
    "2------- Grocery\n",
    "3------- Apple\n",
    "4------- Sweets"
   ]
  },
  {
   "cell_type": "code",
   "execution_count": 38,
   "id": "f792b8b5",
   "metadata": {},
   "outputs": [
    {
     "data": {
      "text/plain": [
       "['Mouse', 'Pen drive']"
      ]
     },
     "execution_count": 38,
     "metadata": {},
     "output_type": "execute_result"
    }
   ],
   "source": [
    "# List of electronics items\n",
    "shoping[0]"
   ]
  },
  {
   "cell_type": "code",
   "execution_count": 39,
   "id": "9b96ff26",
   "metadata": {},
   "outputs": [
    {
     "data": {
      "text/plain": [
       "'Mouse'"
      ]
     },
     "execution_count": 39,
     "metadata": {},
     "output_type": "execute_result"
    }
   ],
   "source": [
    "# Which is the first electronics item in the list\n",
    "\n",
    "shoping[0][0]"
   ]
  },
  {
   "cell_type": "code",
   "execution_count": 40,
   "id": "72f7c1ea",
   "metadata": {},
   "outputs": [
    {
     "data": {
      "text/plain": [
       "'Rice'"
      ]
     },
     "execution_count": 40,
     "metadata": {},
     "output_type": "execute_result"
    }
   ],
   "source": [
    "# which is the third item in the grocery list\n",
    "\n",
    "shoping[2][2]\n",
    "\n",
    "# [['Mouse', 'Pen drive'], ['Jeans'], ['Oil', 'Salt', 'Rice'], 'Apple', 'Sweets']]"
   ]
  },
  {
   "cell_type": "code",
   "execution_count": 41,
   "id": "8954cfa2",
   "metadata": {},
   "outputs": [
    {
     "data": {
      "text/plain": [
       "'Apple'"
      ]
     },
     "execution_count": 41,
     "metadata": {},
     "output_type": "execute_result"
    }
   ],
   "source": [
    "shoping[3]"
   ]
  },
  {
   "cell_type": "code",
   "execution_count": 42,
   "id": "4ffd7d7a",
   "metadata": {},
   "outputs": [
    {
     "data": {
      "text/plain": [
       "'Sweets'"
      ]
     },
     "execution_count": 42,
     "metadata": {},
     "output_type": "execute_result"
    }
   ],
   "source": [
    "shoping[-1]"
   ]
  },
  {
   "cell_type": "code",
   "execution_count": 43,
   "id": "c748a007",
   "metadata": {},
   "outputs": [
    {
     "data": {
      "text/plain": [
       "'Sweets'"
      ]
     },
     "execution_count": 43,
     "metadata": {},
     "output_type": "execute_result"
    }
   ],
   "source": [
    "shoping[4]"
   ]
  },
  {
   "cell_type": "markdown",
   "id": "6f9359cb",
   "metadata": {},
   "source": [
    "# # List Operations"
   ]
  },
  {
   "cell_type": "code",
   "execution_count": 44,
   "id": "70432c7d",
   "metadata": {},
   "outputs": [],
   "source": [
    "compass_box=['Pencil','Eraser']"
   ]
  },
  {
   "cell_type": "code",
   "execution_count": 45,
   "id": "fbcca83c",
   "metadata": {},
   "outputs": [],
   "source": [
    "compass_box=compass_box.append('Pen')    # don't append in this way"
   ]
  },
  {
   "cell_type": "code",
   "execution_count": 47,
   "id": "257eeb3e",
   "metadata": {},
   "outputs": [
    {
     "name": "stdout",
     "output_type": "stream",
     "text": [
      "None\n"
     ]
    }
   ],
   "source": [
    "print(compass_box)"
   ]
  },
  {
   "cell_type": "code",
   "execution_count": 48,
   "id": "2a0d3362",
   "metadata": {},
   "outputs": [],
   "source": [
    "compass_box=['Pencil','Eraser']"
   ]
  },
  {
   "cell_type": "code",
   "execution_count": 49,
   "id": "a9c026db",
   "metadata": {},
   "outputs": [
    {
     "name": "stdout",
     "output_type": "stream",
     "text": [
      "['Pencil', 'Eraser']\n"
     ]
    }
   ],
   "source": [
    "print(compass_box)"
   ]
  },
  {
   "cell_type": "code",
   "execution_count": 50,
   "id": "76d78e22",
   "metadata": {},
   "outputs": [],
   "source": [
    "compass_box.append('Pen')"
   ]
  },
  {
   "cell_type": "code",
   "execution_count": 51,
   "id": "38cd3cef",
   "metadata": {},
   "outputs": [
    {
     "name": "stdout",
     "output_type": "stream",
     "text": [
      "['Pencil', 'Eraser', 'Pen']\n"
     ]
    }
   ],
   "source": [
    "print(compass_box)"
   ]
  },
  {
   "cell_type": "code",
   "execution_count": 52,
   "id": "b9330b49",
   "metadata": {},
   "outputs": [
    {
     "ename": "TypeError",
     "evalue": "append() takes exactly one argument (2 given)",
     "output_type": "error",
     "traceback": [
      "\u001b[1;31m---------------------------------------------------------------------------\u001b[0m",
      "\u001b[1;31mTypeError\u001b[0m                                 Traceback (most recent call last)",
      "Input \u001b[1;32mIn [52]\u001b[0m, in \u001b[0;36m<cell line: 1>\u001b[1;34m()\u001b[0m\n\u001b[1;32m----> 1\u001b[0m \u001b[43mcompass_box\u001b[49m\u001b[38;5;241;43m.\u001b[39;49m\u001b[43mappend\u001b[49m\u001b[43m(\u001b[49m\u001b[38;5;124;43m'\u001b[39;49m\u001b[38;5;124;43mSet Sqaure\u001b[39;49m\u001b[38;5;124;43m'\u001b[39;49m\u001b[43m,\u001b[49m\u001b[38;5;124;43m'\u001b[39;49m\u001b[38;5;124;43mRuler\u001b[39;49m\u001b[38;5;124;43m'\u001b[39;49m\u001b[43m)\u001b[49m\n",
      "\u001b[1;31mTypeError\u001b[0m: append() takes exactly one argument (2 given)"
     ]
    }
   ],
   "source": [
    "compass_box.append('Set Sqaure','Ruler')"
   ]
  },
  {
   "cell_type": "code",
   "execution_count": 53,
   "id": "00397b60",
   "metadata": {},
   "outputs": [],
   "source": [
    "compass_box.append(['Set Sqaure','Ruler'])"
   ]
  },
  {
   "cell_type": "code",
   "execution_count": 54,
   "id": "5b0b73a6",
   "metadata": {},
   "outputs": [
    {
     "data": {
      "text/plain": [
       "['Pencil', 'Eraser', 'Pen', ['Set Sqaure', 'Ruler']]"
      ]
     },
     "execution_count": 54,
     "metadata": {},
     "output_type": "execute_result"
    }
   ],
   "source": [
    "compass_box"
   ]
  },
  {
   "cell_type": "code",
   "execution_count": 55,
   "id": "272435a5",
   "metadata": {},
   "outputs": [
    {
     "data": {
      "text/plain": [
       "['Set Sqaure', 'Ruler']"
      ]
     },
     "execution_count": 55,
     "metadata": {},
     "output_type": "execute_result"
    }
   ],
   "source": [
    "compass_box.pop()      # To remove the last item from the list"
   ]
  },
  {
   "cell_type": "code",
   "execution_count": 56,
   "id": "27e43b26",
   "metadata": {},
   "outputs": [
    {
     "data": {
      "text/plain": [
       "['Pencil', 'Eraser', 'Pen']"
      ]
     },
     "execution_count": 56,
     "metadata": {},
     "output_type": "execute_result"
    }
   ],
   "source": [
    "compass_box"
   ]
  },
  {
   "cell_type": "code",
   "execution_count": 57,
   "id": "162e5db1",
   "metadata": {},
   "outputs": [],
   "source": [
    "compass_box.extend(['Set Sqaure','Ruler'])      # To add multiple elements in the list"
   ]
  },
  {
   "cell_type": "code",
   "execution_count": 58,
   "id": "230fb37c",
   "metadata": {},
   "outputs": [
    {
     "data": {
      "text/plain": [
       "['Pencil', 'Eraser', 'Pen', 'Set Sqaure', 'Ruler']"
      ]
     },
     "execution_count": 58,
     "metadata": {},
     "output_type": "execute_result"
    }
   ],
   "source": [
    "compass_box"
   ]
  },
  {
   "cell_type": "code",
   "execution_count": 59,
   "id": "d9d88fde",
   "metadata": {},
   "outputs": [],
   "source": [
    "compass_box.insert(1,'Sharpner')               # to add element in the list at specific index"
   ]
  },
  {
   "cell_type": "code",
   "execution_count": 60,
   "id": "5049f8ef",
   "metadata": {},
   "outputs": [
    {
     "data": {
      "text/plain": [
       "['Pencil', 'Sharpner', 'Eraser', 'Pen', 'Set Sqaure', 'Ruler']"
      ]
     },
     "execution_count": 60,
     "metadata": {},
     "output_type": "execute_result"
    }
   ],
   "source": [
    "compass_box"
   ]
  },
  {
   "cell_type": "code",
   "execution_count": 61,
   "id": "50221f3b",
   "metadata": {},
   "outputs": [
    {
     "data": {
      "text/plain": [
       "['Pencil',\n",
       " 'Sharpner',\n",
       " 'Eraser',\n",
       " 'Pen',\n",
       " 'Set Sqaure',\n",
       " 'Ruler',\n",
       " 'Divider',\n",
       " 'Compass']"
      ]
     },
     "execution_count": 61,
     "metadata": {},
     "output_type": "execute_result"
    }
   ],
   "source": [
    "compass_box + ['Divider','Compass']"
   ]
  },
  {
   "cell_type": "code",
   "execution_count": 62,
   "id": "a222849d",
   "metadata": {},
   "outputs": [
    {
     "data": {
      "text/plain": [
       "['Pencil', 'Sharpner', 'Eraser', 'Pen', 'Set Sqaure', 'Ruler']"
      ]
     },
     "execution_count": 62,
     "metadata": {},
     "output_type": "execute_result"
    }
   ],
   "source": [
    "compass_box"
   ]
  },
  {
   "cell_type": "code",
   "execution_count": 68,
   "id": "552a6eff",
   "metadata": {},
   "outputs": [],
   "source": [
    "compass_box= compass_box + ['Divider','Compass']"
   ]
  },
  {
   "cell_type": "code",
   "execution_count": 69,
   "id": "e9b12f56",
   "metadata": {},
   "outputs": [
    {
     "name": "stdout",
     "output_type": "stream",
     "text": [
      "['Pencil', 'Sharpner', 'Eraser', 'Pen', 'Set Sqaure', 'Ruler', 'Divider', 'Compass', 'Divider', 'Compass', 'Divider', 'Compass']\n"
     ]
    }
   ],
   "source": [
    "print(compass_box)"
   ]
  },
  {
   "cell_type": "code",
   "execution_count": 70,
   "id": "cc356819",
   "metadata": {},
   "outputs": [],
   "source": [
    "del compass_box[-4:]        # To delete the item from the list"
   ]
  },
  {
   "cell_type": "code",
   "execution_count": 71,
   "id": "fe0c4a52",
   "metadata": {},
   "outputs": [
    {
     "name": "stdout",
     "output_type": "stream",
     "text": [
      "['Pencil', 'Sharpner', 'Eraser', 'Pen', 'Set Sqaure', 'Ruler', 'Divider', 'Compass']\n"
     ]
    }
   ],
   "source": [
    "print(compass_box)"
   ]
  },
  {
   "cell_type": "code",
   "execution_count": 72,
   "id": "e7c89bc7",
   "metadata": {},
   "outputs": [],
   "source": [
    "compass_box.insert(3,'Scissor')"
   ]
  },
  {
   "cell_type": "code",
   "execution_count": 74,
   "id": "b277abd9",
   "metadata": {},
   "outputs": [
    {
     "name": "stdout",
     "output_type": "stream",
     "text": [
      "['Pencil', 'Sharpner', 'Eraser', 'Scissor', 'Pen', 'Set Sqaure', 'Ruler', 'Divider', 'Compass']\n"
     ]
    }
   ],
   "source": [
    "print(compass_box)"
   ]
  },
  {
   "cell_type": "code",
   "execution_count": 75,
   "id": "41094ef9",
   "metadata": {},
   "outputs": [
    {
     "data": {
      "text/plain": [
       "3"
      ]
     },
     "execution_count": 75,
     "metadata": {},
     "output_type": "execute_result"
    }
   ],
   "source": [
    "compass_box.index('Scissor')"
   ]
  },
  {
   "cell_type": "code",
   "execution_count": 76,
   "id": "e02a6432",
   "metadata": {},
   "outputs": [],
   "source": [
    "del compass_box[compass_box.index('Scissor')]     \n",
    "\n",
    "\n",
    "# del compass_box[3]"
   ]
  },
  {
   "cell_type": "code",
   "execution_count": 77,
   "id": "5932eea6",
   "metadata": {},
   "outputs": [
    {
     "name": "stdout",
     "output_type": "stream",
     "text": [
      "['Pencil', 'Sharpner', 'Eraser', 'Pen', 'Set Sqaure', 'Ruler', 'Divider', 'Compass']\n"
     ]
    }
   ],
   "source": [
    "print(compass_box)"
   ]
  },
  {
   "cell_type": "code",
   "execution_count": 78,
   "id": "e0bc9dc2",
   "metadata": {},
   "outputs": [],
   "source": [
    "compass_box_1=compass_box.copy()"
   ]
  },
  {
   "cell_type": "code",
   "execution_count": 80,
   "id": "805a8b8e",
   "metadata": {},
   "outputs": [
    {
     "name": "stdout",
     "output_type": "stream",
     "text": [
      "['Pencil', 'Sharpner', 'Eraser', 'Pen', 'Set Sqaure', 'Ruler', 'Divider', 'Compass']\n"
     ]
    }
   ],
   "source": [
    "print(compass_box_1)"
   ]
  },
  {
   "cell_type": "code",
   "execution_count": 81,
   "id": "0f1a712f",
   "metadata": {},
   "outputs": [],
   "source": [
    "del compass_box"
   ]
  },
  {
   "cell_type": "code",
   "execution_count": 82,
   "id": "cc6f9401",
   "metadata": {},
   "outputs": [
    {
     "ename": "NameError",
     "evalue": "name 'compass_box' is not defined",
     "output_type": "error",
     "traceback": [
      "\u001b[1;31m---------------------------------------------------------------------------\u001b[0m",
      "\u001b[1;31mNameError\u001b[0m                                 Traceback (most recent call last)",
      "Input \u001b[1;32mIn [82]\u001b[0m, in \u001b[0;36m<cell line: 1>\u001b[1;34m()\u001b[0m\n\u001b[1;32m----> 1\u001b[0m \u001b[38;5;28mprint\u001b[39m(\u001b[43mcompass_box\u001b[49m)\n",
      "\u001b[1;31mNameError\u001b[0m: name 'compass_box' is not defined"
     ]
    }
   ],
   "source": [
    "print(compass_box)"
   ]
  },
  {
   "cell_type": "code",
   "execution_count": 84,
   "id": "70fe00b3",
   "metadata": {},
   "outputs": [
    {
     "name": "stdout",
     "output_type": "stream",
     "text": [
      "['Pencil', 'Sharpner', 'Eraser', 'Pen', 'Set Sqaure', 'Ruler', 'Divider', 'Compass']\n"
     ]
    }
   ],
   "source": [
    "print(compass_box_1)"
   ]
  },
  {
   "cell_type": "code",
   "execution_count": 85,
   "id": "bc1df01f",
   "metadata": {},
   "outputs": [],
   "source": [
    "compass_box_1.clear()"
   ]
  },
  {
   "cell_type": "code",
   "execution_count": 86,
   "id": "06a55df4",
   "metadata": {},
   "outputs": [
    {
     "name": "stdout",
     "output_type": "stream",
     "text": [
      "[]\n"
     ]
    }
   ],
   "source": [
    "print(compass_box_1)"
   ]
  },
  {
   "cell_type": "markdown",
   "id": "9d700ab9",
   "metadata": {},
   "source": [
    "# List Comprehension"
   ]
  },
  {
   "cell_type": "code",
   "execution_count": 87,
   "id": "68bfe266",
   "metadata": {},
   "outputs": [],
   "source": [
    "x=[14,15,8,9,20,19,2,6]\n",
    "\n",
    "# To find even numbers in the list"
   ]
  },
  {
   "cell_type": "code",
   "execution_count": 88,
   "id": "477c39df",
   "metadata": {},
   "outputs": [],
   "source": [
    "even_num=[]\n",
    "for i in x:\n",
    "    if i%2==0:\n",
    "        even_num.append(i)"
   ]
  },
  {
   "cell_type": "code",
   "execution_count": 89,
   "id": "e8dffe58",
   "metadata": {},
   "outputs": [
    {
     "name": "stdout",
     "output_type": "stream",
     "text": [
      "[14, 8, 20, 2, 6]\n"
     ]
    }
   ],
   "source": [
    "print(even_num)"
   ]
  },
  {
   "cell_type": "code",
   "execution_count": 90,
   "id": "7e0e5599",
   "metadata": {},
   "outputs": [
    {
     "data": {
      "text/plain": [
       "5"
      ]
     },
     "execution_count": 90,
     "metadata": {},
     "output_type": "execute_result"
    }
   ],
   "source": [
    "len(even_num)"
   ]
  },
  {
   "cell_type": "code",
   "execution_count": 91,
   "id": "b7379e75",
   "metadata": {},
   "outputs": [],
   "source": [
    "even_num.sort()      # to sort in ascending order"
   ]
  },
  {
   "cell_type": "code",
   "execution_count": 92,
   "id": "f7825a51",
   "metadata": {},
   "outputs": [
    {
     "name": "stdout",
     "output_type": "stream",
     "text": [
      "[2, 6, 8, 14, 20]\n"
     ]
    }
   ],
   "source": [
    "print(even_num)"
   ]
  },
  {
   "cell_type": "code",
   "execution_count": 93,
   "id": "ec2d8629",
   "metadata": {},
   "outputs": [
    {
     "name": "stdout",
     "output_type": "stream",
     "text": [
      "[20, 14, 8, 6, 2]\n"
     ]
    }
   ],
   "source": [
    "print(even_num[::-1])"
   ]
  },
  {
   "cell_type": "code",
   "execution_count": 106,
   "id": "1034fad1",
   "metadata": {},
   "outputs": [],
   "source": [
    "x1=[14,15,8,9,20,19,2,6]\n",
    "even_num1=[i for i in x1 if i%2==0]         # list comprehension"
   ]
  },
  {
   "cell_type": "code",
   "execution_count": null,
   "id": "d711a6b1",
   "metadata": {},
   "outputs": [],
   "source": [
    "even_num=[]\n",
    "for i in x:\n",
    "    if i%2==0:\n",
    "        even_num.append(i)"
   ]
  },
  {
   "cell_type": "code",
   "execution_count": 95,
   "id": "70e582f9",
   "metadata": {},
   "outputs": [
    {
     "name": "stdout",
     "output_type": "stream",
     "text": [
      "[14, 8, 20, 2, 6]\n"
     ]
    }
   ],
   "source": [
    "print(even_num1)"
   ]
  },
  {
   "cell_type": "code",
   "execution_count": 109,
   "id": "ea8d69d5",
   "metadata": {},
   "outputs": [],
   "source": [
    "even_num1.sort(reverse=True)       # sort in descending order"
   ]
  },
  {
   "cell_type": "code",
   "execution_count": 110,
   "id": "57cf94b3",
   "metadata": {},
   "outputs": [
    {
     "name": "stdout",
     "output_type": "stream",
     "text": [
      "[20, 14, 8, 6, 2]\n"
     ]
    }
   ],
   "source": [
    "print(even_num1)"
   ]
  },
  {
   "cell_type": "code",
   "execution_count": 111,
   "id": "759e2717",
   "metadata": {},
   "outputs": [
    {
     "name": "stdout",
     "output_type": "stream",
     "text": [
      "[250, 635, 125]\n"
     ]
    }
   ],
   "source": [
    "z=[250,254,984,635,456,12,129,125]       \n",
    "\n",
    "# find out the numbers divisible by 5    =====>>>>> 250,635,125\n",
    "z_5=[i for i in z if i%5==0]\n",
    "print(z_5)"
   ]
  },
  {
   "cell_type": "code",
   "execution_count": 112,
   "id": "c0d43680",
   "metadata": {},
   "outputs": [
    {
     "name": "stdout",
     "output_type": "stream",
     "text": [
      "[50.0, 127.0, 25.0]\n"
     ]
    }
   ],
   "source": [
    "z=[250,254,984,635,456,12,129,125]       \n",
    "\n",
    "# modified---find out the numbers divisible by 5 and divide it by 5   =====>>>>> 50,127,25\n",
    "z_5=[i/5 for i in z if i%5==0]\n",
    "print(z_5)"
   ]
  },
  {
   "cell_type": "code",
   "execution_count": 113,
   "id": "711f4be2",
   "metadata": {},
   "outputs": [],
   "source": [
    "n=4\n",
    "name=['Ubaid','Lakhan','Neha','Sonu']\n",
    "id=[101,102,103,104]\n",
    "height=[5.8,5.9,5.6,5.6]\n",
    "gender=[1,1,0,0]\n",
    "\n",
    "# info=[['Ubaid',101,5.8,1],['Lakhan',102,5.9,1],['Neha',103,5.6,0],['Sonu',104,5.6,0]]\n",
    "\n",
    "info=[]\n",
    "for i in range(n):\n",
    "    info.append([name[i],id[i],height[i],gender[i]])\n"
   ]
  },
  {
   "cell_type": "code",
   "execution_count": 114,
   "id": "c50eb9b4",
   "metadata": {},
   "outputs": [
    {
     "name": "stdout",
     "output_type": "stream",
     "text": [
      "[['Ubaid', 101, 5.8, 1], ['Lakhan', 102, 5.9, 1], ['Neha', 103, 5.6, 0], ['Sonu', 104, 5.6, 0]]\n"
     ]
    }
   ],
   "source": [
    "print(info)"
   ]
  },
  {
   "cell_type": "code",
   "execution_count": 115,
   "id": "ac435b27",
   "metadata": {},
   "outputs": [],
   "source": [
    "info1=[[name[i],id[i],height[i],gender[i]] for i in range(n)]"
   ]
  },
  {
   "cell_type": "code",
   "execution_count": 116,
   "id": "185b888f",
   "metadata": {},
   "outputs": [
    {
     "name": "stdout",
     "output_type": "stream",
     "text": [
      "[['Ubaid', 101, 5.8, 1], ['Lakhan', 102, 5.9, 1], ['Neha', 103, 5.6, 0], ['Sonu', 104, 5.6, 0]]\n"
     ]
    }
   ],
   "source": [
    "print(info1)"
   ]
  },
  {
   "cell_type": "code",
   "execution_count": null,
   "id": "ba4aa0e9",
   "metadata": {},
   "outputs": [],
   "source": []
  }
 ],
 "metadata": {
  "kernelspec": {
   "display_name": "Python 3 (ipykernel)",
   "language": "python",
   "name": "python3"
  },
  "language_info": {
   "codemirror_mode": {
    "name": "ipython",
    "version": 3
   },
   "file_extension": ".py",
   "mimetype": "text/x-python",
   "name": "python",
   "nbconvert_exporter": "python",
   "pygments_lexer": "ipython3",
   "version": "3.8.13"
  }
 },
 "nbformat": 4,
 "nbformat_minor": 5
}
