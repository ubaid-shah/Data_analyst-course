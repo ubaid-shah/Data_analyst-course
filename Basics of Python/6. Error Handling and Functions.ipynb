{
 "cells": [
  {
   "cell_type": "markdown",
   "id": "b362b2a9",
   "metadata": {},
   "source": [
    "eligiblity check for voting"
   ]
  },
  {
   "cell_type": "code",
   "execution_count": 17,
   "id": "d82d772e",
   "metadata": {},
   "outputs": [
    {
     "name": "stdout",
     "output_type": "stream",
     "text": [
      "Enter your Age: seventeen\n"
     ]
    },
    {
     "ename": "ValueError",
     "evalue": "invalid literal for int() with base 10: 'seventeen'",
     "output_type": "error",
     "traceback": [
      "\u001b[1;31m---------------------------------------------------------------------------\u001b[0m",
      "\u001b[1;31mValueError\u001b[0m                                Traceback (most recent call last)",
      "Input \u001b[1;32mIn [17]\u001b[0m, in \u001b[0;36m<cell line: 1>\u001b[1;34m()\u001b[0m\n\u001b[1;32m----> 1\u001b[0m age\u001b[38;5;241m=\u001b[39m\u001b[38;5;28;43mint\u001b[39;49m\u001b[43m(\u001b[49m\u001b[38;5;28;43minput\u001b[39;49m\u001b[43m(\u001b[49m\u001b[38;5;124;43m'\u001b[39;49m\u001b[38;5;124;43mEnter your Age: \u001b[39;49m\u001b[38;5;124;43m'\u001b[39;49m\u001b[43m)\u001b[49m\u001b[43m)\u001b[49m\n\u001b[0;32m      3\u001b[0m \u001b[38;5;28;01mif\u001b[39;00m age\u001b[38;5;241m>\u001b[39m\u001b[38;5;241m=\u001b[39m\u001b[38;5;241m18\u001b[39m:\n\u001b[0;32m      4\u001b[0m     \u001b[38;5;28mprint\u001b[39m(\u001b[38;5;124m'\u001b[39m\u001b[38;5;124mYou are eligible for voting\u001b[39m\u001b[38;5;124m'\u001b[39m)\n",
      "\u001b[1;31mValueError\u001b[0m: invalid literal for int() with base 10: 'seventeen'"
     ]
    }
   ],
   "source": [
    "age=int(input('Enter your Age: '))\n",
    "\n",
    "if age>=18:\n",
    "    print('You are eligible for voting')\n",
    "else:\n",
    "    print('You are not eligible for voting')"
   ]
  },
  {
   "cell_type": "code",
   "execution_count": 2,
   "id": "8b67876c",
   "metadata": {},
   "outputs": [
    {
     "ename": "SyntaxError",
     "evalue": "invalid syntax (383192884.py, line 4)",
     "output_type": "error",
     "traceback": [
      "\u001b[1;36m  Input \u001b[1;32mIn [2]\u001b[1;36m\u001b[0m\n\u001b[1;33m    if age 18:\u001b[0m\n\u001b[1;37m           ^\u001b[0m\n\u001b[1;31mSyntaxError\u001b[0m\u001b[1;31m:\u001b[0m invalid syntax\n"
     ]
    }
   ],
   "source": [
    "try:\n",
    "    age=int(input('Enter your Age: '))\n",
    "\n",
    "    if age 18:\n",
    "        print('You are eligible for voting')\n",
    "    else:\n",
    "        print('You are not eligible for voting')\n",
    "        \n",
    "except ValueError:\n",
    "    print('Enter only integers')\n",
    "\n",
    "except:\n",
    "    print('Enter valid input')"
   ]
  },
  {
   "cell_type": "code",
   "execution_count": 29,
   "id": "bfdf8eeb",
   "metadata": {},
   "outputs": [
    {
     "name": "stdout",
     "output_type": "stream",
     "text": [
      " enter 1 for +\n",
      "    enter 2 for -\n",
      "    enter 3 fpr *\n",
      "    enter 4 for /6\n",
      "8 9\n",
      "enter valid sequence of operation\n"
     ]
    }
   ],
   "source": [
    "try:\n",
    "    operartion= input(\"\"\" enter 1 for +\n",
    "    enter 2 for -\n",
    "    enter 3 fpr *\n",
    "    enter 4 for /\"\"\")\n",
    "\n",
    "    num1,num2=map(float,input().split())\n",
    "\n",
    "    if operartion=='1':\n",
    "        print(num1+num2)\n",
    "    \n",
    "    elif operartion=='2':\n",
    "        print(num1-num2)\n",
    "    \n",
    "    elif operartion=='3':\n",
    "        print(num1*num2)\n",
    "    \n",
    "    elif operartion=='4':\n",
    "        print(num1/num2)\n",
    "except ZeroDivisionError:\n",
    "    print('Enter num2 value other than zero')\n",
    "    \n",
    "except ValueError:\n",
    "    print('Enter numbers only')   \n",
    "    \n",
    "except:\n",
    "    print('enter valid syntax')\n",
    "    \n",
    "else:\n",
    "    print('enter valid sequence of operation')\n",
    "    "
   ]
  },
  {
   "cell_type": "code",
   "execution_count": null,
   "id": "64905712",
   "metadata": {},
   "outputs": [],
   "source": [
    "1. NameError\n",
    "2. ZeroDivisionError\n",
    "3. ValueError\n",
    "4. SyntaxError    # Exception handeling doesn't support SyntaxError"
   ]
  },
  {
   "cell_type": "code",
   "execution_count": 27,
   "id": "ea60b476",
   "metadata": {},
   "outputs": [
    {
     "ename": "SyntaxError",
     "evalue": "EOL while scanning string literal (36841377.py, line 1)",
     "output_type": "error",
     "traceback": [
      "\u001b[1;36m  Input \u001b[1;32mIn [27]\u001b[1;36m\u001b[0m\n\u001b[1;33m    print('2)\u001b[0m\n\u001b[1;37m             ^\u001b[0m\n\u001b[1;31mSyntaxError\u001b[0m\u001b[1;31m:\u001b[0m EOL while scanning string literal\n"
     ]
    }
   ],
   "source": [
    "print('2)"
   ]
  },
  {
   "cell_type": "code",
   "execution_count": 50,
   "id": "20f1de9c",
   "metadata": {},
   "outputs": [
    {
     "name": "stdout",
     "output_type": "stream",
     "text": [
      "You have an error\n"
     ]
    }
   ],
   "source": [
    "try:\n",
    "    x=2\n",
    "    y=0\n",
    "    z=x/y\n",
    "except ZeroDivisionError:\n",
    "    print('You have an error')\n",
    "\n",
    "except NameError:\n",
    "    print('enter the value of y other than zero')\n",
    "    \n",
    "except:\n",
    "    print(\"Didn't understand the error\")"
   ]
  },
  {
   "cell_type": "code",
   "execution_count": 53,
   "id": "a0576bdb",
   "metadata": {},
   "outputs": [
    {
     "ename": "Exception",
     "evalue": "kuch bhi error",
     "output_type": "error",
     "traceback": [
      "\u001b[1;31m---------------------------------------------------------------------------\u001b[0m",
      "\u001b[1;31mException\u001b[0m                                 Traceback (most recent call last)",
      "Input \u001b[1;32mIn [53]\u001b[0m, in \u001b[0;36m<cell line: 3>\u001b[1;34m()\u001b[0m\n\u001b[0;32m      1\u001b[0m x\u001b[38;5;241m=\u001b[39m\u001b[38;5;241m-\u001b[39m\u001b[38;5;241m1\u001b[39m\n\u001b[0;32m      3\u001b[0m \u001b[38;5;28;01mif\u001b[39;00m x\u001b[38;5;241m<\u001b[39m\u001b[38;5;241m0\u001b[39m:\n\u001b[1;32m----> 4\u001b[0m     \u001b[38;5;28;01mraise\u001b[39;00m \u001b[38;5;167;01mException\u001b[39;00m(\u001b[38;5;124m'\u001b[39m\u001b[38;5;124mkuch bhi error\u001b[39m\u001b[38;5;124m'\u001b[39m)\n",
      "\u001b[1;31mException\u001b[0m: kuch bhi error"
     ]
    }
   ],
   "source": [
    "x=-1\n",
    "\n",
    "if x<0:\n",
    "    raise Exception('kuch bhi error')"
   ]
  },
  {
   "cell_type": "code",
   "execution_count": 52,
   "id": "c25726d2",
   "metadata": {},
   "outputs": [
    {
     "name": "stdout",
     "output_type": "stream",
     "text": [
      "The value of x is negative\n"
     ]
    }
   ],
   "source": [
    "x=-1\n",
    "\n",
    "if x<0:\n",
    "    print('The value of x is negative')"
   ]
  },
  {
   "cell_type": "code",
   "execution_count": 60,
   "id": "07d8d853",
   "metadata": {},
   "outputs": [
    {
     "ename": "Exception",
     "evalue": "mujhe nahi chahiye 1000 rupaye, Mujhe do iPhone 13 pro max leke",
     "output_type": "error",
     "traceback": [
      "\u001b[1;31m---------------------------------------------------------------------------\u001b[0m",
      "\u001b[1;31mException\u001b[0m                                 Traceback (most recent call last)",
      "Input \u001b[1;32mIn [60]\u001b[0m, in \u001b[0;36m<cell line: 3>\u001b[1;34m()\u001b[0m\n\u001b[0;32m      1\u001b[0m x\u001b[38;5;241m=\u001b[39m\u001b[38;5;241m1000\u001b[39m\n\u001b[0;32m      3\u001b[0m \u001b[38;5;28;01mif\u001b[39;00m x\u001b[38;5;241m==\u001b[39m\u001b[38;5;241m1000\u001b[39m:\n\u001b[1;32m----> 4\u001b[0m     \u001b[38;5;28;01mraise\u001b[39;00m \u001b[38;5;167;01mException\u001b[39;00m(\u001b[38;5;124m'\u001b[39m\u001b[38;5;124mmujhe nahi chahiye 1000 rupaye, Mujhe do iPhone 13 pro max leke\u001b[39m\u001b[38;5;124m'\u001b[39m)\n",
      "\u001b[1;31mException\u001b[0m: mujhe nahi chahiye 1000 rupaye, Mujhe do iPhone 13 pro max leke"
     ]
    }
   ],
   "source": [
    "x=1000\n",
    "\n",
    "if x==1000:\n",
    "    raise Exception('mujhe nahi chahiye 1000 rupaye, Mujhe do iPhone 13 pro max leke')"
   ]
  },
  {
   "cell_type": "markdown",
   "id": "36b1fba9",
   "metadata": {},
   "source": [
    "# Functions"
   ]
  },
  {
   "cell_type": "code",
   "execution_count": 61,
   "id": "776d7c9f",
   "metadata": {},
   "outputs": [
    {
     "name": "stdout",
     "output_type": "stream",
     "text": [
      "x\n"
     ]
    }
   ],
   "source": [
    "print('x')"
   ]
  },
  {
   "cell_type": "code",
   "execution_count": 62,
   "id": "34d7be37",
   "metadata": {},
   "outputs": [],
   "source": [
    "def function_ka_naam():\n",
    "    print('Happy holi')"
   ]
  },
  {
   "cell_type": "code",
   "execution_count": 63,
   "id": "de6af40d",
   "metadata": {},
   "outputs": [
    {
     "name": "stdout",
     "output_type": "stream",
     "text": [
      "Happy holi\n"
     ]
    }
   ],
   "source": [
    "function_ka_naam()"
   ]
  },
  {
   "cell_type": "code",
   "execution_count": 64,
   "id": "e7c220c7",
   "metadata": {},
   "outputs": [],
   "source": [
    "def arithmatic_ops(num1,num2):\n",
    "    print('Addition',num1+num2)\n",
    "    print('subtraction',num1-num2)\n",
    "    print('mult',num1*num2)\n",
    "    print('div',num1/num2)"
   ]
  },
  {
   "cell_type": "code",
   "execution_count": 68,
   "id": "ca3b9465",
   "metadata": {},
   "outputs": [
    {
     "name": "stdout",
     "output_type": "stream",
     "text": [
      "Addition 20.3\n",
      "subtraction 10.3\n",
      "mult 76.5\n",
      "div 3.06\n"
     ]
    }
   ],
   "source": [
    "arithmatic_ops(15.3,5)"
   ]
  },
  {
   "cell_type": "code",
   "execution_count": 69,
   "id": "b0c33067",
   "metadata": {},
   "outputs": [],
   "source": [
    "def weight(gm):\n",
    "    print('Weight is {} kg'.format(gm1/1000))\n",
    "    "
   ]
  },
  {
   "cell_type": "code",
   "execution_count": 73,
   "id": "50f6580c",
   "metadata": {},
   "outputs": [
    {
     "name": "stdout",
     "output_type": "stream",
     "text": [
      "Weight is 0.5 kg\n"
     ]
    }
   ],
   "source": [
    "weight(500)"
   ]
  },
  {
   "cell_type": "code",
   "execution_count": 74,
   "id": "c11e5fa6",
   "metadata": {},
   "outputs": [
    {
     "name": "stdout",
     "output_type": "stream",
     "text": [
      "enter value in grams800\n",
      "Weight is 0.8 kg\n"
     ]
    }
   ],
   "source": [
    "gm=float(input('enter value in grams'))\n",
    "weight(gm)"
   ]
  },
  {
   "cell_type": "code",
   "execution_count": 75,
   "id": "31c02b62",
   "metadata": {},
   "outputs": [
    {
     "name": "stdout",
     "output_type": "stream",
     "text": [
      "enter value in grams1700\n",
      "Weight is 1.7 kg\n"
     ]
    }
   ],
   "source": [
    "agm=float(input('enter value in grams'))\n",
    "weight(agm)"
   ]
  },
  {
   "cell_type": "code",
   "execution_count": 78,
   "id": "c3a50b06",
   "metadata": {},
   "outputs": [
    {
     "name": "stdout",
     "output_type": "stream",
     "text": [
      "100\n"
     ]
    },
    {
     "ename": "NameError",
     "evalue": "name 'z' is not defined",
     "output_type": "error",
     "traceback": [
      "\u001b[1;31m---------------------------------------------------------------------------\u001b[0m",
      "\u001b[1;31mNameError\u001b[0m                                 Traceback (most recent call last)",
      "Input \u001b[1;32mIn [78]\u001b[0m, in \u001b[0;36m<cell line: 10>\u001b[1;34m()\u001b[0m\n\u001b[0;32m      6\u001b[0m     \u001b[38;5;28;01mreturn\u001b[39;00m z\n\u001b[0;32m      9\u001b[0m \u001b[38;5;28mprint\u001b[39m(x)  \u001b[38;5;66;03m# 10\u001b[39;00m\n\u001b[1;32m---> 10\u001b[0m \u001b[38;5;28mprint\u001b[39m(\u001b[43mz\u001b[49m)\n",
      "\u001b[1;31mNameError\u001b[0m: name 'z' is not defined"
     ]
    }
   ],
   "source": [
    "x=100\n",
    "def hundred_days_of_summer():\n",
    "    x=10\n",
    "    z=x/5\n",
    "    \n",
    "    return z\n",
    "\n",
    "\n",
    "print(x)  # 10\n",
    "print(z)  # 2.0"
   ]
  },
  {
   "cell_type": "code",
   "execution_count": 80,
   "id": "6fb17c2f",
   "metadata": {},
   "outputs": [
    {
     "name": "stdout",
     "output_type": "stream",
     "text": [
      "100\n",
      "10000\n",
      "abc\n"
     ]
    }
   ],
   "source": [
    "x=100       # Global Variable\n",
    "z=10000\n",
    "q='abc'\n",
    "\n",
    "\n",
    "def hundred_days_of_summer():\n",
    "    x=10     # Local variables\n",
    "    z=x/5\n",
    "    q=z*5\n",
    "    \n",
    "    return z,q\n",
    "\n",
    "\n",
    "\n",
    "\n",
    "print(x)  # 10\n",
    "print(z)  # 2.0\n",
    "print(q)"
   ]
  },
  {
   "cell_type": "code",
   "execution_count": 81,
   "id": "1f8fa3ad",
   "metadata": {},
   "outputs": [
    {
     "data": {
      "text/plain": [
       "(2.0, 10.0)"
      ]
     },
     "execution_count": 81,
     "metadata": {},
     "output_type": "execute_result"
    }
   ],
   "source": [
    "hundred_days_of_summer()"
   ]
  },
  {
   "cell_type": "code",
   "execution_count": 13,
   "id": "d513eb0a",
   "metadata": {},
   "outputs": [
    {
     "name": "stdout",
     "output_type": "stream",
     "text": [
      "100\n",
      "10000\n",
      "abc\n"
     ]
    }
   ],
   "source": [
    "x=100       # Global Variable\n",
    "z=10000\n",
    "q='abc'\n",
    "\n",
    "\n",
    "def hundred_days_of_summer():\n",
    "    global x\n",
    "    x=10     # Local variables\n",
    "    z=x/5\n",
    "    q=z*5\n",
    "    \n",
    "    return z,q,x\n",
    "\n",
    "\n",
    "\n",
    "\n",
    "print(x)  # 10\n",
    "print(z)  # 2.0\n",
    "print(q)"
   ]
  },
  {
   "cell_type": "code",
   "execution_count": 14,
   "id": "929bb7f6",
   "metadata": {},
   "outputs": [
    {
     "data": {
      "text/plain": [
       "100"
      ]
     },
     "execution_count": 14,
     "metadata": {},
     "output_type": "execute_result"
    }
   ],
   "source": [
    "x"
   ]
  },
  {
   "cell_type": "code",
   "execution_count": 15,
   "id": "be564461",
   "metadata": {},
   "outputs": [
    {
     "data": {
      "text/plain": [
       "10000"
      ]
     },
     "execution_count": 15,
     "metadata": {},
     "output_type": "execute_result"
    }
   ],
   "source": [
    "z"
   ]
  },
  {
   "cell_type": "code",
   "execution_count": 16,
   "id": "ca3a33c8",
   "metadata": {},
   "outputs": [
    {
     "data": {
      "text/plain": [
       "'abc'"
      ]
     },
     "execution_count": 16,
     "metadata": {},
     "output_type": "execute_result"
    }
   ],
   "source": [
    "q"
   ]
  },
  {
   "cell_type": "code",
   "execution_count": 17,
   "id": "4c55a27e",
   "metadata": {},
   "outputs": [
    {
     "data": {
      "text/plain": [
       "(2.0, 10.0, 10)"
      ]
     },
     "execution_count": 17,
     "metadata": {},
     "output_type": "execute_result"
    }
   ],
   "source": [
    "hundred_days_of_summer()"
   ]
  },
  {
   "cell_type": "code",
   "execution_count": 18,
   "id": "52a37c1d",
   "metadata": {},
   "outputs": [
    {
     "data": {
      "text/plain": [
       "10"
      ]
     },
     "execution_count": 18,
     "metadata": {},
     "output_type": "execute_result"
    }
   ],
   "source": [
    "x"
   ]
  },
  {
   "cell_type": "code",
   "execution_count": 19,
   "id": "0e70116b",
   "metadata": {},
   "outputs": [
    {
     "data": {
      "text/plain": [
       "10000"
      ]
     },
     "execution_count": 19,
     "metadata": {},
     "output_type": "execute_result"
    }
   ],
   "source": [
    "z"
   ]
  },
  {
   "cell_type": "code",
   "execution_count": 20,
   "id": "89d59ee3",
   "metadata": {},
   "outputs": [
    {
     "data": {
      "text/plain": [
       "'abc'"
      ]
     },
     "execution_count": 20,
     "metadata": {},
     "output_type": "execute_result"
    }
   ],
   "source": [
    "q"
   ]
  },
  {
   "cell_type": "code",
   "execution_count": 40,
   "id": "e55db138",
   "metadata": {},
   "outputs": [],
   "source": [
    "def bmi_calculator(w,h):\n",
    "    bmi=w/(h**2)\n",
    "    if bmi <=18.5:\n",
    "        print('You are Underweight')\n",
    "    \n",
    "    elif bmi >= 18.5 and bmi<=24.9:\n",
    "        print(\"You have Normal weight\")\n",
    "        \n",
    "    elif bmi>=25 and bmi<=29.9:\n",
    "        print('You are Overweight')\n",
    "    elif bmi>30:\n",
    "        print('Kam kha mote phat jayega')\n",
    "    \n"
   ]
  },
  {
   "cell_type": "code",
   "execution_count": 43,
   "id": "7f4dd65d",
   "metadata": {},
   "outputs": [
    {
     "name": "stdout",
     "output_type": "stream",
     "text": [
      "Enter your weight in kgs: 70\n",
      "Enter your height in m: 1.76\n"
     ]
    }
   ],
   "source": [
    "w=float(input('Enter your weight in kgs: '))\n",
    "h=float(input('Enter your height in m: '))"
   ]
  },
  {
   "cell_type": "code",
   "execution_count": 44,
   "id": "53e0e872",
   "metadata": {},
   "outputs": [
    {
     "name": "stdout",
     "output_type": "stream",
     "text": [
      "You have Normal weight\n"
     ]
    }
   ],
   "source": [
    "bmi_calculator(w,h)"
   ]
  },
  {
   "cell_type": "code",
   "execution_count": null,
   "id": "e432abb4",
   "metadata": {},
   "outputs": [],
   "source": []
  }
 ],
 "metadata": {
  "kernelspec": {
   "display_name": "Python 3 (ipykernel)",
   "language": "python",
   "name": "python3"
  },
  "language_info": {
   "codemirror_mode": {
    "name": "ipython",
    "version": 3
   },
   "file_extension": ".py",
   "mimetype": "text/x-python",
   "name": "python",
   "nbconvert_exporter": "python",
   "pygments_lexer": "ipython3",
   "version": "3.8.13"
  }
 },
 "nbformat": 4,
 "nbformat_minor": 5
}
