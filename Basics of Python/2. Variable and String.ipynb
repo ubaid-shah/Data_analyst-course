{
 "cells": [
  {
   "cell_type": "code",
   "execution_count": 5,
   "id": "d8e7c1b7",
   "metadata": {},
   "outputs": [],
   "source": [
    "FirstName='Lakhan'    # Pascal\n",
    "\n",
    "lastName='Naik'      # camel\n",
    "\n",
    "full_name= FirstName+' '+lastName   # snake  # concatenation"
   ]
  },
  {
   "cell_type": "code",
   "execution_count": 6,
   "id": "619417e0",
   "metadata": {},
   "outputs": [
    {
     "name": "stdout",
     "output_type": "stream",
     "text": [
      "Lakhan Naik\n"
     ]
    }
   ],
   "source": [
    "print(full_name)"
   ]
  },
  {
   "cell_type": "code",
   "execution_count": 7,
   "id": "365f79fb",
   "metadata": {},
   "outputs": [
    {
     "name": "stdout",
     "output_type": "stream",
     "text": [
      "Lakhan\n"
     ]
    }
   ],
   "source": [
    "print(FirstName)"
   ]
  },
  {
   "cell_type": "code",
   "execution_count": 8,
   "id": "72e50424",
   "metadata": {},
   "outputs": [
    {
     "ename": "NameError",
     "evalue": "name 'firstname' is not defined",
     "output_type": "error",
     "traceback": [
      "\u001b[1;31m---------------------------------------------------------------------------\u001b[0m",
      "\u001b[1;31mNameError\u001b[0m                                 Traceback (most recent call last)",
      "\u001b[1;32m<ipython-input-8-aa64a3f43f47>\u001b[0m in \u001b[0;36m<module>\u001b[1;34m\u001b[0m\n\u001b[1;32m----> 1\u001b[1;33m \u001b[0mprint\u001b[0m\u001b[1;33m(\u001b[0m\u001b[0mfirstname\u001b[0m\u001b[1;33m)\u001b[0m\u001b[1;33m\u001b[0m\u001b[1;33m\u001b[0m\u001b[0m\n\u001b[0m",
      "\u001b[1;31mNameError\u001b[0m: name 'firstname' is not defined"
     ]
    }
   ],
   "source": [
    "print(firstname)"
   ]
  },
  {
   "cell_type": "code",
   "execution_count": 11,
   "id": "da47c626",
   "metadata": {},
   "outputs": [],
   "source": [
    "FirstName= 'Daya'"
   ]
  },
  {
   "cell_type": "code",
   "execution_count": 13,
   "id": "e3aaacdc",
   "metadata": {},
   "outputs": [],
   "source": [
    "full_name= FirstName+' '+lastName "
   ]
  },
  {
   "cell_type": "code",
   "execution_count": 14,
   "id": "30c70890",
   "metadata": {},
   "outputs": [
    {
     "name": "stdout",
     "output_type": "stream",
     "text": [
      "Daya Naik\n"
     ]
    }
   ],
   "source": [
    "print(full_name)"
   ]
  },
  {
   "cell_type": "code",
   "execution_count": 15,
   "id": "948034c3",
   "metadata": {},
   "outputs": [
    {
     "name": "stdout",
     "output_type": "stream",
     "text": [
      "Enter your first name: Ubaid\n",
      "Enter your last name: Shah\n"
     ]
    }
   ],
   "source": [
    "FirstName=input('Enter your first name: ')\n",
    "LastName=input('Enter your last name: ')\n",
    "FullName=FirstName+' '+LastName"
   ]
  },
  {
   "cell_type": "code",
   "execution_count": 18,
   "id": "4f9e455a",
   "metadata": {},
   "outputs": [
    {
     "name": "stdout",
     "output_type": "stream",
     "text": [
      "Lakhan Naik\n"
     ]
    }
   ],
   "source": [
    "print(FullName)"
   ]
  },
  {
   "cell_type": "code",
   "execution_count": 17,
   "id": "1f3324dc",
   "metadata": {},
   "outputs": [
    {
     "name": "stdout",
     "output_type": "stream",
     "text": [
      "Lakhan\n",
      "Naik\n"
     ]
    }
   ],
   "source": [
    "FirstName=input()\n",
    "LastName=input()\n",
    "FullName=FirstName+' '+LastName"
   ]
  },
  {
   "cell_type": "code",
   "execution_count": 19,
   "id": "de428304",
   "metadata": {},
   "outputs": [
    {
     "name": "stdout",
     "output_type": "stream",
     "text": [
      "MangoDoly\n"
     ]
    }
   ],
   "source": [
    "x1='Mango'\n",
    "x2='Doly'\n",
    "print(x1+x2)\n"
   ]
  },
  {
   "cell_type": "code",
   "execution_count": 21,
   "id": "fa553f7e",
   "metadata": {},
   "outputs": [
    {
     "ename": "SyntaxError",
     "evalue": "invalid decimal literal (<ipython-input-21-2a34744168ed>, line 1)",
     "output_type": "error",
     "traceback": [
      "\u001b[1;36m  File \u001b[1;32m\"<ipython-input-21-2a34744168ed>\"\u001b[1;36m, line \u001b[1;32m1\u001b[0m\n\u001b[1;33m    1_x='Mango'\u001b[0m\n\u001b[1;37m     ^\u001b[0m\n\u001b[1;31mSyntaxError\u001b[0m\u001b[1;31m:\u001b[0m invalid decimal literal\n"
     ]
    }
   ],
   "source": [
    "1_x='Mango'"
   ]
  },
  {
   "cell_type": "code",
   "execution_count": 22,
   "id": "9ba731a8",
   "metadata": {},
   "outputs": [],
   "source": [
    "_x1='Mango'"
   ]
  },
  {
   "cell_type": "code",
   "execution_count": 23,
   "id": "71eba02d",
   "metadata": {},
   "outputs": [
    {
     "data": {
      "text/plain": [
       "'Mango'"
      ]
     },
     "execution_count": 23,
     "metadata": {},
     "output_type": "execute_result"
    }
   ],
   "source": [
    "_x1"
   ]
  },
  {
   "cell_type": "code",
   "execution_count": 24,
   "id": "75b82542",
   "metadata": {},
   "outputs": [],
   "source": [
    "a='New'\n",
    "b='course'\n",
    "\n",
    "c=a+' '+b+' strarting from today.'"
   ]
  },
  {
   "cell_type": "code",
   "execution_count": 25,
   "id": "388ec3ec",
   "metadata": {},
   "outputs": [
    {
     "name": "stdout",
     "output_type": "stream",
     "text": [
      "New course strarting from today.\n"
     ]
    }
   ],
   "source": [
    "print(c)"
   ]
  },
  {
   "cell_type": "code",
   "execution_count": 26,
   "id": "f62e9511",
   "metadata": {},
   "outputs": [
    {
     "name": "stdout",
     "output_type": "stream",
     "text": [
      "New course strarting from today.Let's begin\n"
     ]
    }
   ],
   "source": [
    "print(a+' '+b+\" strarting from today.Let's begin\")"
   ]
  },
  {
   "cell_type": "markdown",
   "id": "e97984b3",
   "metadata": {},
   "source": [
    "## String Formatting"
   ]
  },
  {
   "cell_type": "code",
   "execution_count": 27,
   "id": "e33167f3",
   "metadata": {},
   "outputs": [
    {
     "name": "stdout",
     "output_type": "stream",
     "text": [
      "New course starting from today. Let's begin.\n"
     ]
    }
   ],
   "source": [
    "print(\"{} {} starting from today. Let's begin.\".format(a,b))"
   ]
  },
  {
   "cell_type": "code",
   "execution_count": 28,
   "id": "7c58c27f",
   "metadata": {},
   "outputs": [
    {
     "name": "stdout",
     "output_type": "stream",
     "text": [
      "When we add 5 to 10 we got 15\n"
     ]
    }
   ],
   "source": [
    "x=5\n",
    "y=10\n",
    "\n",
    "print('When we add {} to {} we got {}'.format(x,y,x+y))"
   ]
  },
  {
   "cell_type": "code",
   "execution_count": 35,
   "id": "3021167a",
   "metadata": {},
   "outputs": [
    {
     "name": "stdout",
     "output_type": "stream",
     "text": [
      "When we add 5 to 10 we got 15.\n",
      "When we divide 10 by 5 we got 2.0\n"
     ]
    }
   ],
   "source": [
    "x=5\n",
    "y=10\n",
    "\n",
    "print('When we add {0} to {1} we got {2}.\\nWhen we divide {1} by {0} we got {3}'.format(x,y,x+y,y/x))"
   ]
  },
  {
   "cell_type": "code",
   "execution_count": 31,
   "id": "e2f8189b",
   "metadata": {},
   "outputs": [
    {
     "name": "stdout",
     "output_type": "stream",
     "text": [
      "When we add 5 to 10 we got 15.When we divide 10 by 5 we got 2.0\n"
     ]
    }
   ],
   "source": [
    "print('''When we add {0} to {1} we got {2}.When we divide {1} by {0} we got {3}'''.format(x,y,x+y,y/x))"
   ]
  },
  {
   "cell_type": "code",
   "execution_count": 37,
   "id": "c3151f19",
   "metadata": {},
   "outputs": [
    {
     "name": "stdout",
     "output_type": "stream",
     "text": [
      "When we add 5 to 10 we got 15.\n"
     ]
    }
   ],
   "source": [
    "print('When we add %d to %d we got %d.'%(x,y,x+y))"
   ]
  },
  {
   "cell_type": "code",
   "execution_count": 38,
   "id": "69ae712f",
   "metadata": {},
   "outputs": [
    {
     "name": "stdout",
     "output_type": "stream",
     "text": [
      "3.3333333333333335\n"
     ]
    }
   ],
   "source": [
    "a=10\n",
    "b=3\n",
    "c=a/b\n",
    "print(c)"
   ]
  },
  {
   "cell_type": "code",
   "execution_count": 40,
   "id": "3ae833ae",
   "metadata": {},
   "outputs": [
    {
     "name": "stdout",
     "output_type": "stream",
     "text": [
      "When we divide 10 by 3 then we got 3\n"
     ]
    }
   ],
   "source": [
    "print('When we divide %d by %d then we got %d'%(a,b,c))"
   ]
  },
  {
   "cell_type": "code",
   "execution_count": 41,
   "id": "73f58569",
   "metadata": {},
   "outputs": [
    {
     "name": "stdout",
     "output_type": "stream",
     "text": [
      "When we divide 10 by 3 then we got 3.333333\n"
     ]
    }
   ],
   "source": [
    "print('When we divide %d by %d then we got %f'%(a,b,c))"
   ]
  },
  {
   "cell_type": "code",
   "execution_count": 45,
   "id": "4db6541f",
   "metadata": {},
   "outputs": [
    {
     "name": "stdout",
     "output_type": "stream",
     "text": [
      "When we divide 10 by 3 then we got 3.3333\n"
     ]
    }
   ],
   "source": [
    "print('When we divide %d by %d then we got %.4f'%(a,b,c))"
   ]
  },
  {
   "cell_type": "code",
   "execution_count": 54,
   "id": "3bb7f956",
   "metadata": {},
   "outputs": [
    {
     "name": "stdout",
     "output_type": "stream",
     "text": [
      "When we divide 10 by 3 then we got 3\n"
     ]
    }
   ],
   "source": [
    "print('When we divide {} by {} then we got {:.0f}'.format(a,b,c))"
   ]
  },
  {
   "cell_type": "code",
   "execution_count": 61,
   "id": "963cff8e",
   "metadata": {},
   "outputs": [
    {
     "name": "stdout",
     "output_type": "stream",
     "text": [
      "The perimeter of this site is 77\n"
     ]
    }
   ],
   "source": [
    "N=15.56\n",
    "E=18.963\n",
    "W=20.8\n",
    "S=21.365\n",
    "\n",
    "p=N+E+W+S\n",
    "\n",
    "print('The perimeter of this site is %.0f'%(p))"
   ]
  },
  {
   "cell_type": "code",
   "execution_count": 58,
   "id": "8556e189",
   "metadata": {},
   "outputs": [
    {
     "data": {
      "text/plain": [
       "76.688"
      ]
     },
     "execution_count": 58,
     "metadata": {},
     "output_type": "execute_result"
    }
   ],
   "source": [
    "p"
   ]
  },
  {
   "cell_type": "code",
   "execution_count": 62,
   "id": "febdff24",
   "metadata": {},
   "outputs": [
    {
     "name": "stdout",
     "output_type": "stream",
     "text": [
      "http://localhost:8888/notebooks/Downloads/DA%20Training/Variable%20and%20String.ipynb\n"
     ]
    }
   ],
   "source": [
    "print('http://localhost:8888/notebooks/Downloads/DA%20Training/Variable%20and%20String.ipynb')"
   ]
  },
  {
   "cell_type": "code",
   "execution_count": 63,
   "id": "338b8ded",
   "metadata": {},
   "outputs": [
    {
     "name": "stdout",
     "output_type": "stream",
     "text": [
      "http://localhost:8888/notebooks/Downloads/DA%20Training/Variable%20and%20String.ipynb\n"
     ]
    }
   ],
   "source": [
    "print(r'http://localhost:8888/notebooks/Downloads/DA%20Training/Variable%20and%20String.ipynb')"
   ]
  },
  {
   "cell_type": "code",
   "execution_count": 65,
   "id": "c0d5ee98",
   "metadata": {},
   "outputs": [
    {
     "name": "stdout",
     "output_type": "stream",
     "text": [
      "C:\\Users\\Ubaid Shah\\OneDrive\\Documents\\\\zoom\\2022-07-28 21.34.28 ubaid shahs zoom meeting\n"
     ]
    }
   ],
   "source": [
    "print('C:\\\\Users\\\\Ubaid Shah\\\\OneDrive\\\\Documents\\\\\\zoom\\\\2022-07-28 21.34.28 ubaid shahs zoom meeting')"
   ]
  },
  {
   "cell_type": "code",
   "execution_count": 67,
   "id": "ff4a99bb",
   "metadata": {},
   "outputs": [
    {
     "name": "stdout",
     "output_type": "stream",
     "text": [
      "C:\\Users\\Ubaid Shah\\OneDrive\\Documents\\zoom\\2022-07-28 21.34.28 ubaid shahs zoom meeting\n"
     ]
    }
   ],
   "source": [
    "print(r'C:\\Users\\Ubaid Shah\\OneDrive\\Documents\\zoom\\2022-07-28 21.34.28 ubaid shahs zoom meeting')"
   ]
  },
  {
   "cell_type": "code",
   "execution_count": 69,
   "id": "4bc653df",
   "metadata": {},
   "outputs": [
    {
     "name": "stdout",
     "output_type": "stream",
     "text": [
      "C:\\Users\\Ubaid Shah\\OneDrive\\Documents\\zoom\\2022-07-28 21.34.28 ubaid shah's zoom meeting\n"
     ]
    }
   ],
   "source": [
    "print(r'''C:\\Users\\Ubaid Shah\\OneDrive\\Documents\\zoom\\2022-07-28 21.34.28 ubaid shah's zoom meeting''')"
   ]
  },
  {
   "cell_type": "code",
   "execution_count": 71,
   "id": "03ad542c",
   "metadata": {},
   "outputs": [],
   "source": [
    "local_dir=r'C:\\Users\\Ubaid Shah\\OneDrive\\Documents\\zoom\\2022-07-28 21.34.28 ubaid shahs zoom meeting'"
   ]
  },
  {
   "cell_type": "code",
   "execution_count": 72,
   "id": "b42a3665",
   "metadata": {},
   "outputs": [
    {
     "data": {
      "text/plain": [
       "str"
      ]
     },
     "execution_count": 72,
     "metadata": {},
     "output_type": "execute_result"
    }
   ],
   "source": [
    "type(local_dir)"
   ]
  },
  {
   "cell_type": "code",
   "execution_count": 73,
   "id": "06bf62d3",
   "metadata": {},
   "outputs": [
    {
     "name": "stdout",
     "output_type": "stream",
     "text": [
      "<class 'str'>\n"
     ]
    }
   ],
   "source": [
    "print(type(local_dir))"
   ]
  },
  {
   "cell_type": "code",
   "execution_count": 74,
   "id": "fba5392e",
   "metadata": {},
   "outputs": [],
   "source": [
    "local_host='http://localhost:8888/notebooks/Downloads/DA%20Training/Variable%20and%20String.ipynb'"
   ]
  },
  {
   "cell_type": "code",
   "execution_count": 75,
   "id": "543bf0f1",
   "metadata": {},
   "outputs": [
    {
     "name": "stdout",
     "output_type": "stream",
     "text": [
      "<class 'str'>\n"
     ]
    }
   ],
   "source": [
    "print(type(local_host))"
   ]
  },
  {
   "cell_type": "code",
   "execution_count": 76,
   "id": "bdfc246e",
   "metadata": {},
   "outputs": [
    {
     "data": {
      "text/plain": [
       "True"
      ]
     },
     "execution_count": 76,
     "metadata": {},
     "output_type": "execute_result"
    }
   ],
   "source": [
    "'notebooks' in local_host"
   ]
  },
  {
   "cell_type": "code",
   "execution_count": 77,
   "id": "747991f0",
   "metadata": {},
   "outputs": [
    {
     "name": "stderr",
     "output_type": "stream",
     "text": [
      "<>:1: SyntaxWarning: \"is\" with a literal. Did you mean \"==\"?\n",
      "<>:1: SyntaxWarning: \"is\" with a literal. Did you mean \"==\"?\n",
      "<ipython-input-77-da50376859f3>:1: SyntaxWarning: \"is\" with a literal. Did you mean \"==\"?\n",
      "  'x' is 'x'\n"
     ]
    },
    {
     "data": {
      "text/plain": [
       "True"
      ]
     },
     "execution_count": 77,
     "metadata": {},
     "output_type": "execute_result"
    }
   ],
   "source": [
    "'x' is 'x'"
   ]
  },
  {
   "cell_type": "code",
   "execution_count": 78,
   "id": "c243b86b",
   "metadata": {},
   "outputs": [
    {
     "name": "stderr",
     "output_type": "stream",
     "text": [
      "<>:1: SyntaxWarning: \"is\" with a literal. Did you mean \"==\"?\n",
      "<>:1: SyntaxWarning: \"is\" with a literal. Did you mean \"==\"?\n",
      "<ipython-input-78-d8fbaf9114c6>:1: SyntaxWarning: \"is\" with a literal. Did you mean \"==\"?\n",
      "  'x' is 'X'\n"
     ]
    },
    {
     "data": {
      "text/plain": [
       "False"
      ]
     },
     "execution_count": 78,
     "metadata": {},
     "output_type": "execute_result"
    }
   ],
   "source": [
    "'x' is 'X'"
   ]
  },
  {
   "cell_type": "code",
   "execution_count": 79,
   "id": "92516d79",
   "metadata": {},
   "outputs": [
    {
     "name": "stderr",
     "output_type": "stream",
     "text": [
      "<>:3: SyntaxWarning: \"is\" with a literal. Did you mean \"==\"?\n",
      "<>:3: SyntaxWarning: \"is\" with a literal. Did you mean \"==\"?\n",
      "<ipython-input-79-b73ed6dc2593>:3: SyntaxWarning: \"is\" with a literal. Did you mean \"==\"?\n",
      "  x is 'x'\n"
     ]
    },
    {
     "data": {
      "text/plain": [
       "False"
      ]
     },
     "execution_count": 79,
     "metadata": {},
     "output_type": "execute_result"
    }
   ],
   "source": [
    "x=1\n",
    "\n",
    "x is 'x'"
   ]
  },
  {
   "cell_type": "code",
   "execution_count": 80,
   "id": "c5d4f1d3",
   "metadata": {},
   "outputs": [
    {
     "name": "stderr",
     "output_type": "stream",
     "text": [
      "<>:2: SyntaxWarning: \"is\" with a literal. Did you mean \"==\"?\n",
      "<>:2: SyntaxWarning: \"is\" with a literal. Did you mean \"==\"?\n",
      "<ipython-input-80-fbc8eff57603>:2: SyntaxWarning: \"is\" with a literal. Did you mean \"==\"?\n",
      "  x is 'x'\n"
     ]
    },
    {
     "data": {
      "text/plain": [
       "True"
      ]
     },
     "execution_count": 80,
     "metadata": {},
     "output_type": "execute_result"
    }
   ],
   "source": [
    "x='x'\n",
    "x is 'x'"
   ]
  },
  {
   "cell_type": "code",
   "execution_count": 81,
   "id": "e2ebf667",
   "metadata": {},
   "outputs": [
    {
     "data": {
      "text/plain": [
       "'X'"
      ]
     },
     "execution_count": 81,
     "metadata": {},
     "output_type": "execute_result"
    }
   ],
   "source": [
    "'x'.upper()"
   ]
  },
  {
   "cell_type": "code",
   "execution_count": 82,
   "id": "99c44386",
   "metadata": {},
   "outputs": [
    {
     "data": {
      "text/plain": [
       "'apple'"
      ]
     },
     "execution_count": 82,
     "metadata": {},
     "output_type": "execute_result"
    }
   ],
   "source": [
    "'APPLE'.lower()"
   ]
  },
  {
   "cell_type": "code",
   "execution_count": 83,
   "id": "7d94f876",
   "metadata": {},
   "outputs": [
    {
     "data": {
      "text/plain": [
       "'Apples Are Red'"
      ]
     },
     "execution_count": 83,
     "metadata": {},
     "output_type": "execute_result"
    }
   ],
   "source": [
    "'APPLES ARE RED'.title()"
   ]
  },
  {
   "cell_type": "code",
   "execution_count": 85,
   "id": "9b64852a",
   "metadata": {},
   "outputs": [
    {
     "data": {
      "text/plain": [
       "'Apples are red.banana is yellow'"
      ]
     },
     "execution_count": 85,
     "metadata": {},
     "output_type": "execute_result"
    }
   ],
   "source": [
    "'APPLES ARE RED.banana is yellow'.capitalize()"
   ]
  },
  {
   "cell_type": "code",
   "execution_count": 87,
   "id": "7a9a00f4",
   "metadata": {},
   "outputs": [],
   "source": [
    "sent='APPLES ARE RED.banana is yellow'.split('.')"
   ]
  },
  {
   "cell_type": "code",
   "execution_count": 93,
   "id": "c5815afd",
   "metadata": {},
   "outputs": [],
   "source": [
    "a=sent[0].capitalize()"
   ]
  },
  {
   "cell_type": "code",
   "execution_count": 90,
   "id": "532ef8c2",
   "metadata": {},
   "outputs": [],
   "source": [
    "b=sent[1].capitalize()"
   ]
  },
  {
   "cell_type": "code",
   "execution_count": 94,
   "id": "eeb0eb3c",
   "metadata": {},
   "outputs": [
    {
     "data": {
      "text/plain": [
       "'Apples are red.Banana is yellow.'"
      ]
     },
     "execution_count": 94,
     "metadata": {},
     "output_type": "execute_result"
    }
   ],
   "source": [
    "a+'.'+b+'.'"
   ]
  },
  {
   "cell_type": "code",
   "execution_count": 95,
   "id": "3b9d33d0",
   "metadata": {},
   "outputs": [
    {
     "data": {
      "text/plain": [
       "14"
      ]
     },
     "execution_count": 95,
     "metadata": {},
     "output_type": "execute_result"
    }
   ],
   "source": [
    "len(a)"
   ]
  },
  {
   "cell_type": "code",
   "execution_count": 96,
   "id": "2c039be8",
   "metadata": {},
   "outputs": [
    {
     "data": {
      "text/plain": [
       "16"
      ]
     },
     "execution_count": 96,
     "metadata": {},
     "output_type": "execute_result"
    }
   ],
   "source": [
    "len(b)"
   ]
  },
  {
   "cell_type": "code",
   "execution_count": 100,
   "id": "118184e4",
   "metadata": {},
   "outputs": [
    {
     "data": {
      "text/plain": [
       "'A.p.p.l.e'"
      ]
     },
     "execution_count": 100,
     "metadata": {},
     "output_type": "execute_result"
    }
   ],
   "source": [
    "'.'.join('Apple')"
   ]
  },
  {
   "cell_type": "code",
   "execution_count": 101,
   "id": "bdfb1c5b",
   "metadata": {},
   "outputs": [
    {
     "data": {
      "text/plain": [
       "'A.P.P.L.E.S. .A.R.E. .R.E.D...b.a.n.a.n.a. .i.s. .y.e.l.l.o.w'"
      ]
     },
     "execution_count": 101,
     "metadata": {},
     "output_type": "execute_result"
    }
   ],
   "source": [
    "sent1='APPLES ARE RED.banana is yellow'\n",
    "'.'.join(sent1)"
   ]
  },
  {
   "cell_type": "code",
   "execution_count": 102,
   "id": "bddb15a6",
   "metadata": {},
   "outputs": [
    {
     "data": {
      "text/plain": [
       "'u@b@a@i@d'"
      ]
     },
     "execution_count": 102,
     "metadata": {},
     "output_type": "execute_result"
    }
   ],
   "source": [
    "'@'.join('ubaid')"
   ]
  },
  {
   "cell_type": "code",
   "execution_count": 103,
   "id": "c567b0c4",
   "metadata": {},
   "outputs": [
    {
     "name": "stdout",
     "output_type": "stream",
     "text": [
      "lakahn.naik@company.com\n"
     ]
    }
   ],
   "source": [
    "email='ubaid.shah@company.com'.split('@')\n",
    "name='lakahn.naik'\n",
    "email1=name+'@'+email[1]\n",
    "print(email1)"
   ]
  },
  {
   "cell_type": "code",
   "execution_count": 105,
   "id": "6fbd846b",
   "metadata": {},
   "outputs": [
    {
     "data": {
      "text/plain": [
       "['ubaid', 'shah@company', 'com']"
      ]
     },
     "execution_count": 105,
     "metadata": {},
     "output_type": "execute_result"
    }
   ],
   "source": [
    "'ubaid.shah@company.com'.split('.')"
   ]
  },
  {
   "cell_type": "code",
   "execution_count": 106,
   "id": "d71e6073",
   "metadata": {},
   "outputs": [],
   "source": [
    "a='1,2,3,4,5,6,7'.split(',')"
   ]
  },
  {
   "cell_type": "code",
   "execution_count": 107,
   "id": "ed6bf05a",
   "metadata": {},
   "outputs": [
    {
     "data": {
      "text/plain": [
       "['1', '2', '3', '4', '5', '6', '7']"
      ]
     },
     "execution_count": 107,
     "metadata": {},
     "output_type": "execute_result"
    }
   ],
   "source": [
    "a"
   ]
  },
  {
   "cell_type": "code",
   "execution_count": 108,
   "id": "d70c3dc1",
   "metadata": {},
   "outputs": [],
   "source": [
    "fruit='apple banan cherry'.split(' ')"
   ]
  },
  {
   "cell_type": "code",
   "execution_count": 109,
   "id": "df1fbe30",
   "metadata": {},
   "outputs": [
    {
     "data": {
      "text/plain": [
       "['apple', 'banan', 'cherry']"
      ]
     },
     "execution_count": 109,
     "metadata": {},
     "output_type": "execute_result"
    }
   ],
   "source": [
    "fruit"
   ]
  },
  {
   "cell_type": "code",
   "execution_count": 110,
   "id": "5f59d5bc",
   "metadata": {},
   "outputs": [],
   "source": [
    "fruit1='apple banan cherry'.split()"
   ]
  },
  {
   "cell_type": "code",
   "execution_count": 111,
   "id": "20abc399",
   "metadata": {},
   "outputs": [
    {
     "data": {
      "text/plain": [
       "['apple', 'banan', 'cherry']"
      ]
     },
     "execution_count": 111,
     "metadata": {},
     "output_type": "execute_result"
    }
   ],
   "source": [
    "fruit1"
   ]
  },
  {
   "cell_type": "code",
   "execution_count": 112,
   "id": "6532cdcc",
   "metadata": {},
   "outputs": [
    {
     "data": {
      "text/plain": [
       "['ubaid.shah@c', 'mpany.c', 'm']"
      ]
     },
     "execution_count": 112,
     "metadata": {},
     "output_type": "execute_result"
    }
   ],
   "source": [
    "'ubaid.shah@company.com'.split('o')"
   ]
  },
  {
   "cell_type": "code",
   "execution_count": 113,
   "id": "d155ebce",
   "metadata": {},
   "outputs": [
    {
     "data": {
      "text/plain": [
       "['', ' is ok ok anything ', ' is trainer ', ' is male']"
      ]
     },
     "execution_count": 113,
     "metadata": {},
     "output_type": "execute_result"
    }
   ],
   "source": [
    "'ubaid is ok ok anything ubaid is trainer ubaid is male'.split('ubaid')"
   ]
  },
  {
   "cell_type": "code",
   "execution_count": 114,
   "id": "790dbe67",
   "metadata": {},
   "outputs": [
    {
     "data": {
      "text/plain": [
       "False"
      ]
     },
     "execution_count": 114,
     "metadata": {},
     "output_type": "execute_result"
    }
   ],
   "source": [
    "'Apple'.isupper()"
   ]
  },
  {
   "cell_type": "code",
   "execution_count": 115,
   "id": "dc6c2992",
   "metadata": {},
   "outputs": [
    {
     "data": {
      "text/plain": [
       "True"
      ]
     },
     "execution_count": 115,
     "metadata": {},
     "output_type": "execute_result"
    }
   ],
   "source": [
    "'APPLE'.isupper()"
   ]
  },
  {
   "cell_type": "code",
   "execution_count": 116,
   "id": "af6849c4",
   "metadata": {},
   "outputs": [
    {
     "data": {
      "text/plain": [
       "False"
      ]
     },
     "execution_count": 116,
     "metadata": {},
     "output_type": "execute_result"
    }
   ],
   "source": [
    "'Apple'.islower()"
   ]
  },
  {
   "cell_type": "code",
   "execution_count": 117,
   "id": "963dcdf4",
   "metadata": {},
   "outputs": [
    {
     "data": {
      "text/plain": [
       "True"
      ]
     },
     "execution_count": 117,
     "metadata": {},
     "output_type": "execute_result"
    }
   ],
   "source": [
    "'apple'.islower()"
   ]
  },
  {
   "cell_type": "code",
   "execution_count": 118,
   "id": "76ea1b69",
   "metadata": {},
   "outputs": [
    {
     "data": {
      "text/plain": [
       "True"
      ]
     },
     "execution_count": 118,
     "metadata": {},
     "output_type": "execute_result"
    }
   ],
   "source": [
    "'Apple'.istitle()"
   ]
  },
  {
   "cell_type": "code",
   "execution_count": 119,
   "id": "b7652ea2",
   "metadata": {},
   "outputs": [
    {
     "data": {
      "text/plain": [
       "True"
      ]
     },
     "execution_count": 119,
     "metadata": {},
     "output_type": "execute_result"
    }
   ],
   "source": [
    "' '.isspace()"
   ]
  },
  {
   "cell_type": "code",
   "execution_count": 120,
   "id": "6b3c2e47",
   "metadata": {},
   "outputs": [],
   "source": [
    "x='ubaid is ok ok anything ubaid is trainer ubaid is male'.split('ubaid')"
   ]
  },
  {
   "cell_type": "code",
   "execution_count": 121,
   "id": "13d98f83",
   "metadata": {},
   "outputs": [
    {
     "data": {
      "text/plain": [
       "['', ' is ok ok anything ', ' is trainer ', ' is male']"
      ]
     },
     "execution_count": 121,
     "metadata": {},
     "output_type": "execute_result"
    }
   ],
   "source": [
    "x"
   ]
  },
  {
   "cell_type": "code",
   "execution_count": 122,
   "id": "8d7f79c5",
   "metadata": {},
   "outputs": [
    {
     "data": {
      "text/plain": [
       "False"
      ]
     },
     "execution_count": 122,
     "metadata": {},
     "output_type": "execute_result"
    }
   ],
   "source": [
    "x[0].isspace()"
   ]
  },
  {
   "cell_type": "code",
   "execution_count": 123,
   "id": "d1bd051d",
   "metadata": {},
   "outputs": [
    {
     "data": {
      "text/plain": [
       "'ubaid'"
      ]
     },
     "execution_count": 123,
     "metadata": {},
     "output_type": "execute_result"
    }
   ],
   "source": [
    "' ubaid'.strip()"
   ]
  },
  {
   "cell_type": "code",
   "execution_count": 124,
   "id": "001ab6d3",
   "metadata": {},
   "outputs": [
    {
     "data": {
      "text/plain": [
       "'Ubaid'"
      ]
     },
     "execution_count": 124,
     "metadata": {},
     "output_type": "execute_result"
    }
   ],
   "source": [
    "'Ubaid '.strip()"
   ]
  },
  {
   "cell_type": "code",
   "execution_count": 125,
   "id": "6473fcd1",
   "metadata": {},
   "outputs": [
    {
     "data": {
      "text/plain": [
       "'ubaid'"
      ]
     },
     "execution_count": 125,
     "metadata": {},
     "output_type": "execute_result"
    }
   ],
   "source": [
    "' ubaid '.strip()"
   ]
  },
  {
   "cell_type": "code",
   "execution_count": 11,
   "id": "9c957a55",
   "metadata": {},
   "outputs": [
    {
     "data": {
      "text/plain": [
       "'Ubaid '"
      ]
     },
     "execution_count": 11,
     "metadata": {},
     "output_type": "execute_result"
    }
   ],
   "source": [
    "' Ubaid '.lstrip()"
   ]
  },
  {
   "cell_type": "code",
   "execution_count": 12,
   "id": "d69bdb9c",
   "metadata": {},
   "outputs": [
    {
     "data": {
      "text/plain": [
       "' Ubaid'"
      ]
     },
     "execution_count": 12,
     "metadata": {},
     "output_type": "execute_result"
    }
   ],
   "source": [
    "' Ubaid '.rstrip()"
   ]
  },
  {
   "cell_type": "code",
   "execution_count": 13,
   "id": "572d3c4b",
   "metadata": {},
   "outputs": [
    {
     "data": {
      "text/plain": [
       "'Ubaid      Shah'"
      ]
     },
     "execution_count": 13,
     "metadata": {},
     "output_type": "execute_result"
    }
   ],
   "source": [
    "'   Ubaid      Shah   '.strip()"
   ]
  },
  {
   "cell_type": "code",
   "execution_count": 15,
   "id": "294fb1ef",
   "metadata": {},
   "outputs": [
    {
     "data": {
      "text/plain": [
       "'Ubaid Shah'"
      ]
     },
     "execution_count": 15,
     "metadata": {},
     "output_type": "execute_result"
    }
   ],
   "source": [
    "' '.join('   Ubaid      Shah   '.split())"
   ]
  },
  {
   "cell_type": "code",
   "execution_count": 16,
   "id": "114a2497",
   "metadata": {},
   "outputs": [
    {
     "data": {
      "text/plain": [
       "True"
      ]
     },
     "execution_count": 16,
     "metadata": {},
     "output_type": "execute_result"
    }
   ],
   "source": [
    "'ubaid'.isalpha()"
   ]
  },
  {
   "cell_type": "code",
   "execution_count": 17,
   "id": "acf67d3a",
   "metadata": {},
   "outputs": [
    {
     "data": {
      "text/plain": [
       "False"
      ]
     },
     "execution_count": 17,
     "metadata": {},
     "output_type": "execute_result"
    }
   ],
   "source": [
    "'ubaid1'.isalpha()"
   ]
  },
  {
   "cell_type": "code",
   "execution_count": 18,
   "id": "66301510",
   "metadata": {},
   "outputs": [
    {
     "data": {
      "text/plain": [
       "False"
      ]
     },
     "execution_count": 18,
     "metadata": {},
     "output_type": "execute_result"
    }
   ],
   "source": [
    "'324'.isalpha()"
   ]
  },
  {
   "cell_type": "code",
   "execution_count": 19,
   "id": "36eb2843",
   "metadata": {},
   "outputs": [
    {
     "data": {
      "text/plain": [
       "True"
      ]
     },
     "execution_count": 19,
     "metadata": {},
     "output_type": "execute_result"
    }
   ],
   "source": [
    "'324'.isdigit()"
   ]
  },
  {
   "cell_type": "code",
   "execution_count": 20,
   "id": "96da14c4",
   "metadata": {},
   "outputs": [
    {
     "data": {
      "text/plain": [
       "True"
      ]
     },
     "execution_count": 20,
     "metadata": {},
     "output_type": "execute_result"
    }
   ],
   "source": [
    "'ubaid1'.isalnum()"
   ]
  },
  {
   "cell_type": "markdown",
   "id": "16295eb7",
   "metadata": {},
   "source": [
    "# String Slicing"
   ]
  },
  {
   "cell_type": "code",
   "execution_count": 21,
   "id": "791e534e",
   "metadata": {},
   "outputs": [],
   "source": [
    "name='Ubaid Shah'"
   ]
  },
  {
   "cell_type": "code",
   "execution_count": 22,
   "id": "049493a8",
   "metadata": {},
   "outputs": [
    {
     "data": {
      "text/plain": [
       "'U'"
      ]
     },
     "execution_count": 22,
     "metadata": {},
     "output_type": "execute_result"
    }
   ],
   "source": [
    "name[0]"
   ]
  },
  {
   "cell_type": "code",
   "execution_count": 24,
   "id": "9f80e306",
   "metadata": {},
   "outputs": [
    {
     "data": {
      "text/plain": [
       "'Ub'"
      ]
     },
     "execution_count": 24,
     "metadata": {},
     "output_type": "execute_result"
    }
   ],
   "source": [
    "name[0:2]              #     [start index : end index +1]"
   ]
  },
  {
   "cell_type": "code",
   "execution_count": 25,
   "id": "33da5a44",
   "metadata": {},
   "outputs": [
    {
     "data": {
      "text/plain": [
       "'id Shah'"
      ]
     },
     "execution_count": 25,
     "metadata": {},
     "output_type": "execute_result"
    }
   ],
   "source": [
    "name[3:len(name)]"
   ]
  },
  {
   "cell_type": "code",
   "execution_count": 26,
   "id": "1ea9b43e",
   "metadata": {},
   "outputs": [
    {
     "data": {
      "text/plain": [
       "'id Shah'"
      ]
     },
     "execution_count": 26,
     "metadata": {},
     "output_type": "execute_result"
    }
   ],
   "source": [
    "name[3:]"
   ]
  },
  {
   "cell_type": "code",
   "execution_count": 27,
   "id": "30cef153",
   "metadata": {},
   "outputs": [],
   "source": [
    "movie='Shamshera'\n",
    "text=\"Sanjay Dutt pens emotional note as 'Shamshera' flops at box office: 'People don't respect the hard work we all put in\""
   ]
  },
  {
   "cell_type": "code",
   "execution_count": 28,
   "id": "3709e4b6",
   "metadata": {},
   "outputs": [
    {
     "data": {
      "text/plain": [
       "True"
      ]
     },
     "execution_count": 28,
     "metadata": {},
     "output_type": "execute_result"
    }
   ],
   "source": [
    "movie in text"
   ]
  },
  {
   "cell_type": "code",
   "execution_count": 29,
   "id": "0bf5e101",
   "metadata": {},
   "outputs": [
    {
     "data": {
      "text/plain": [
       "36"
      ]
     },
     "execution_count": 29,
     "metadata": {},
     "output_type": "execute_result"
    }
   ],
   "source": [
    "text.index(movie)"
   ]
  },
  {
   "cell_type": "code",
   "execution_count": 30,
   "id": "2ed10e45",
   "metadata": {},
   "outputs": [
    {
     "data": {
      "text/plain": [
       "36"
      ]
     },
     "execution_count": 30,
     "metadata": {},
     "output_type": "execute_result"
    }
   ],
   "source": [
    "len(\"Sanjay Dutt pens emotional note as '\")"
   ]
  },
  {
   "cell_type": "code",
   "execution_count": 1,
   "id": "f0be13e2",
   "metadata": {},
   "outputs": [
    {
     "data": {
      "text/plain": [
       "1"
      ]
     },
     "execution_count": 1,
     "metadata": {},
     "output_type": "execute_result"
    }
   ],
   "source": [
    "actor='Sanjay'\n",
    "actor.index('a')"
   ]
  },
  {
   "cell_type": "code",
   "execution_count": 4,
   "id": "266c6216",
   "metadata": {},
   "outputs": [],
   "source": [
    "list1=[]\n",
    "for i in range(len(actor)):\n",
    "    if actor[i]=='a':\n",
    "        (list1.append(i))"
   ]
  },
  {
   "cell_type": "code",
   "execution_count": 5,
   "id": "21726e15",
   "metadata": {},
   "outputs": [
    {
     "data": {
      "text/plain": [
       "[1, 4]"
      ]
     },
     "execution_count": 5,
     "metadata": {},
     "output_type": "execute_result"
    }
   ],
   "source": [
    "list1"
   ]
  },
  {
   "cell_type": "code",
   "execution_count": 24,
   "id": "d15229f5",
   "metadata": {},
   "outputs": [],
   "source": [
    "list1.append(actor.index('a'))"
   ]
  },
  {
   "cell_type": "code",
   "execution_count": 25,
   "id": "7d922ce2",
   "metadata": {},
   "outputs": [
    {
     "data": {
      "text/plain": [
       "['a', 1]"
      ]
     },
     "execution_count": 25,
     "metadata": {},
     "output_type": "execute_result"
    }
   ],
   "source": [
    "list1"
   ]
  },
  {
   "cell_type": "code",
   "execution_count": 14,
   "id": "c09e5a75",
   "metadata": {},
   "outputs": [],
   "source": [
    "list1=[]\n",
    "for i in actor:\n",
    "    if i=='a':\n",
    "        (list1.append(actor.index(i)))"
   ]
  },
  {
   "cell_type": "code",
   "execution_count": 15,
   "id": "23c6ffbd",
   "metadata": {},
   "outputs": [
    {
     "data": {
      "text/plain": [
       "[1, 1]"
      ]
     },
     "execution_count": 15,
     "metadata": {},
     "output_type": "execute_result"
    }
   ],
   "source": [
    "list1"
   ]
  },
  {
   "cell_type": "code",
   "execution_count": 16,
   "id": "9e565ae7",
   "metadata": {},
   "outputs": [],
   "source": [
    "def findOccurrences(s, ch):\n",
    "    return [i for i, letter in enumerate(s) if letter == ch]"
   ]
  },
  {
   "cell_type": "code",
   "execution_count": 17,
   "id": "34a61188",
   "metadata": {},
   "outputs": [
    {
     "data": {
      "text/plain": [
       "[1, 4]"
      ]
     },
     "execution_count": 17,
     "metadata": {},
     "output_type": "execute_result"
    }
   ],
   "source": [
    "findOccurrences(actor, 'a')"
   ]
  },
  {
   "cell_type": "code",
   "execution_count": 27,
   "id": "9d63b813",
   "metadata": {},
   "outputs": [
    {
     "data": {
      "text/plain": [
       "'Sanjay'"
      ]
     },
     "execution_count": 27,
     "metadata": {},
     "output_type": "execute_result"
    }
   ],
   "source": [
    "actor"
   ]
  },
  {
   "cell_type": "code",
   "execution_count": 28,
   "id": "671ad776",
   "metadata": {},
   "outputs": [
    {
     "data": {
      "text/plain": [
       "'Sna'"
      ]
     },
     "execution_count": 28,
     "metadata": {},
     "output_type": "execute_result"
    }
   ],
   "source": [
    "actor[0:len(actor):2]        # [ start index : endex index+1 : step]"
   ]
  },
  {
   "cell_type": "code",
   "execution_count": 29,
   "id": "0f2f5b89",
   "metadata": {},
   "outputs": [
    {
     "data": {
      "text/plain": [
       "'Sna'"
      ]
     },
     "execution_count": 29,
     "metadata": {},
     "output_type": "execute_result"
    }
   ],
   "source": [
    "actor[::2]  "
   ]
  },
  {
   "cell_type": "code",
   "execution_count": 30,
   "id": "a079b373",
   "metadata": {},
   "outputs": [
    {
     "data": {
      "text/plain": [
       "6"
      ]
     },
     "execution_count": 30,
     "metadata": {},
     "output_type": "execute_result"
    }
   ],
   "source": [
    "len(actor)"
   ]
  },
  {
   "cell_type": "code",
   "execution_count": 31,
   "id": "c5eb1a74",
   "metadata": {},
   "outputs": [
    {
     "data": {
      "text/plain": [
       "'y'"
      ]
     },
     "execution_count": 31,
     "metadata": {},
     "output_type": "execute_result"
    }
   ],
   "source": [
    "actor[-1]"
   ]
  },
  {
   "cell_type": "code",
   "execution_count": 32,
   "id": "783b3dc6",
   "metadata": {},
   "outputs": [
    {
     "data": {
      "text/plain": [
       "'jay'"
      ]
     },
     "execution_count": 32,
     "metadata": {},
     "output_type": "execute_result"
    }
   ],
   "source": [
    "actor[-3:]"
   ]
  },
  {
   "cell_type": "code",
   "execution_count": 33,
   "id": "98d10bea",
   "metadata": {},
   "outputs": [
    {
     "data": {
      "text/plain": [
       "'Sanjay'"
      ]
     },
     "execution_count": 33,
     "metadata": {},
     "output_type": "execute_result"
    }
   ],
   "source": [
    "actor"
   ]
  },
  {
   "cell_type": "code",
   "execution_count": 34,
   "id": "e25e0cad",
   "metadata": {},
   "outputs": [
    {
     "data": {
      "text/plain": [
       "'yajnaS'"
      ]
     },
     "execution_count": 34,
     "metadata": {},
     "output_type": "execute_result"
    }
   ],
   "source": [
    "actor[::-1]"
   ]
  },
  {
   "cell_type": "code",
   "execution_count": 38,
   "id": "c67a07e8",
   "metadata": {},
   "outputs": [
    {
     "data": {
      "text/plain": [
       "'jnaS'"
      ]
     },
     "execution_count": 38,
     "metadata": {},
     "output_type": "execute_result"
    }
   ],
   "source": [
    "actor[-3::-1]"
   ]
  },
  {
   "cell_type": "markdown",
   "id": "fb55fa9f",
   "metadata": {},
   "source": [
    "# Data Types :\n",
    "\n",
    "1. Numbers"
   ]
  },
  {
   "cell_type": "code",
   "execution_count": 39,
   "id": "429c653f",
   "metadata": {},
   "outputs": [],
   "source": [
    "# Integer, Float, Complex Number   "
   ]
  },
  {
   "cell_type": "code",
   "execution_count": 40,
   "id": "149e68b6",
   "metadata": {},
   "outputs": [],
   "source": [
    "x= 12345"
   ]
  },
  {
   "cell_type": "code",
   "execution_count": 41,
   "id": "bc1d4954",
   "metadata": {},
   "outputs": [
    {
     "data": {
      "text/plain": [
       "int"
      ]
     },
     "execution_count": 41,
     "metadata": {},
     "output_type": "execute_result"
    }
   ],
   "source": [
    "type(x)"
   ]
  },
  {
   "cell_type": "code",
   "execution_count": 42,
   "id": "0cbff2d2",
   "metadata": {},
   "outputs": [
    {
     "name": "stdout",
     "output_type": "stream",
     "text": [
      "<class 'int'>\n"
     ]
    }
   ],
   "source": [
    "print(type(x))"
   ]
  },
  {
   "cell_type": "code",
   "execution_count": 43,
   "id": "25aa0dd5",
   "metadata": {},
   "outputs": [
    {
     "data": {
      "text/plain": [
       "float"
      ]
     },
     "execution_count": 43,
     "metadata": {},
     "output_type": "execute_result"
    }
   ],
   "source": [
    "x=123.48\n",
    "type(x)"
   ]
  },
  {
   "cell_type": "code",
   "execution_count": 44,
   "id": "a40d201c",
   "metadata": {},
   "outputs": [
    {
     "name": "stdout",
     "output_type": "stream",
     "text": [
      "123.0 <class 'float'>\n"
     ]
    }
   ],
   "source": [
    "a=123\n",
    "b=float(a)\n",
    "print(b,type(b))"
   ]
  },
  {
   "cell_type": "code",
   "execution_count": 45,
   "id": "be05e08c",
   "metadata": {},
   "outputs": [
    {
     "name": "stdout",
     "output_type": "stream",
     "text": [
      "123 <class 'int'>\n"
     ]
    }
   ],
   "source": [
    "c=int(b)\n",
    "print(c,type(c))"
   ]
  },
  {
   "cell_type": "code",
   "execution_count": 46,
   "id": "7c61766c",
   "metadata": {},
   "outputs": [],
   "source": [
    "# Type casting"
   ]
  },
  {
   "cell_type": "code",
   "execution_count": 47,
   "id": "72566848",
   "metadata": {},
   "outputs": [
    {
     "data": {
      "text/plain": [
       "str"
      ]
     },
     "execution_count": 47,
     "metadata": {},
     "output_type": "execute_result"
    }
   ],
   "source": [
    "z='123.4'\n",
    "type(z)\n"
   ]
  },
  {
   "cell_type": "code",
   "execution_count": 48,
   "id": "a4299673",
   "metadata": {},
   "outputs": [],
   "source": [
    "x=float(z)"
   ]
  },
  {
   "cell_type": "code",
   "execution_count": 51,
   "id": "be48a356",
   "metadata": {},
   "outputs": [
    {
     "data": {
      "text/plain": [
       "(123.4, float)"
      ]
     },
     "execution_count": 51,
     "metadata": {},
     "output_type": "execute_result"
    }
   ],
   "source": [
    "x,type(x)"
   ]
  },
  {
   "cell_type": "code",
   "execution_count": 52,
   "id": "a17e71b4",
   "metadata": {},
   "outputs": [
    {
     "data": {
      "text/plain": [
       "('123.4', str)"
      ]
     },
     "execution_count": 52,
     "metadata": {},
     "output_type": "execute_result"
    }
   ],
   "source": [
    "z,type(z)"
   ]
  },
  {
   "cell_type": "code",
   "execution_count": 53,
   "id": "775fbb90",
   "metadata": {},
   "outputs": [
    {
     "ename": "ValueError",
     "evalue": "invalid literal for int() with base 10: '123.4'",
     "output_type": "error",
     "traceback": [
      "\u001b[1;31m---------------------------------------------------------------------------\u001b[0m",
      "\u001b[1;31mValueError\u001b[0m                                Traceback (most recent call last)",
      "\u001b[1;32m<ipython-input-53-52028f8244c5>\u001b[0m in \u001b[0;36m<module>\u001b[1;34m\u001b[0m\n\u001b[1;32m----> 1\u001b[1;33m \u001b[0ms\u001b[0m\u001b[1;33m=\u001b[0m\u001b[0mint\u001b[0m\u001b[1;33m(\u001b[0m\u001b[0mz\u001b[0m\u001b[1;33m)\u001b[0m\u001b[1;33m\u001b[0m\u001b[1;33m\u001b[0m\u001b[0m\n\u001b[0m",
      "\u001b[1;31mValueError\u001b[0m: invalid literal for int() with base 10: '123.4'"
     ]
    }
   ],
   "source": [
    "s=int(z)"
   ]
  },
  {
   "cell_type": "code",
   "execution_count": 54,
   "id": "de62e0fa",
   "metadata": {},
   "outputs": [],
   "source": [
    "q='123'\n",
    "r=int(q)"
   ]
  },
  {
   "cell_type": "code",
   "execution_count": 55,
   "id": "e0b63ff8",
   "metadata": {},
   "outputs": [
    {
     "data": {
      "text/plain": [
       "123"
      ]
     },
     "execution_count": 55,
     "metadata": {},
     "output_type": "execute_result"
    }
   ],
   "source": [
    "r"
   ]
  },
  {
   "cell_type": "code",
   "execution_count": 56,
   "id": "dc9e3dd0",
   "metadata": {},
   "outputs": [],
   "source": [
    "d=float(z)"
   ]
  },
  {
   "cell_type": "code",
   "execution_count": 57,
   "id": "c366cc28",
   "metadata": {},
   "outputs": [],
   "source": [
    "d=int(d)"
   ]
  },
  {
   "cell_type": "code",
   "execution_count": 58,
   "id": "f792c989",
   "metadata": {},
   "outputs": [
    {
     "data": {
      "text/plain": [
       "123"
      ]
     },
     "execution_count": 58,
     "metadata": {},
     "output_type": "execute_result"
    }
   ],
   "source": [
    "d"
   ]
  },
  {
   "cell_type": "code",
   "execution_count": 59,
   "id": "7f029e8e",
   "metadata": {},
   "outputs": [
    {
     "data": {
      "text/plain": [
       "'123.4'"
      ]
     },
     "execution_count": 59,
     "metadata": {},
     "output_type": "execute_result"
    }
   ],
   "source": [
    "z"
   ]
  },
  {
   "cell_type": "code",
   "execution_count": 60,
   "id": "828d6ebd",
   "metadata": {},
   "outputs": [],
   "source": [
    "f=int(float(z))"
   ]
  },
  {
   "cell_type": "code",
   "execution_count": 61,
   "id": "8b7998e2",
   "metadata": {},
   "outputs": [
    {
     "data": {
      "text/plain": [
       "123"
      ]
     },
     "execution_count": 61,
     "metadata": {},
     "output_type": "execute_result"
    }
   ],
   "source": [
    "f"
   ]
  },
  {
   "cell_type": "code",
   "execution_count": 62,
   "id": "d8a9bde4",
   "metadata": {},
   "outputs": [
    {
     "data": {
      "text/plain": [
       "'123'"
      ]
     },
     "execution_count": 62,
     "metadata": {},
     "output_type": "execute_result"
    }
   ],
   "source": [
    "str(f)"
   ]
  },
  {
   "cell_type": "code",
   "execution_count": 63,
   "id": "9e3aee6b",
   "metadata": {},
   "outputs": [
    {
     "data": {
      "text/plain": [
       "'12598.2569'"
      ]
     },
     "execution_count": 63,
     "metadata": {},
     "output_type": "execute_result"
    }
   ],
   "source": [
    "str(12598.2569)"
   ]
  },
  {
   "cell_type": "code",
   "execution_count": 64,
   "id": "284bdeae",
   "metadata": {},
   "outputs": [],
   "source": [
    "g='asjdj'"
   ]
  },
  {
   "cell_type": "code",
   "execution_count": 65,
   "id": "bf79d179",
   "metadata": {},
   "outputs": [
    {
     "ename": "ValueError",
     "evalue": "invalid literal for int() with base 10: 'asjdj'",
     "output_type": "error",
     "traceback": [
      "\u001b[1;31m---------------------------------------------------------------------------\u001b[0m",
      "\u001b[1;31mValueError\u001b[0m                                Traceback (most recent call last)",
      "\u001b[1;32m<ipython-input-65-78c4709fbc50>\u001b[0m in \u001b[0;36m<module>\u001b[1;34m\u001b[0m\n\u001b[1;32m----> 1\u001b[1;33m \u001b[0mint\u001b[0m\u001b[1;33m(\u001b[0m\u001b[0mg\u001b[0m\u001b[1;33m)\u001b[0m\u001b[1;33m\u001b[0m\u001b[1;33m\u001b[0m\u001b[0m\n\u001b[0m",
      "\u001b[1;31mValueError\u001b[0m: invalid literal for int() with base 10: 'asjdj'"
     ]
    }
   ],
   "source": [
    "int(g)"
   ]
  },
  {
   "cell_type": "code",
   "execution_count": 67,
   "id": "efdbabf1",
   "metadata": {},
   "outputs": [],
   "source": [
    "gh= 5+9j"
   ]
  },
  {
   "cell_type": "code",
   "execution_count": 68,
   "id": "a4ec1430",
   "metadata": {},
   "outputs": [
    {
     "data": {
      "text/plain": [
       "complex"
      ]
     },
     "execution_count": 68,
     "metadata": {},
     "output_type": "execute_result"
    }
   ],
   "source": [
    "type(gh)"
   ]
  },
  {
   "cell_type": "code",
   "execution_count": 69,
   "id": "a07acb2f",
   "metadata": {},
   "outputs": [
    {
     "ename": "TypeError",
     "evalue": "can't convert complex to int",
     "output_type": "error",
     "traceback": [
      "\u001b[1;31m---------------------------------------------------------------------------\u001b[0m",
      "\u001b[1;31mTypeError\u001b[0m                                 Traceback (most recent call last)",
      "\u001b[1;32m<ipython-input-69-2a2e93e21829>\u001b[0m in \u001b[0;36m<module>\u001b[1;34m\u001b[0m\n\u001b[1;32m----> 1\u001b[1;33m \u001b[0mint\u001b[0m\u001b[1;33m(\u001b[0m\u001b[0mgh\u001b[0m\u001b[1;33m)\u001b[0m\u001b[1;33m\u001b[0m\u001b[1;33m\u001b[0m\u001b[0m\n\u001b[0m",
      "\u001b[1;31mTypeError\u001b[0m: can't convert complex to int"
     ]
    }
   ],
   "source": [
    "int(gh)"
   ]
  },
  {
   "cell_type": "code",
   "execution_count": 72,
   "id": "57ae59f4",
   "metadata": {
    "scrolled": true
   },
   "outputs": [
    {
     "data": {
      "text/plain": [
       "5"
      ]
     },
     "execution_count": 72,
     "metadata": {},
     "output_type": "execute_result"
    }
   ],
   "source": [
    "int(gh.real)"
   ]
  },
  {
   "cell_type": "code",
   "execution_count": 73,
   "id": "236b0147",
   "metadata": {},
   "outputs": [
    {
     "data": {
      "text/plain": [
       "9.0"
      ]
     },
     "execution_count": 73,
     "metadata": {},
     "output_type": "execute_result"
    }
   ],
   "source": [
    "gh.imag"
   ]
  },
  {
   "cell_type": "code",
   "execution_count": 74,
   "id": "92e967d7",
   "metadata": {},
   "outputs": [
    {
     "data": {
      "text/plain": [
       "(1259+0j)"
      ]
     },
     "execution_count": 74,
     "metadata": {},
     "output_type": "execute_result"
    }
   ],
   "source": [
    "t=1259\n",
    "complex(t)"
   ]
  },
  {
   "cell_type": "markdown",
   "id": "ade03157",
   "metadata": {},
   "source": [
    "### Boolean"
   ]
  },
  {
   "cell_type": "code",
   "execution_count": 75,
   "id": "3a0ef339",
   "metadata": {},
   "outputs": [
    {
     "data": {
      "text/plain": [
       "bool"
      ]
     },
     "execution_count": 75,
     "metadata": {},
     "output_type": "execute_result"
    }
   ],
   "source": [
    "x=True\n",
    "type(x)"
   ]
  },
  {
   "cell_type": "code",
   "execution_count": 76,
   "id": "5b764876",
   "metadata": {},
   "outputs": [
    {
     "data": {
      "text/plain": [
       "bool"
      ]
     },
     "execution_count": 76,
     "metadata": {},
     "output_type": "execute_result"
    }
   ],
   "source": [
    "y=False\n",
    "type(y)"
   ]
  },
  {
   "cell_type": "code",
   "execution_count": 77,
   "id": "102922dd",
   "metadata": {},
   "outputs": [
    {
     "data": {
      "text/plain": [
       "int"
      ]
     },
     "execution_count": 77,
     "metadata": {},
     "output_type": "execute_result"
    }
   ],
   "source": [
    "x=1\n",
    "type(1)"
   ]
  },
  {
   "cell_type": "code",
   "execution_count": 78,
   "id": "faa60963",
   "metadata": {},
   "outputs": [
    {
     "data": {
      "text/plain": [
       "True"
      ]
     },
     "execution_count": 78,
     "metadata": {},
     "output_type": "execute_result"
    }
   ],
   "source": [
    "bool(1)"
   ]
  },
  {
   "cell_type": "code",
   "execution_count": 79,
   "id": "1e25d5b3",
   "metadata": {},
   "outputs": [
    {
     "data": {
      "text/plain": [
       "False"
      ]
     },
     "execution_count": 79,
     "metadata": {},
     "output_type": "execute_result"
    }
   ],
   "source": [
    "bool(0)"
   ]
  },
  {
   "cell_type": "code",
   "execution_count": 80,
   "id": "389f8b16",
   "metadata": {},
   "outputs": [
    {
     "data": {
      "text/plain": [
       "1"
      ]
     },
     "execution_count": 80,
     "metadata": {},
     "output_type": "execute_result"
    }
   ],
   "source": [
    "int(True)"
   ]
  },
  {
   "cell_type": "code",
   "execution_count": 81,
   "id": "4ad7f9bd",
   "metadata": {},
   "outputs": [
    {
     "data": {
      "text/plain": [
       "0"
      ]
     },
     "execution_count": 81,
     "metadata": {},
     "output_type": "execute_result"
    }
   ],
   "source": [
    "int(False)"
   ]
  },
  {
   "cell_type": "code",
   "execution_count": 86,
   "id": "4feb50e7",
   "metadata": {},
   "outputs": [
    {
     "data": {
      "text/plain": [
       "False"
      ]
     },
     "execution_count": 86,
     "metadata": {},
     "output_type": "execute_result"
    }
   ],
   "source": [
    "bool(0)"
   ]
  },
  {
   "cell_type": "code",
   "execution_count": 87,
   "id": "123ca5ce",
   "metadata": {},
   "outputs": [
    {
     "data": {
      "text/plain": [
       "1789"
      ]
     },
     "execution_count": 87,
     "metadata": {},
     "output_type": "execute_result"
    }
   ],
   "source": [
    "#The area calculated by Neha is 1789.26 inch\n",
    "int(1789.26)"
   ]
  },
  {
   "cell_type": "code",
   "execution_count": null,
   "id": "c26b7f03",
   "metadata": {},
   "outputs": [],
   "source": [
    "quiz - True and False\n",
    "\n",
    "\n"
   ]
  },
  {
   "cell_type": "markdown",
   "id": "be7c4392",
   "metadata": {},
   "source": [
    "# Operators in Python"
   ]
  },
  {
   "cell_type": "code",
   "execution_count": null,
   "id": "a3faf0a9",
   "metadata": {},
   "outputs": [],
   "source": [
    "1. Arithmatic operator\n",
    "2. Conditional operator\n",
    "3. Logical operator\n",
    "4. Membership operator\n",
    "5. Identity operator"
   ]
  },
  {
   "cell_type": "raw",
   "id": "98e69b93",
   "metadata": {},
   "source": [
    "1.1 Addition   +\n",
    "1.2 Subtraction  -\n",
    "1.3 Multiplication *\n",
    "1.4 Division  /\n",
    "1.5 Floor division //\n",
    "1.6 Modulo  % \n",
    "1.7 Exponential **"
   ]
  },
  {
   "cell_type": "code",
   "execution_count": 89,
   "id": "ad170b76",
   "metadata": {},
   "outputs": [],
   "source": [
    "x=1\n",
    "y=2\n",
    "\n",
    "c=x+y"
   ]
  },
  {
   "cell_type": "code",
   "execution_count": 90,
   "id": "dc67d28f",
   "metadata": {},
   "outputs": [
    {
     "data": {
      "text/plain": [
       "2"
      ]
     },
     "execution_count": 90,
     "metadata": {},
     "output_type": "execute_result"
    }
   ],
   "source": [
    "c-x"
   ]
  },
  {
   "cell_type": "code",
   "execution_count": 92,
   "id": "8278a009",
   "metadata": {},
   "outputs": [],
   "source": [
    "z=c*y"
   ]
  },
  {
   "cell_type": "code",
   "execution_count": 93,
   "id": "867cf748",
   "metadata": {},
   "outputs": [
    {
     "data": {
      "text/plain": [
       "3.0"
      ]
     },
     "execution_count": 93,
     "metadata": {},
     "output_type": "execute_result"
    }
   ],
   "source": [
    "z/y"
   ]
  },
  {
   "cell_type": "code",
   "execution_count": 96,
   "id": "8310493b",
   "metadata": {},
   "outputs": [
    {
     "data": {
      "text/plain": [
       "4"
      ]
     },
     "execution_count": 96,
     "metadata": {},
     "output_type": "execute_result"
    }
   ],
   "source": [
    "17//4"
   ]
  },
  {
   "cell_type": "code",
   "execution_count": 97,
   "id": "3bf7587b",
   "metadata": {},
   "outputs": [
    {
     "data": {
      "text/plain": [
       "1"
      ]
     },
     "execution_count": 97,
     "metadata": {},
     "output_type": "execute_result"
    }
   ],
   "source": [
    "17%4"
   ]
  },
  {
   "cell_type": "code",
   "execution_count": 98,
   "id": "e1970fff",
   "metadata": {},
   "outputs": [
    {
     "data": {
      "text/plain": [
       "4.25"
      ]
     },
     "execution_count": 98,
     "metadata": {},
     "output_type": "execute_result"
    }
   ],
   "source": [
    "17/4"
   ]
  },
  {
   "cell_type": "code",
   "execution_count": 99,
   "id": "4d9d2a3e",
   "metadata": {},
   "outputs": [
    {
     "data": {
      "text/plain": [
       "4.0"
      ]
     },
     "execution_count": 99,
     "metadata": {},
     "output_type": "execute_result"
    }
   ],
   "source": [
    "16/4"
   ]
  },
  {
   "cell_type": "code",
   "execution_count": 100,
   "id": "89236c6b",
   "metadata": {},
   "outputs": [
    {
     "data": {
      "text/plain": [
       "4"
      ]
     },
     "execution_count": 100,
     "metadata": {},
     "output_type": "execute_result"
    }
   ],
   "source": [
    "2**2"
   ]
  },
  {
   "cell_type": "code",
   "execution_count": 101,
   "id": "e1482c52",
   "metadata": {},
   "outputs": [
    {
     "data": {
      "text/plain": [
       "8"
      ]
     },
     "execution_count": 101,
     "metadata": {},
     "output_type": "execute_result"
    }
   ],
   "source": [
    "2**3"
   ]
  },
  {
   "cell_type": "code",
   "execution_count": 102,
   "id": "1a85c800",
   "metadata": {},
   "outputs": [
    {
     "data": {
      "text/plain": [
       "2.0"
      ]
     },
     "execution_count": 102,
     "metadata": {},
     "output_type": "execute_result"
    }
   ],
   "source": [
    "4**0.5"
   ]
  },
  {
   "cell_type": "raw",
   "id": "b4c34273",
   "metadata": {},
   "source": [
    "2.1 > greater than\n",
    "2.2 < less than\n",
    "2.3 >= greater than equal to\n",
    "2.4 <= less than equal to\n",
    "2.5 != not equal to\n",
    "2.6 == equal to\n",
    "\n",
    "Answer is either True or False"
   ]
  },
  {
   "cell_type": "code",
   "execution_count": 103,
   "id": "28ed4726",
   "metadata": {},
   "outputs": [
    {
     "data": {
      "text/plain": [
       "True"
      ]
     },
     "execution_count": 103,
     "metadata": {},
     "output_type": "execute_result"
    }
   ],
   "source": [
    "3>2"
   ]
  },
  {
   "cell_type": "code",
   "execution_count": 104,
   "id": "79563922",
   "metadata": {},
   "outputs": [
    {
     "data": {
      "text/plain": [
       "False"
      ]
     },
     "execution_count": 104,
     "metadata": {},
     "output_type": "execute_result"
    }
   ],
   "source": [
    "3>4"
   ]
  },
  {
   "cell_type": "code",
   "execution_count": 105,
   "id": "683c3870",
   "metadata": {},
   "outputs": [
    {
     "data": {
      "text/plain": [
       "False"
      ]
     },
     "execution_count": 105,
     "metadata": {},
     "output_type": "execute_result"
    }
   ],
   "source": [
    "4<=3"
   ]
  },
  {
   "cell_type": "code",
   "execution_count": 106,
   "id": "e1ee016f",
   "metadata": {},
   "outputs": [
    {
     "data": {
      "text/plain": [
       "True"
      ]
     },
     "execution_count": 106,
     "metadata": {},
     "output_type": "execute_result"
    }
   ],
   "source": [
    "4>=4"
   ]
  },
  {
   "cell_type": "code",
   "execution_count": 107,
   "id": "da0233c0",
   "metadata": {},
   "outputs": [
    {
     "data": {
      "text/plain": [
       "True"
      ]
     },
     "execution_count": 107,
     "metadata": {},
     "output_type": "execute_result"
    }
   ],
   "source": [
    "4>=3"
   ]
  },
  {
   "cell_type": "code",
   "execution_count": 108,
   "id": "cd410383",
   "metadata": {},
   "outputs": [
    {
     "data": {
      "text/plain": [
       "True"
      ]
     },
     "execution_count": 108,
     "metadata": {},
     "output_type": "execute_result"
    }
   ],
   "source": [
    "3!=4"
   ]
  },
  {
   "cell_type": "code",
   "execution_count": 109,
   "id": "ef20f3ba",
   "metadata": {},
   "outputs": [
    {
     "data": {
      "text/plain": [
       "False"
      ]
     },
     "execution_count": 109,
     "metadata": {},
     "output_type": "execute_result"
    }
   ],
   "source": [
    "3!=3"
   ]
  },
  {
   "cell_type": "code",
   "execution_count": 110,
   "id": "868f66d1",
   "metadata": {},
   "outputs": [
    {
     "data": {
      "text/plain": [
       "True"
      ]
     },
     "execution_count": 110,
     "metadata": {},
     "output_type": "execute_result"
    }
   ],
   "source": [
    "3==3"
   ]
  },
  {
   "cell_type": "code",
   "execution_count": 112,
   "id": "2d0f7232",
   "metadata": {},
   "outputs": [
    {
     "data": {
      "text/plain": [
       "False"
      ]
     },
     "execution_count": 112,
     "metadata": {},
     "output_type": "execute_result"
    }
   ],
   "source": [
    "3==4     # Exactly equal to"
   ]
  },
  {
   "cell_type": "raw",
   "id": "ad1f7a28",
   "metadata": {},
   "source": [
    "Logical operator\n",
    "3.1 AND\n",
    "3.2 OR\n",
    "3.3 NOT"
   ]
  },
  {
   "cell_type": "code",
   "execution_count": 113,
   "id": "57a2a6fb",
   "metadata": {},
   "outputs": [
    {
     "data": {
      "text/plain": [
       "True"
      ]
     },
     "execution_count": 113,
     "metadata": {},
     "output_type": "execute_result"
    }
   ],
   "source": [
    "2==3 or 2!=3"
   ]
  },
  {
   "cell_type": "code",
   "execution_count": 114,
   "id": "0d41e4c7",
   "metadata": {},
   "outputs": [
    {
     "data": {
      "text/plain": [
       "False"
      ]
     },
     "execution_count": 114,
     "metadata": {},
     "output_type": "execute_result"
    }
   ],
   "source": [
    "2==3 and 2!=3"
   ]
  },
  {
   "cell_type": "code",
   "execution_count": 115,
   "id": "4dee3d74",
   "metadata": {},
   "outputs": [
    {
     "data": {
      "text/plain": [
       "False"
      ]
     },
     "execution_count": 115,
     "metadata": {},
     "output_type": "execute_result"
    }
   ],
   "source": [
    "True == False == True"
   ]
  },
  {
   "cell_type": "code",
   "execution_count": 116,
   "id": "bc766576",
   "metadata": {},
   "outputs": [
    {
     "data": {
      "text/plain": [
       "False"
      ]
     },
     "execution_count": 116,
     "metadata": {},
     "output_type": "execute_result"
    }
   ],
   "source": [
    "True and False and True"
   ]
  },
  {
   "cell_type": "code",
   "execution_count": 117,
   "id": "c492486f",
   "metadata": {},
   "outputs": [
    {
     "data": {
      "text/plain": [
       "False"
      ]
     },
     "execution_count": 117,
     "metadata": {},
     "output_type": "execute_result"
    }
   ],
   "source": [
    "True and False and False"
   ]
  },
  {
   "cell_type": "code",
   "execution_count": 119,
   "id": "d859f17d",
   "metadata": {},
   "outputs": [
    {
     "data": {
      "text/plain": [
       "False"
      ]
     },
     "execution_count": 119,
     "metadata": {},
     "output_type": "execute_result"
    }
   ],
   "source": [
    "(True and True) and False"
   ]
  },
  {
   "cell_type": "code",
   "execution_count": 120,
   "id": "c8f649d6",
   "metadata": {},
   "outputs": [
    {
     "data": {
      "text/plain": [
       "True"
      ]
     },
     "execution_count": 120,
     "metadata": {},
     "output_type": "execute_result"
    }
   ],
   "source": [
    "(True and True) or False"
   ]
  },
  {
   "cell_type": "code",
   "execution_count": 121,
   "id": "c7b0a409",
   "metadata": {},
   "outputs": [
    {
     "data": {
      "text/plain": [
       "False"
      ]
     },
     "execution_count": 121,
     "metadata": {},
     "output_type": "execute_result"
    }
   ],
   "source": [
    "4>2 and 4>3 and 5>6"
   ]
  },
  {
   "cell_type": "code",
   "execution_count": 122,
   "id": "946e2b2b",
   "metadata": {},
   "outputs": [
    {
     "data": {
      "text/plain": [
       "True"
      ]
     },
     "execution_count": 122,
     "metadata": {},
     "output_type": "execute_result"
    }
   ],
   "source": [
    "4>2 and 4>3 or 5>6"
   ]
  },
  {
   "cell_type": "code",
   "execution_count": 123,
   "id": "4847ea87",
   "metadata": {},
   "outputs": [
    {
     "data": {
      "text/plain": [
       "True"
      ]
     },
     "execution_count": 123,
     "metadata": {},
     "output_type": "execute_result"
    }
   ],
   "source": [
    "'a' == 'a'"
   ]
  },
  {
   "cell_type": "code",
   "execution_count": 124,
   "id": "7413177f",
   "metadata": {},
   "outputs": [
    {
     "data": {
      "text/plain": [
       "False"
      ]
     },
     "execution_count": 124,
     "metadata": {},
     "output_type": "execute_result"
    }
   ],
   "source": [
    "'a' == '5'"
   ]
  },
  {
   "cell_type": "code",
   "execution_count": 125,
   "id": "b980c362",
   "metadata": {},
   "outputs": [
    {
     "ename": "SyntaxError",
     "evalue": "cannot assign to literal (<ipython-input-125-07810fea0579>, line 1)",
     "output_type": "error",
     "traceback": [
      "\u001b[1;36m  File \u001b[1;32m\"<ipython-input-125-07810fea0579>\"\u001b[1;36m, line \u001b[1;32m1\u001b[0m\n\u001b[1;33m    1='a'\u001b[0m\n\u001b[1;37m    ^\u001b[0m\n\u001b[1;31mSyntaxError\u001b[0m\u001b[1;31m:\u001b[0m cannot assign to literal\n"
     ]
    }
   ],
   "source": [
    "1='a'"
   ]
  },
  {
   "cell_type": "code",
   "execution_count": 126,
   "id": "d5d73b16",
   "metadata": {},
   "outputs": [
    {
     "data": {
      "text/plain": [
       "True"
      ]
     },
     "execution_count": 126,
     "metadata": {},
     "output_type": "execute_result"
    }
   ],
   "source": [
    "1==int(True)"
   ]
  },
  {
   "cell_type": "code",
   "execution_count": 127,
   "id": "c4ed586e",
   "metadata": {},
   "outputs": [
    {
     "data": {
      "text/plain": [
       "True"
      ]
     },
     "execution_count": 127,
     "metadata": {},
     "output_type": "execute_result"
    }
   ],
   "source": [
    "type(1)==int"
   ]
  },
  {
   "cell_type": "code",
   "execution_count": 128,
   "id": "474740bd",
   "metadata": {},
   "outputs": [
    {
     "data": {
      "text/plain": [
       "False"
      ]
     },
     "execution_count": 128,
     "metadata": {},
     "output_type": "execute_result"
    }
   ],
   "source": [
    "type(1)==float"
   ]
  },
  {
   "cell_type": "code",
   "execution_count": 129,
   "id": "3a506903",
   "metadata": {},
   "outputs": [
    {
     "data": {
      "text/plain": [
       "True"
      ]
     },
     "execution_count": 129,
     "metadata": {},
     "output_type": "execute_result"
    }
   ],
   "source": [
    "type('1')==str"
   ]
  },
  {
   "cell_type": "code",
   "execution_count": 133,
   "id": "cfae82b6",
   "metadata": {},
   "outputs": [
    {
     "data": {
      "text/plain": [
       "True"
      ]
     },
     "execution_count": 133,
     "metadata": {},
     "output_type": "execute_result"
    }
   ],
   "source": [
    "type(bool(1))==bool"
   ]
  },
  {
   "cell_type": "code",
   "execution_count": 134,
   "id": "c0c807dd",
   "metadata": {},
   "outputs": [
    {
     "data": {
      "text/plain": [
       "True"
      ]
     },
     "execution_count": 134,
     "metadata": {},
     "output_type": "execute_result"
    }
   ],
   "source": [
    "type(True)==bool"
   ]
  },
  {
   "cell_type": "code",
   "execution_count": 1,
   "id": "26182d4c",
   "metadata": {},
   "outputs": [
    {
     "data": {
      "text/plain": [
       "False"
      ]
     },
     "execution_count": 1,
     "metadata": {},
     "output_type": "execute_result"
    }
   ],
   "source": [
    "a=''\n",
    "\n",
    "bool(a)"
   ]
  },
  {
   "cell_type": "code",
   "execution_count": 2,
   "id": "3258f22b",
   "metadata": {},
   "outputs": [
    {
     "data": {
      "text/plain": [
       "True"
      ]
     },
     "execution_count": 2,
     "metadata": {},
     "output_type": "execute_result"
    }
   ],
   "source": [
    "a='xyz'\n",
    "bool(a)"
   ]
  },
  {
   "cell_type": "code",
   "execution_count": 3,
   "id": "5b65e5ff",
   "metadata": {},
   "outputs": [
    {
     "data": {
      "text/plain": [
       "False"
      ]
     },
     "execution_count": 3,
     "metadata": {},
     "output_type": "execute_result"
    }
   ],
   "source": [
    "a=0\n",
    "bool(a)"
   ]
  },
  {
   "cell_type": "code",
   "execution_count": 5,
   "id": "1bc3223c",
   "metadata": {},
   "outputs": [
    {
     "data": {
      "text/plain": [
       "True"
      ]
     },
     "execution_count": 5,
     "metadata": {},
     "output_type": "execute_result"
    }
   ],
   "source": [
    "b=1000\n",
    "bool(b)"
   ]
  },
  {
   "cell_type": "raw",
   "id": "9f49512b",
   "metadata": {},
   "source": [
    "4.1 in\n",
    "\n",
    "4.2 not in"
   ]
  },
  {
   "cell_type": "code",
   "execution_count": 14,
   "id": "cd962c90",
   "metadata": {},
   "outputs": [
    {
     "data": {
      "text/plain": [
       "True"
      ]
     },
     "execution_count": 14,
     "metadata": {},
     "output_type": "execute_result"
    }
   ],
   "source": [
    "x='Ajay is a sportsman'\n",
    "\n",
    "'s a s' in x"
   ]
  },
  {
   "cell_type": "code",
   "execution_count": 15,
   "id": "6a597034",
   "metadata": {},
   "outputs": [
    {
     "data": {
      "text/plain": [
       "True"
      ]
     },
     "execution_count": 15,
     "metadata": {},
     "output_type": "execute_result"
    }
   ],
   "source": [
    "pallete='green blue white orange'\n",
    "\n",
    "'orange' in pallete"
   ]
  },
  {
   "cell_type": "code",
   "execution_count": 16,
   "id": "eab0fbc0",
   "metadata": {},
   "outputs": [
    {
     "data": {
      "text/plain": [
       "False"
      ]
     },
     "execution_count": 16,
     "metadata": {},
     "output_type": "execute_result"
    }
   ],
   "source": [
    "'orange' not in pallete"
   ]
  },
  {
   "cell_type": "code",
   "execution_count": 17,
   "id": "bc246156",
   "metadata": {},
   "outputs": [
    {
     "data": {
      "text/plain": [
       "True"
      ]
     },
     "execution_count": 17,
     "metadata": {},
     "output_type": "execute_result"
    }
   ],
   "source": [
    "'black' not in pallete"
   ]
  },
  {
   "cell_type": "code",
   "execution_count": 18,
   "id": "29f2e2c4",
   "metadata": {},
   "outputs": [
    {
     "name": "stderr",
     "output_type": "stream",
     "text": [
      "<>:3: SyntaxWarning: \"is\" with a literal. Did you mean \"==\"?\n",
      "<>:3: SyntaxWarning: \"is\" with a literal. Did you mean \"==\"?\n",
      "C:\\Users\\Ubaid Shah\\AppData\\Local\\Temp\\ipykernel_8840\\437230650.py:3: SyntaxWarning: \"is\" with a literal. Did you mean \"==\"?\n",
      "  a is 'Lakhan'\n"
     ]
    },
    {
     "data": {
      "text/plain": [
       "True"
      ]
     },
     "execution_count": 18,
     "metadata": {},
     "output_type": "execute_result"
    }
   ],
   "source": [
    "a='Lakhan'\n",
    "\n",
    "a is 'Lakhan'"
   ]
  },
  {
   "cell_type": "code",
   "execution_count": 19,
   "id": "81991be8",
   "metadata": {},
   "outputs": [
    {
     "name": "stderr",
     "output_type": "stream",
     "text": [
      "<>:1: SyntaxWarning: \"is\" with a literal. Did you mean \"==\"?\n",
      "<>:1: SyntaxWarning: \"is\" with a literal. Did you mean \"==\"?\n",
      "C:\\Users\\Ubaid Shah\\AppData\\Local\\Temp\\ipykernel_8840\\2514843312.py:1: SyntaxWarning: \"is\" with a literal. Did you mean \"==\"?\n",
      "  a is 'lakhan'\n"
     ]
    },
    {
     "data": {
      "text/plain": [
       "False"
      ]
     },
     "execution_count": 19,
     "metadata": {},
     "output_type": "execute_result"
    }
   ],
   "source": [
    "a is 'lakhan'"
   ]
  },
  {
   "cell_type": "code",
   "execution_count": 20,
   "id": "5fd1d1c4",
   "metadata": {},
   "outputs": [
    {
     "name": "stderr",
     "output_type": "stream",
     "text": [
      "<>:1: SyntaxWarning: \"is not\" with a literal. Did you mean \"!=\"?\n",
      "<>:1: SyntaxWarning: \"is not\" with a literal. Did you mean \"!=\"?\n",
      "C:\\Users\\Ubaid Shah\\AppData\\Local\\Temp\\ipykernel_8840\\2397323408.py:1: SyntaxWarning: \"is not\" with a literal. Did you mean \"!=\"?\n",
      "  a is not 'lakhan'\n"
     ]
    },
    {
     "data": {
      "text/plain": [
       "True"
      ]
     },
     "execution_count": 20,
     "metadata": {},
     "output_type": "execute_result"
    }
   ],
   "source": [
    "a is not 'lakhan'"
   ]
  },
  {
   "cell_type": "code",
   "execution_count": 22,
   "id": "5cb7d366",
   "metadata": {},
   "outputs": [
    {
     "name": "stderr",
     "output_type": "stream",
     "text": [
      "<>:3: SyntaxWarning: \"is\" with a literal. Did you mean \"==\"?\n",
      "<>:3: SyntaxWarning: \"is\" with a literal. Did you mean \"==\"?\n",
      "C:\\Users\\Ubaid Shah\\AppData\\Local\\Temp\\ipykernel_8840\\566939929.py:3: SyntaxWarning: \"is\" with a literal. Did you mean \"==\"?\n",
      "  a is '2'\n"
     ]
    },
    {
     "data": {
      "text/plain": [
       "False"
      ]
     },
     "execution_count": 22,
     "metadata": {},
     "output_type": "execute_result"
    }
   ],
   "source": [
    "a=2\n",
    "\n",
    "a is '2'"
   ]
  },
  {
   "cell_type": "code",
   "execution_count": null,
   "id": "7d8003a1",
   "metadata": {},
   "outputs": [],
   "source": []
  }
 ],
 "metadata": {
  "kernelspec": {
   "display_name": "Python 3 (ipykernel)",
   "language": "python",
   "name": "python3"
  },
  "language_info": {
   "codemirror_mode": {
    "name": "ipython",
    "version": 3
   },
   "file_extension": ".py",
   "mimetype": "text/x-python",
   "name": "python",
   "nbconvert_exporter": "python",
   "pygments_lexer": "ipython3",
   "version": "3.8.13"
  }
 },
 "nbformat": 4,
 "nbformat_minor": 5
}
