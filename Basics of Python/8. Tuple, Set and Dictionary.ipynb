{
 "cells": [
  {
   "cell_type": "code",
   "execution_count": 1,
   "id": "b52151ba",
   "metadata": {},
   "outputs": [],
   "source": [
    "a=(1,2,3)"
   ]
  },
  {
   "cell_type": "code",
   "execution_count": 2,
   "id": "2959f8de",
   "metadata": {},
   "outputs": [
    {
     "data": {
      "text/plain": [
       "tuple"
      ]
     },
     "execution_count": 2,
     "metadata": {},
     "output_type": "execute_result"
    }
   ],
   "source": [
    "type(a)"
   ]
  },
  {
   "cell_type": "code",
   "execution_count": 3,
   "id": "6d6004be",
   "metadata": {},
   "outputs": [],
   "source": [
    "b=3,4,5"
   ]
  },
  {
   "cell_type": "code",
   "execution_count": 4,
   "id": "20c51bb4",
   "metadata": {},
   "outputs": [
    {
     "data": {
      "text/plain": [
       "tuple"
      ]
     },
     "execution_count": 4,
     "metadata": {},
     "output_type": "execute_result"
    }
   ],
   "source": [
    "type(b)"
   ]
  },
  {
   "cell_type": "code",
   "execution_count": 5,
   "id": "b17f32ec",
   "metadata": {},
   "outputs": [],
   "source": [
    "c=()"
   ]
  },
  {
   "cell_type": "code",
   "execution_count": 6,
   "id": "2196725f",
   "metadata": {},
   "outputs": [
    {
     "data": {
      "text/plain": [
       "tuple"
      ]
     },
     "execution_count": 6,
     "metadata": {},
     "output_type": "execute_result"
    }
   ],
   "source": [
    "type(c)"
   ]
  },
  {
   "cell_type": "code",
   "execution_count": 7,
   "id": "8b9cca65",
   "metadata": {},
   "outputs": [],
   "source": [
    "d=(3)"
   ]
  },
  {
   "cell_type": "code",
   "execution_count": 8,
   "id": "3ba60c90",
   "metadata": {},
   "outputs": [
    {
     "data": {
      "text/plain": [
       "int"
      ]
     },
     "execution_count": 8,
     "metadata": {},
     "output_type": "execute_result"
    }
   ],
   "source": [
    "type(d)"
   ]
  },
  {
   "cell_type": "code",
   "execution_count": 9,
   "id": "1f8b3095",
   "metadata": {},
   "outputs": [],
   "source": [
    "e=('name')"
   ]
  },
  {
   "cell_type": "code",
   "execution_count": 10,
   "id": "45314fc4",
   "metadata": {},
   "outputs": [
    {
     "data": {
      "text/plain": [
       "str"
      ]
     },
     "execution_count": 10,
     "metadata": {},
     "output_type": "execute_result"
    }
   ],
   "source": [
    "type(e)"
   ]
  },
  {
   "cell_type": "code",
   "execution_count": 14,
   "id": "6cfb88ea",
   "metadata": {},
   "outputs": [
    {
     "data": {
      "text/plain": [
       "str"
      ]
     },
     "execution_count": 14,
     "metadata": {},
     "output_type": "execute_result"
    }
   ],
   "source": [
    "f=(',')\n",
    "type(f)"
   ]
  },
  {
   "cell_type": "code",
   "execution_count": 15,
   "id": "afbf9850",
   "metadata": {},
   "outputs": [
    {
     "data": {
      "text/plain": [
       "tuple"
      ]
     },
     "execution_count": 15,
     "metadata": {},
     "output_type": "execute_result"
    }
   ],
   "source": [
    "g=('.',',')\n",
    "type(g)"
   ]
  },
  {
   "cell_type": "code",
   "execution_count": 16,
   "id": "cb89e2e7",
   "metadata": {},
   "outputs": [],
   "source": [
    "new_list=[12,10,13,'a']"
   ]
  },
  {
   "cell_type": "code",
   "execution_count": 17,
   "id": "97ec3559",
   "metadata": {},
   "outputs": [],
   "source": [
    "new_list[-1]=14"
   ]
  },
  {
   "cell_type": "code",
   "execution_count": 18,
   "id": "bbd6ca8d",
   "metadata": {},
   "outputs": [
    {
     "data": {
      "text/plain": [
       "[12, 10, 13, 14]"
      ]
     },
     "execution_count": 18,
     "metadata": {},
     "output_type": "execute_result"
    }
   ],
   "source": [
    "new_list"
   ]
  },
  {
   "cell_type": "code",
   "execution_count": 19,
   "id": "94395cee",
   "metadata": {},
   "outputs": [],
   "source": [
    "new_tuple=(12,10,13,'a')"
   ]
  },
  {
   "cell_type": "code",
   "execution_count": 20,
   "id": "7c048887",
   "metadata": {},
   "outputs": [
    {
     "ename": "TypeError",
     "evalue": "'tuple' object does not support item assignment",
     "output_type": "error",
     "traceback": [
      "\u001b[1;31m---------------------------------------------------------------------------\u001b[0m",
      "\u001b[1;31mTypeError\u001b[0m                                 Traceback (most recent call last)",
      "Input \u001b[1;32mIn [20]\u001b[0m, in \u001b[0;36m<cell line: 1>\u001b[1;34m()\u001b[0m\n\u001b[1;32m----> 1\u001b[0m new_tuple[\u001b[38;5;241m-\u001b[39m\u001b[38;5;241m1\u001b[39m]\u001b[38;5;241m=\u001b[39m\u001b[38;5;241m14\u001b[39m\n",
      "\u001b[1;31mTypeError\u001b[0m: 'tuple' object does not support item assignment"
     ]
    }
   ],
   "source": [
    "new_tuple[-1]=14"
   ]
  },
  {
   "cell_type": "markdown",
   "id": "d066f5cc",
   "metadata": {},
   "source": [
    "#### Tuple is Immutable data type"
   ]
  },
  {
   "cell_type": "code",
   "execution_count": 22,
   "id": "90706137",
   "metadata": {},
   "outputs": [],
   "source": [
    "RGB=(165,42,42)\n",
    "\n",
    "blue_code=RGB[-1]"
   ]
  },
  {
   "cell_type": "code",
   "execution_count": 23,
   "id": "4208aa5f",
   "metadata": {},
   "outputs": [
    {
     "data": {
      "text/plain": [
       "42"
      ]
     },
     "execution_count": 23,
     "metadata": {},
     "output_type": "execute_result"
    }
   ],
   "source": [
    "blue_code"
   ]
  },
  {
   "cell_type": "code",
   "execution_count": 25,
   "id": "c68405af",
   "metadata": {},
   "outputs": [
    {
     "data": {
      "text/plain": [
       "10"
      ]
     },
     "execution_count": 25,
     "metadata": {},
     "output_type": "execute_result"
    }
   ],
   "source": [
    "marks=(22,24,22,23,19,15,10,25,21,8)\n",
    "len(marks)"
   ]
  },
  {
   "cell_type": "code",
   "execution_count": 27,
   "id": "a5ffb71c",
   "metadata": {},
   "outputs": [
    {
     "data": {
      "text/plain": [
       "(22, 24, 22, 23, 19)"
      ]
     },
     "execution_count": 27,
     "metadata": {},
     "output_type": "execute_result"
    }
   ],
   "source": [
    "marks[:5]           # first five students"
   ]
  },
  {
   "cell_type": "code",
   "execution_count": 28,
   "id": "d80fa1fc",
   "metadata": {},
   "outputs": [
    {
     "data": {
      "text/plain": [
       "22"
      ]
     },
     "execution_count": 28,
     "metadata": {},
     "output_type": "execute_result"
    }
   ],
   "source": [
    "marks[0]   # first students marks"
   ]
  },
  {
   "cell_type": "code",
   "execution_count": 29,
   "id": "7ffd6dd3",
   "metadata": {},
   "outputs": [],
   "source": [
    "# Slicing [start index: end index +1: step]"
   ]
  },
  {
   "cell_type": "code",
   "execution_count": 30,
   "id": "cede5ec6",
   "metadata": {},
   "outputs": [
    {
     "data": {
      "text/plain": [
       "8"
      ]
     },
     "execution_count": 30,
     "metadata": {},
     "output_type": "execute_result"
    }
   ],
   "source": [
    "# last students marks\n",
    "marks[-1]"
   ]
  },
  {
   "cell_type": "code",
   "execution_count": 31,
   "id": "e210bc36",
   "metadata": {},
   "outputs": [],
   "source": [
    "marks_1= list(marks)"
   ]
  },
  {
   "cell_type": "code",
   "execution_count": 32,
   "id": "ef61c001",
   "metadata": {},
   "outputs": [
    {
     "data": {
      "text/plain": [
       "[22, 24, 22, 23, 19, 15, 10, 25, 21, 8]"
      ]
     },
     "execution_count": 32,
     "metadata": {},
     "output_type": "execute_result"
    }
   ],
   "source": [
    "marks_1"
   ]
  },
  {
   "cell_type": "code",
   "execution_count": 33,
   "id": "cffd5d72",
   "metadata": {},
   "outputs": [],
   "source": [
    "new_marks=tuple(marks_1)"
   ]
  },
  {
   "cell_type": "code",
   "execution_count": 34,
   "id": "57ae5ea8",
   "metadata": {},
   "outputs": [
    {
     "data": {
      "text/plain": [
       "(22, 24, 22, 23, 19, 15, 10, 25, 21, 8)"
      ]
     },
     "execution_count": 34,
     "metadata": {},
     "output_type": "execute_result"
    }
   ],
   "source": [
    "new_marks"
   ]
  },
  {
   "cell_type": "code",
   "execution_count": 35,
   "id": "e9cd158d",
   "metadata": {},
   "outputs": [
    {
     "name": "stdout",
     "output_type": "stream",
     "text": [
      "22\n",
      "24\n",
      "22\n",
      "23\n",
      "19\n",
      "15\n",
      "10\n",
      "25\n",
      "21\n",
      "8\n"
     ]
    }
   ],
   "source": [
    "for i in new_marks:\n",
    "    print(i)"
   ]
  },
  {
   "cell_type": "code",
   "execution_count": 36,
   "id": "40713cc2",
   "metadata": {},
   "outputs": [
    {
     "ename": "TypeError",
     "evalue": "'tuple' object doesn't support item deletion",
     "output_type": "error",
     "traceback": [
      "\u001b[1;31m---------------------------------------------------------------------------\u001b[0m",
      "\u001b[1;31mTypeError\u001b[0m                                 Traceback (most recent call last)",
      "Input \u001b[1;32mIn [36]\u001b[0m, in \u001b[0;36m<cell line: 1>\u001b[1;34m()\u001b[0m\n\u001b[1;32m----> 1\u001b[0m \u001b[38;5;28;01mdel\u001b[39;00m new_marks[\u001b[38;5;241m-\u001b[39m\u001b[38;5;241m1\u001b[39m]\n",
      "\u001b[1;31mTypeError\u001b[0m: 'tuple' object doesn't support item deletion"
     ]
    }
   ],
   "source": [
    "del new_marks[-1]"
   ]
  },
  {
   "cell_type": "code",
   "execution_count": 37,
   "id": "b7ecd411",
   "metadata": {},
   "outputs": [],
   "source": [
    "del new_marks"
   ]
  },
  {
   "cell_type": "code",
   "execution_count": 38,
   "id": "0aca02e3",
   "metadata": {},
   "outputs": [
    {
     "ename": "NameError",
     "evalue": "name 'new_marks' is not defined",
     "output_type": "error",
     "traceback": [
      "\u001b[1;31m---------------------------------------------------------------------------\u001b[0m",
      "\u001b[1;31mNameError\u001b[0m                                 Traceback (most recent call last)",
      "Input \u001b[1;32mIn [38]\u001b[0m, in \u001b[0;36m<cell line: 1>\u001b[1;34m()\u001b[0m\n\u001b[1;32m----> 1\u001b[0m \u001b[43mnew_marks\u001b[49m\n",
      "\u001b[1;31mNameError\u001b[0m: name 'new_marks' is not defined"
     ]
    }
   ],
   "source": [
    "new_marks"
   ]
  },
  {
   "cell_type": "code",
   "execution_count": 39,
   "id": "14531994",
   "metadata": {},
   "outputs": [],
   "source": [
    "new_marks=(25,19)"
   ]
  },
  {
   "cell_type": "code",
   "execution_count": 42,
   "id": "84a41133",
   "metadata": {},
   "outputs": [],
   "source": [
    "new_marks=new_marks*2"
   ]
  },
  {
   "cell_type": "code",
   "execution_count": 43,
   "id": "5cbfc762",
   "metadata": {},
   "outputs": [
    {
     "data": {
      "text/plain": [
       "(25, 19, 25, 19)"
      ]
     },
     "execution_count": 43,
     "metadata": {},
     "output_type": "execute_result"
    }
   ],
   "source": [
    "new_marks"
   ]
  },
  {
   "cell_type": "code",
   "execution_count": 44,
   "id": "1efe2889",
   "metadata": {},
   "outputs": [
    {
     "data": {
      "text/plain": [
       "(1, 2, 1, 2)"
      ]
     },
     "execution_count": 44,
     "metadata": {},
     "output_type": "execute_result"
    }
   ],
   "source": [
    "a=(1,2)\n",
    "a*2"
   ]
  },
  {
   "cell_type": "code",
   "execution_count": 46,
   "id": "1b54c18e",
   "metadata": {},
   "outputs": [],
   "source": [
    "a=a*2"
   ]
  },
  {
   "cell_type": "code",
   "execution_count": 47,
   "id": "aeba6cd1",
   "metadata": {},
   "outputs": [
    {
     "name": "stdout",
     "output_type": "stream",
     "text": [
      "(1, 2, 1, 2)\n"
     ]
    }
   ],
   "source": [
    "print(a)"
   ]
  },
  {
   "cell_type": "markdown",
   "id": "c98378e8",
   "metadata": {},
   "source": [
    "# SET"
   ]
  },
  {
   "cell_type": "code",
   "execution_count": 48,
   "id": "5b940388",
   "metadata": {},
   "outputs": [
    {
     "data": {
      "text/plain": [
       "dict"
      ]
     },
     "execution_count": 48,
     "metadata": {},
     "output_type": "execute_result"
    }
   ],
   "source": [
    "set_1={}\n",
    "type(set_1)"
   ]
  },
  {
   "cell_type": "code",
   "execution_count": 49,
   "id": "5c13581e",
   "metadata": {},
   "outputs": [
    {
     "data": {
      "text/plain": [
       "set"
      ]
     },
     "execution_count": 49,
     "metadata": {},
     "output_type": "execute_result"
    }
   ],
   "source": [
    "set_2={1}\n",
    "type(set_2)"
   ]
  },
  {
   "cell_type": "code",
   "execution_count": 50,
   "id": "ab8e3ce6",
   "metadata": {},
   "outputs": [],
   "source": [
    "days={'Monday','Tuesday',\"wednesday\",'Thursday','Friday','Saturday','Sunday'}"
   ]
  },
  {
   "cell_type": "code",
   "execution_count": 51,
   "id": "3f46ef76",
   "metadata": {},
   "outputs": [
    {
     "name": "stdout",
     "output_type": "stream",
     "text": [
      "{'Tuesday', 'Sunday', 'Thursday', 'wednesday', 'Monday', 'Friday', 'Saturday'}\n"
     ]
    }
   ],
   "source": [
    "print(days)"
   ]
  },
  {
   "cell_type": "code",
   "execution_count": 52,
   "id": "6809f799",
   "metadata": {},
   "outputs": [
    {
     "data": {
      "text/plain": [
       "{'Friday', 'Monday', 'Saturday', 'Sunday', 'Thursday', 'Tuesday', 'wednesday'}"
      ]
     },
     "execution_count": 52,
     "metadata": {},
     "output_type": "execute_result"
    }
   ],
   "source": [
    "days"
   ]
  },
  {
   "cell_type": "code",
   "execution_count": 53,
   "id": "06e1d3ac",
   "metadata": {},
   "outputs": [],
   "source": [
    "numbers=[1,2,3,4,5,6,1,2,3,5,6]"
   ]
  },
  {
   "cell_type": "code",
   "execution_count": 54,
   "id": "81f48fa6",
   "metadata": {},
   "outputs": [
    {
     "data": {
      "text/plain": [
       "[1, 2, 3, 4, 5, 6, 1, 2, 3, 5, 6]"
      ]
     },
     "execution_count": 54,
     "metadata": {},
     "output_type": "execute_result"
    }
   ],
   "source": [
    "numbers"
   ]
  },
  {
   "cell_type": "code",
   "execution_count": 55,
   "id": "7c3ec450",
   "metadata": {},
   "outputs": [],
   "source": [
    "set_numbers=set(numbers)"
   ]
  },
  {
   "cell_type": "code",
   "execution_count": 56,
   "id": "40059eae",
   "metadata": {},
   "outputs": [
    {
     "data": {
      "text/plain": [
       "{1, 2, 3, 4, 5, 6}"
      ]
     },
     "execution_count": 56,
     "metadata": {},
     "output_type": "execute_result"
    }
   ],
   "source": [
    "set_numbers"
   ]
  },
  {
   "cell_type": "code",
   "execution_count": 57,
   "id": "9c6e6bf4",
   "metadata": {},
   "outputs": [],
   "source": [
    "random_numbers=[98,12,65,63,5,7,9,25,65,98,63,55,62]"
   ]
  },
  {
   "cell_type": "code",
   "execution_count": 58,
   "id": "e3de9927",
   "metadata": {},
   "outputs": [],
   "source": [
    "# find out the unique odd values in the list\n",
    "odd_numbers=[i for i in random_numbers if i%2==1]"
   ]
  },
  {
   "cell_type": "code",
   "execution_count": 59,
   "id": "2718f66b",
   "metadata": {},
   "outputs": [
    {
     "data": {
      "text/plain": [
       "[65, 63, 5, 7, 9, 25, 65, 63, 55]"
      ]
     },
     "execution_count": 59,
     "metadata": {},
     "output_type": "execute_result"
    }
   ],
   "source": [
    "odd_numbers"
   ]
  },
  {
   "cell_type": "code",
   "execution_count": 62,
   "id": "2ee12989",
   "metadata": {},
   "outputs": [],
   "source": [
    "unique_odd=list(set(odd_numbers))"
   ]
  },
  {
   "cell_type": "code",
   "execution_count": 63,
   "id": "5534bdf5",
   "metadata": {},
   "outputs": [
    {
     "data": {
      "text/plain": [
       "[65, 5, 7, 9, 55, 25, 63]"
      ]
     },
     "execution_count": 63,
     "metadata": {},
     "output_type": "execute_result"
    }
   ],
   "source": [
    "unique_odd"
   ]
  },
  {
   "cell_type": "code",
   "execution_count": 82,
   "id": "f1723e5f",
   "metadata": {},
   "outputs": [],
   "source": [
    "x=set((1,2,1,6,5,4,2))"
   ]
  },
  {
   "cell_type": "code",
   "execution_count": 83,
   "id": "085a6823",
   "metadata": {},
   "outputs": [
    {
     "data": {
      "text/plain": [
       "{1, 2, 4, 5, 6}"
      ]
     },
     "execution_count": 83,
     "metadata": {},
     "output_type": "execute_result"
    }
   ],
   "source": [
    "x"
   ]
  },
  {
   "cell_type": "code",
   "execution_count": 84,
   "id": "24980075",
   "metadata": {},
   "outputs": [],
   "source": [
    "x.remove(4)"
   ]
  },
  {
   "cell_type": "code",
   "execution_count": 85,
   "id": "8a3be032",
   "metadata": {},
   "outputs": [
    {
     "data": {
      "text/plain": [
       "{1, 2, 5, 6}"
      ]
     },
     "execution_count": 85,
     "metadata": {},
     "output_type": "execute_result"
    }
   ],
   "source": [
    "x"
   ]
  },
  {
   "cell_type": "code",
   "execution_count": 86,
   "id": "791336e3",
   "metadata": {},
   "outputs": [],
   "source": [
    "x.add(0)"
   ]
  },
  {
   "cell_type": "code",
   "execution_count": 87,
   "id": "be4c58cc",
   "metadata": {},
   "outputs": [
    {
     "data": {
      "text/plain": [
       "{0, 1, 2, 5, 6}"
      ]
     },
     "execution_count": 87,
     "metadata": {},
     "output_type": "execute_result"
    }
   ],
   "source": [
    "x"
   ]
  },
  {
   "cell_type": "code",
   "execution_count": 88,
   "id": "68fc66cf",
   "metadata": {},
   "outputs": [],
   "source": [
    "x.update([7,8,9])"
   ]
  },
  {
   "cell_type": "code",
   "execution_count": 89,
   "id": "ad0fb838",
   "metadata": {},
   "outputs": [
    {
     "data": {
      "text/plain": [
       "{0, 1, 2, 5, 6, 7, 8, 9}"
      ]
     },
     "execution_count": 89,
     "metadata": {},
     "output_type": "execute_result"
    }
   ],
   "source": [
    "x"
   ]
  },
  {
   "cell_type": "code",
   "execution_count": 90,
   "id": "906b9637",
   "metadata": {},
   "outputs": [
    {
     "ename": "TypeError",
     "evalue": "unhashable type: 'list'",
     "output_type": "error",
     "traceback": [
      "\u001b[1;31m---------------------------------------------------------------------------\u001b[0m",
      "\u001b[1;31mTypeError\u001b[0m                                 Traceback (most recent call last)",
      "Input \u001b[1;32mIn [90]\u001b[0m, in \u001b[0;36m<cell line: 1>\u001b[1;34m()\u001b[0m\n\u001b[1;32m----> 1\u001b[0m \u001b[43mx\u001b[49m\u001b[38;5;241;43m.\u001b[39;49m\u001b[43mremove\u001b[49m\u001b[43m(\u001b[49m\u001b[43m[\u001b[49m\u001b[38;5;241;43m7\u001b[39;49m\u001b[43m,\u001b[49m\u001b[38;5;241;43m8\u001b[39;49m\u001b[43m,\u001b[49m\u001b[38;5;241;43m9\u001b[39;49m\u001b[43m]\u001b[49m\u001b[43m)\u001b[49m\n",
      "\u001b[1;31mTypeError\u001b[0m: unhashable type: 'list'"
     ]
    }
   ],
   "source": [
    "x.remove([7,8,9])"
   ]
  },
  {
   "cell_type": "code",
   "execution_count": 91,
   "id": "a5de077b",
   "metadata": {},
   "outputs": [],
   "source": [
    "x.discard(7)"
   ]
  },
  {
   "cell_type": "code",
   "execution_count": 92,
   "id": "73f8e6ef",
   "metadata": {},
   "outputs": [
    {
     "data": {
      "text/plain": [
       "{0, 1, 2, 5, 6, 8, 9}"
      ]
     },
     "execution_count": 92,
     "metadata": {},
     "output_type": "execute_result"
    }
   ],
   "source": [
    "x"
   ]
  },
  {
   "cell_type": "code",
   "execution_count": 93,
   "id": "b20c016b",
   "metadata": {},
   "outputs": [
    {
     "ename": "TypeError",
     "evalue": "unhashable type: 'list'",
     "output_type": "error",
     "traceback": [
      "\u001b[1;31m---------------------------------------------------------------------------\u001b[0m",
      "\u001b[1;31mTypeError\u001b[0m                                 Traceback (most recent call last)",
      "Input \u001b[1;32mIn [93]\u001b[0m, in \u001b[0;36m<cell line: 1>\u001b[1;34m()\u001b[0m\n\u001b[1;32m----> 1\u001b[0m \u001b[43mx\u001b[49m\u001b[38;5;241;43m.\u001b[39;49m\u001b[43mdiscard\u001b[49m\u001b[43m(\u001b[49m\u001b[43m[\u001b[49m\u001b[38;5;241;43m8\u001b[39;49m\u001b[43m,\u001b[49m\u001b[38;5;241;43m9\u001b[39;49m\u001b[43m]\u001b[49m\u001b[43m)\u001b[49m\n",
      "\u001b[1;31mTypeError\u001b[0m: unhashable type: 'list'"
     ]
    }
   ],
   "source": [
    "x.discard([8,9])"
   ]
  },
  {
   "cell_type": "code",
   "execution_count": 94,
   "id": "ea8d593d",
   "metadata": {},
   "outputs": [],
   "source": [
    "x.discard((8,9))"
   ]
  },
  {
   "cell_type": "code",
   "execution_count": 95,
   "id": "bc1abae1",
   "metadata": {},
   "outputs": [
    {
     "data": {
      "text/plain": [
       "{0, 1, 2, 5, 6, 8, 9}"
      ]
     },
     "execution_count": 95,
     "metadata": {},
     "output_type": "execute_result"
    }
   ],
   "source": [
    "x"
   ]
  },
  {
   "cell_type": "code",
   "execution_count": 96,
   "id": "a8a5c5e7",
   "metadata": {},
   "outputs": [],
   "source": [
    "y=x"
   ]
  },
  {
   "cell_type": "code",
   "execution_count": 97,
   "id": "ab0ad8a4",
   "metadata": {},
   "outputs": [],
   "source": [
    "x=x.discard((8,9))"
   ]
  },
  {
   "cell_type": "code",
   "execution_count": 98,
   "id": "a0ddfd94",
   "metadata": {},
   "outputs": [
    {
     "name": "stdout",
     "output_type": "stream",
     "text": [
      "None\n"
     ]
    }
   ],
   "source": [
    "print(x)"
   ]
  },
  {
   "cell_type": "code",
   "execution_count": 99,
   "id": "c1ea2391",
   "metadata": {},
   "outputs": [],
   "source": [
    "x"
   ]
  },
  {
   "cell_type": "code",
   "execution_count": 100,
   "id": "7ae5c8d4",
   "metadata": {},
   "outputs": [],
   "source": [
    "x=[1,2,3]"
   ]
  },
  {
   "cell_type": "code",
   "execution_count": 101,
   "id": "74815dbe",
   "metadata": {},
   "outputs": [],
   "source": [
    "x.append(4)"
   ]
  },
  {
   "cell_type": "code",
   "execution_count": 102,
   "id": "fc793615",
   "metadata": {},
   "outputs": [
    {
     "data": {
      "text/plain": [
       "[1, 2, 3, 4]"
      ]
     },
     "execution_count": 102,
     "metadata": {},
     "output_type": "execute_result"
    }
   ],
   "source": [
    "x"
   ]
  },
  {
   "cell_type": "code",
   "execution_count": 103,
   "id": "fde72b1f",
   "metadata": {},
   "outputs": [],
   "source": [
    "x=x.append(5)"
   ]
  },
  {
   "cell_type": "code",
   "execution_count": 104,
   "id": "d6a6a5e7",
   "metadata": {},
   "outputs": [],
   "source": [
    "x"
   ]
  },
  {
   "cell_type": "code",
   "execution_count": 105,
   "id": "d5019d1b",
   "metadata": {},
   "outputs": [
    {
     "name": "stdout",
     "output_type": "stream",
     "text": [
      "None\n"
     ]
    }
   ],
   "source": [
    "print(x)"
   ]
  },
  {
   "cell_type": "code",
   "execution_count": 106,
   "id": "3e565544",
   "metadata": {},
   "outputs": [],
   "source": [
    "set1={1,2,3,5}\n",
    "set2={1,2,6,7}"
   ]
  },
  {
   "cell_type": "code",
   "execution_count": 107,
   "id": "a1bafa8c",
   "metadata": {},
   "outputs": [
    {
     "data": {
      "text/plain": [
       "{1, 2}"
      ]
     },
     "execution_count": 107,
     "metadata": {},
     "output_type": "execute_result"
    }
   ],
   "source": [
    "set1.intersection(set2)"
   ]
  },
  {
   "cell_type": "code",
   "execution_count": 110,
   "id": "7a54054c",
   "metadata": {},
   "outputs": [
    {
     "data": {
      "text/plain": [
       "{1, 2}"
      ]
     },
     "execution_count": 110,
     "metadata": {},
     "output_type": "execute_result"
    }
   ],
   "source": [
    "set1 & set2    # intersection"
   ]
  },
  {
   "cell_type": "code",
   "execution_count": 108,
   "id": "ddb67cfb",
   "metadata": {},
   "outputs": [
    {
     "data": {
      "text/plain": [
       "{1, 2, 3, 5, 6, 7}"
      ]
     },
     "execution_count": 108,
     "metadata": {},
     "output_type": "execute_result"
    }
   ],
   "source": [
    "set1.union(set2)"
   ]
  },
  {
   "cell_type": "code",
   "execution_count": 109,
   "id": "8a3d542d",
   "metadata": {},
   "outputs": [
    {
     "data": {
      "text/plain": [
       "{1, 2, 3, 5, 6, 7}"
      ]
     },
     "execution_count": 109,
     "metadata": {},
     "output_type": "execute_result"
    }
   ],
   "source": [
    "set1 | set2   # union"
   ]
  },
  {
   "cell_type": "code",
   "execution_count": 111,
   "id": "b8bf8efd",
   "metadata": {},
   "outputs": [
    {
     "data": {
      "text/plain": [
       "{3, 5}"
      ]
     },
     "execution_count": 111,
     "metadata": {},
     "output_type": "execute_result"
    }
   ],
   "source": [
    "set1-set2"
   ]
  },
  {
   "cell_type": "code",
   "execution_count": 113,
   "id": "9193d509",
   "metadata": {},
   "outputs": [
    {
     "data": {
      "text/plain": [
       "{3, 5}"
      ]
     },
     "execution_count": 113,
     "metadata": {},
     "output_type": "execute_result"
    }
   ],
   "source": [
    "set1.difference(set2)"
   ]
  },
  {
   "cell_type": "code",
   "execution_count": 112,
   "id": "94ebfb3c",
   "metadata": {},
   "outputs": [
    {
     "data": {
      "text/plain": [
       "{6, 7}"
      ]
     },
     "execution_count": 112,
     "metadata": {},
     "output_type": "execute_result"
    }
   ],
   "source": [
    "set2-set1"
   ]
  },
  {
   "cell_type": "code",
   "execution_count": 114,
   "id": "37ea2dc2",
   "metadata": {},
   "outputs": [
    {
     "data": {
      "text/plain": [
       "{6, 7}"
      ]
     },
     "execution_count": 114,
     "metadata": {},
     "output_type": "execute_result"
    }
   ],
   "source": [
    "set2.difference(set1)"
   ]
  },
  {
   "cell_type": "code",
   "execution_count": 115,
   "id": "e8654dac",
   "metadata": {},
   "outputs": [
    {
     "data": {
      "text/plain": [
       "{3, 5, 6, 7}"
      ]
     },
     "execution_count": 115,
     "metadata": {},
     "output_type": "execute_result"
    }
   ],
   "source": [
    "set1.symmetric_difference(set2)"
   ]
  },
  {
   "cell_type": "code",
   "execution_count": 116,
   "id": "c4fec343",
   "metadata": {},
   "outputs": [
    {
     "data": {
      "text/plain": [
       "{3, 5, 6, 7}"
      ]
     },
     "execution_count": 116,
     "metadata": {},
     "output_type": "execute_result"
    }
   ],
   "source": [
    "set1 ^ set2        # symmetric_difference"
   ]
  },
  {
   "cell_type": "markdown",
   "id": "6720dbb5",
   "metadata": {},
   "source": [
    "# Dictionary"
   ]
  },
  {
   "cell_type": "code",
   "execution_count": 117,
   "id": "96d3d7d1",
   "metadata": {},
   "outputs": [],
   "source": [
    "candidate={'Lakhan':25}"
   ]
  },
  {
   "cell_type": "code",
   "execution_count": 118,
   "id": "026cce87",
   "metadata": {},
   "outputs": [
    {
     "data": {
      "text/plain": [
       "dict"
      ]
     },
     "execution_count": 118,
     "metadata": {},
     "output_type": "execute_result"
    }
   ],
   "source": [
    "type(candidate)"
   ]
  },
  {
   "cell_type": "code",
   "execution_count": 119,
   "id": "e5e55af4",
   "metadata": {},
   "outputs": [
    {
     "data": {
      "text/plain": [
       "dict_keys(['Lakhan'])"
      ]
     },
     "execution_count": 119,
     "metadata": {},
     "output_type": "execute_result"
    }
   ],
   "source": [
    "candidate.keys()"
   ]
  },
  {
   "cell_type": "code",
   "execution_count": 120,
   "id": "ff403dcf",
   "metadata": {},
   "outputs": [
    {
     "data": {
      "text/plain": [
       "dict_values([25])"
      ]
     },
     "execution_count": 120,
     "metadata": {},
     "output_type": "execute_result"
    }
   ],
   "source": [
    "candidate.values()"
   ]
  },
  {
   "cell_type": "code",
   "execution_count": 121,
   "id": "1168f1a1",
   "metadata": {},
   "outputs": [
    {
     "data": {
      "text/plain": [
       "dict_items([('Lakhan', 25)])"
      ]
     },
     "execution_count": 121,
     "metadata": {},
     "output_type": "execute_result"
    }
   ],
   "source": [
    "candidate.items()"
   ]
  },
  {
   "cell_type": "code",
   "execution_count": 122,
   "id": "eafdff68",
   "metadata": {},
   "outputs": [
    {
     "data": {
      "text/plain": [
       "{'Lakhan': 25}"
      ]
     },
     "execution_count": 122,
     "metadata": {},
     "output_type": "execute_result"
    }
   ],
   "source": [
    "candidate"
   ]
  },
  {
   "cell_type": "code",
   "execution_count": 123,
   "id": "bb821afb",
   "metadata": {},
   "outputs": [
    {
     "data": {
      "text/plain": [
       "25"
      ]
     },
     "execution_count": 123,
     "metadata": {},
     "output_type": "execute_result"
    }
   ],
   "source": [
    "candidate['Lakhan']"
   ]
  },
  {
   "cell_type": "code",
   "execution_count": 124,
   "id": "be56b28c",
   "metadata": {},
   "outputs": [],
   "source": [
    "candidate['Lakhan']=18"
   ]
  },
  {
   "cell_type": "code",
   "execution_count": 125,
   "id": "17a7266e",
   "metadata": {},
   "outputs": [
    {
     "data": {
      "text/plain": [
       "{'Lakhan': 18}"
      ]
     },
     "execution_count": 125,
     "metadata": {},
     "output_type": "execute_result"
    }
   ],
   "source": [
    "candidate"
   ]
  },
  {
   "cell_type": "code",
   "execution_count": 126,
   "id": "e809b258",
   "metadata": {},
   "outputs": [
    {
     "data": {
      "text/plain": [
       "18"
      ]
     },
     "execution_count": 126,
     "metadata": {},
     "output_type": "execute_result"
    }
   ],
   "source": [
    "candidate['Lakhan']"
   ]
  },
  {
   "cell_type": "code",
   "execution_count": 127,
   "id": "12ffb270",
   "metadata": {},
   "outputs": [],
   "source": [
    "candidate['Neha']=25"
   ]
  },
  {
   "cell_type": "code",
   "execution_count": 128,
   "id": "890f8931",
   "metadata": {},
   "outputs": [
    {
     "data": {
      "text/plain": [
       "{'Lakhan': 18, 'Neha': 25}"
      ]
     },
     "execution_count": 128,
     "metadata": {},
     "output_type": "execute_result"
    }
   ],
   "source": [
    "candidate"
   ]
  },
  {
   "cell_type": "code",
   "execution_count": 129,
   "id": "dc079a4c",
   "metadata": {},
   "outputs": [],
   "source": [
    "fashion={'Tshirt':150,'Jeans':500,'Shirt':500,'Trouser':700}"
   ]
  },
  {
   "cell_type": "code",
   "execution_count": 130,
   "id": "c0cbb07b",
   "metadata": {},
   "outputs": [
    {
     "data": {
      "text/plain": [
       "{'Tshirt': 150, 'Jeans': 500, 'Shirt': 500, 'Trouser': 700}"
      ]
     },
     "execution_count": 130,
     "metadata": {},
     "output_type": "execute_result"
    }
   ],
   "source": [
    "fashion"
   ]
  },
  {
   "cell_type": "code",
   "execution_count": 133,
   "id": "51d09d25",
   "metadata": {},
   "outputs": [],
   "source": [
    "fashion['T-shirt']=fashion.pop('Tshirt')"
   ]
  },
  {
   "cell_type": "code",
   "execution_count": 134,
   "id": "adfaaa15",
   "metadata": {},
   "outputs": [
    {
     "data": {
      "text/plain": [
       "{'Jeans': 500, 'Shirt': 500, 'Trouser': 700, 'T-shirt': 150}"
      ]
     },
     "execution_count": 134,
     "metadata": {},
     "output_type": "execute_result"
    }
   ],
   "source": [
    "fashion"
   ]
  },
  {
   "cell_type": "code",
   "execution_count": 135,
   "id": "72fe800f",
   "metadata": {},
   "outputs": [],
   "source": [
    "# dict_name[new_key]=dict_name.pop(old_key)"
   ]
  },
  {
   "cell_type": "code",
   "execution_count": 136,
   "id": "aff7d7f1",
   "metadata": {},
   "outputs": [],
   "source": [
    "items=list(fashion.keys())"
   ]
  },
  {
   "cell_type": "code",
   "execution_count": 138,
   "id": "12437262",
   "metadata": {},
   "outputs": [
    {
     "data": {
      "text/plain": [
       "['Jeans', 'Shirt', 'Trouser', 'T-shirt']"
      ]
     },
     "execution_count": 138,
     "metadata": {},
     "output_type": "execute_result"
    }
   ],
   "source": [
    "items"
   ]
  },
  {
   "cell_type": "code",
   "execution_count": 139,
   "id": "d9d6a77b",
   "metadata": {},
   "outputs": [],
   "source": [
    "prices=list(fashion.values())"
   ]
  },
  {
   "cell_type": "code",
   "execution_count": 140,
   "id": "b756854c",
   "metadata": {},
   "outputs": [
    {
     "data": {
      "text/plain": [
       "[500, 500, 700, 150]"
      ]
     },
     "execution_count": 140,
     "metadata": {},
     "output_type": "execute_result"
    }
   ],
   "source": [
    "prices"
   ]
  },
  {
   "cell_type": "code",
   "execution_count": 141,
   "id": "739fe99b",
   "metadata": {},
   "outputs": [],
   "source": [
    "total_items=list(fashion.items())"
   ]
  },
  {
   "cell_type": "code",
   "execution_count": 142,
   "id": "8c5c6177",
   "metadata": {},
   "outputs": [
    {
     "data": {
      "text/plain": [
       "[('Jeans', 500), ('Shirt', 500), ('Trouser', 700), ('T-shirt', 150)]"
      ]
     },
     "execution_count": 142,
     "metadata": {},
     "output_type": "execute_result"
    }
   ],
   "source": [
    "total_items"
   ]
  },
  {
   "cell_type": "code",
   "execution_count": 143,
   "id": "6f387f2b",
   "metadata": {},
   "outputs": [],
   "source": [
    "dummy_dic={'key1':'value1','key2':'value2','key3':'value3'}"
   ]
  },
  {
   "cell_type": "code",
   "execution_count": 144,
   "id": "86858113",
   "metadata": {},
   "outputs": [
    {
     "data": {
      "text/plain": [
       "dict_items([('key1', 'value1'), ('key2', 'value2'), ('key3', 'value3')])"
      ]
     },
     "execution_count": 144,
     "metadata": {},
     "output_type": "execute_result"
    }
   ],
   "source": [
    "dummy_dic.items()"
   ]
  },
  {
   "cell_type": "code",
   "execution_count": 145,
   "id": "08914105",
   "metadata": {},
   "outputs": [
    {
     "name": "stdout",
     "output_type": "stream",
     "text": [
      "dict_items([('key1', 'value1'), ('key2', 'value2'), ('key3', 'value3')])\n"
     ]
    }
   ],
   "source": [
    "print(dummy_dic.items())"
   ]
  },
  {
   "cell_type": "code",
   "execution_count": 146,
   "id": "3828a145",
   "metadata": {},
   "outputs": [
    {
     "name": "stdout",
     "output_type": "stream",
     "text": [
      "[('key1', 'value1'), ('key2', 'value2'), ('key3', 'value3')]\n"
     ]
    }
   ],
   "source": [
    "print(list(dummy_dic.items()))"
   ]
  },
  {
   "cell_type": "code",
   "execution_count": 147,
   "id": "e6f8a26f",
   "metadata": {},
   "outputs": [
    {
     "name": "stdout",
     "output_type": "stream",
     "text": [
      "['key1', 'key2', 'key3']\n"
     ]
    }
   ],
   "source": [
    "print(list(dummy_dic.keys()))"
   ]
  },
  {
   "cell_type": "code",
   "execution_count": 148,
   "id": "33184407",
   "metadata": {},
   "outputs": [
    {
     "name": "stdout",
     "output_type": "stream",
     "text": [
      "['value1', 'value2', 'value3']\n"
     ]
    }
   ],
   "source": [
    "print(list(dummy_dic.values()))"
   ]
  },
  {
   "cell_type": "code",
   "execution_count": 152,
   "id": "488be85c",
   "metadata": {},
   "outputs": [],
   "source": [
    "x1=dict([['a',1],['b',2],['c',3]])"
   ]
  },
  {
   "cell_type": "code",
   "execution_count": 153,
   "id": "9540c49a",
   "metadata": {},
   "outputs": [
    {
     "data": {
      "text/plain": [
       "{'a': 1, 'b': 2, 'c': 3}"
      ]
     },
     "execution_count": 153,
     "metadata": {},
     "output_type": "execute_result"
    }
   ],
   "source": [
    "x1"
   ]
  },
  {
   "cell_type": "code",
   "execution_count": 154,
   "id": "d07fafd4",
   "metadata": {},
   "outputs": [],
   "source": [
    "x2=dict([('a1',11),('b1',12),('c1',13)])"
   ]
  },
  {
   "cell_type": "code",
   "execution_count": 155,
   "id": "e00f7343",
   "metadata": {},
   "outputs": [
    {
     "data": {
      "text/plain": [
       "{'a1': 11, 'b1': 12, 'c1': 13}"
      ]
     },
     "execution_count": 155,
     "metadata": {},
     "output_type": "execute_result"
    }
   ],
   "source": [
    "x2"
   ]
  },
  {
   "cell_type": "code",
   "execution_count": 156,
   "id": "25dacac0",
   "metadata": {},
   "outputs": [],
   "source": [
    "name=['Ubaid','Lakhan','Neha','Sonu']\n",
    "height=[5.8,5.9,5.6,5.6]\n",
    "dict_height={}\n",
    "\n",
    "for i in range(len(name)):\n",
    "    dict_height[name[i]]=height[i]"
   ]
  },
  {
   "cell_type": "code",
   "execution_count": 157,
   "id": "975c7de2",
   "metadata": {},
   "outputs": [
    {
     "data": {
      "text/plain": [
       "{'Ubaid': 5.8, 'Lakhan': 5.9, 'Neha': 5.6, 'Sonu': 5.6}"
      ]
     },
     "execution_count": 157,
     "metadata": {},
     "output_type": "execute_result"
    }
   ],
   "source": [
    "dict_height"
   ]
  },
  {
   "cell_type": "code",
   "execution_count": 158,
   "id": "4dbf9f39",
   "metadata": {},
   "outputs": [
    {
     "name": "stdout",
     "output_type": "stream",
     "text": [
      "{'Ubaid': 5.8, 'Lakhan': 5.9, 'Neha': 5.6, 'Sonu': 5.6}\n"
     ]
    }
   ],
   "source": [
    "name=['Ubaid','Lakhan','Neha','Sonu']\n",
    "height=[5.8,5.9,5.6,5.6]\n",
    "dict_height_1=dict(zip(name,height))\n",
    "print(dict_height_1)"
   ]
  },
  {
   "cell_type": "code",
   "execution_count": 159,
   "id": "e98a2dac",
   "metadata": {},
   "outputs": [
    {
     "name": "stdout",
     "output_type": "stream",
     "text": [
      "Ubaid\n",
      "Lakhan\n",
      "Neha\n",
      "Sonu\n"
     ]
    }
   ],
   "source": [
    "for i in dict_height_1.keys():\n",
    "    print(i)"
   ]
  },
  {
   "cell_type": "code",
   "execution_count": 160,
   "id": "e9eedc9a",
   "metadata": {},
   "outputs": [
    {
     "name": "stdout",
     "output_type": "stream",
     "text": [
      "5.8\n",
      "5.9\n",
      "5.6\n",
      "5.6\n"
     ]
    }
   ],
   "source": [
    "for i in dict_height_1.values():\n",
    "    print(i)"
   ]
  },
  {
   "cell_type": "code",
   "execution_count": 161,
   "id": "d2037043",
   "metadata": {},
   "outputs": [
    {
     "data": {
      "text/plain": [
       "5.9"
      ]
     },
     "execution_count": 161,
     "metadata": {},
     "output_type": "execute_result"
    }
   ],
   "source": [
    "dict_height_1.get('Lakhan')"
   ]
  },
  {
   "cell_type": "code",
   "execution_count": 162,
   "id": "5f8e8439",
   "metadata": {},
   "outputs": [
    {
     "data": {
      "text/plain": [
       "5.9"
      ]
     },
     "execution_count": 162,
     "metadata": {},
     "output_type": "execute_result"
    }
   ],
   "source": [
    "dict_height_1['Lakhan']"
   ]
  },
  {
   "cell_type": "code",
   "execution_count": 163,
   "id": "0b54b40b",
   "metadata": {},
   "outputs": [
    {
     "data": {
      "text/plain": [
       "5.9"
      ]
     },
     "execution_count": 163,
     "metadata": {},
     "output_type": "execute_result"
    }
   ],
   "source": [
    "dict_height_1.pop('Lakhan')"
   ]
  },
  {
   "cell_type": "code",
   "execution_count": 164,
   "id": "fa416f1c",
   "metadata": {},
   "outputs": [
    {
     "data": {
      "text/plain": [
       "{'Ubaid': 5.8, 'Neha': 5.6, 'Sonu': 5.6}"
      ]
     },
     "execution_count": 164,
     "metadata": {},
     "output_type": "execute_result"
    }
   ],
   "source": [
    "dict_height_1"
   ]
  },
  {
   "cell_type": "code",
   "execution_count": 165,
   "id": "b3f74886",
   "metadata": {},
   "outputs": [
    {
     "data": {
      "text/plain": [
       "('Sonu', 5.6)"
      ]
     },
     "execution_count": 165,
     "metadata": {},
     "output_type": "execute_result"
    }
   ],
   "source": [
    "dict_height_1.popitem()"
   ]
  },
  {
   "cell_type": "code",
   "execution_count": 166,
   "id": "d946dd50",
   "metadata": {},
   "outputs": [],
   "source": [
    "dict_height_2=dict_height_1.copy()"
   ]
  },
  {
   "cell_type": "code",
   "execution_count": 167,
   "id": "e62fd496",
   "metadata": {},
   "outputs": [
    {
     "data": {
      "text/plain": [
       "{'Ubaid': 5.8, 'Neha': 5.6}"
      ]
     },
     "execution_count": 167,
     "metadata": {},
     "output_type": "execute_result"
    }
   ],
   "source": [
    "dict_height_2"
   ]
  },
  {
   "cell_type": "code",
   "execution_count": 168,
   "id": "8703c4f4",
   "metadata": {},
   "outputs": [],
   "source": [
    "dict_height_2.clear()"
   ]
  },
  {
   "cell_type": "code",
   "execution_count": 169,
   "id": "31a3ee25",
   "metadata": {},
   "outputs": [
    {
     "data": {
      "text/plain": [
       "{}"
      ]
     },
     "execution_count": 169,
     "metadata": {},
     "output_type": "execute_result"
    }
   ],
   "source": [
    "dict_height_2"
   ]
  },
  {
   "cell_type": "code",
   "execution_count": 170,
   "id": "563d7e02",
   "metadata": {},
   "outputs": [],
   "source": [
    "del dict_height_2"
   ]
  },
  {
   "cell_type": "code",
   "execution_count": 171,
   "id": "d1130ab4",
   "metadata": {},
   "outputs": [
    {
     "ename": "NameError",
     "evalue": "name 'dict_height_2' is not defined",
     "output_type": "error",
     "traceback": [
      "\u001b[1;31m---------------------------------------------------------------------------\u001b[0m",
      "\u001b[1;31mNameError\u001b[0m                                 Traceback (most recent call last)",
      "Input \u001b[1;32mIn [171]\u001b[0m, in \u001b[0;36m<cell line: 1>\u001b[1;34m()\u001b[0m\n\u001b[1;32m----> 1\u001b[0m \u001b[43mdict_height_2\u001b[49m\n",
      "\u001b[1;31mNameError\u001b[0m: name 'dict_height_2' is not defined"
     ]
    }
   ],
   "source": [
    "dict_height_2"
   ]
  },
  {
   "cell_type": "code",
   "execution_count": 172,
   "id": "021b65cc",
   "metadata": {},
   "outputs": [
    {
     "data": {
      "text/plain": [
       "{'Ubaid': 5.8, 'Neha': 5.6}"
      ]
     },
     "execution_count": 172,
     "metadata": {},
     "output_type": "execute_result"
    }
   ],
   "source": [
    "dict_height_1"
   ]
  },
  {
   "cell_type": "code",
   "execution_count": 173,
   "id": "7d284c0f",
   "metadata": {},
   "outputs": [],
   "source": [
    "dict_height_1['Lakhan']=5.8"
   ]
  },
  {
   "cell_type": "code",
   "execution_count": 174,
   "id": "08618798",
   "metadata": {},
   "outputs": [
    {
     "data": {
      "text/plain": [
       "{'Ubaid': 5.8, 'Neha': 5.6, 'Lakhan': 5.8}"
      ]
     },
     "execution_count": 174,
     "metadata": {},
     "output_type": "execute_result"
    }
   ],
   "source": [
    "dict_height_1"
   ]
  },
  {
   "cell_type": "code",
   "execution_count": 175,
   "id": "9b98b1b0",
   "metadata": {},
   "outputs": [],
   "source": [
    "dict_height_1['Lakhan']=5.9"
   ]
  },
  {
   "cell_type": "code",
   "execution_count": 176,
   "id": "ce7d82c8",
   "metadata": {},
   "outputs": [
    {
     "data": {
      "text/plain": [
       "{'Ubaid': 5.8, 'Neha': 5.6, 'Lakhan': 5.9}"
      ]
     },
     "execution_count": 176,
     "metadata": {},
     "output_type": "execute_result"
    }
   ],
   "source": [
    "dict_height_1"
   ]
  },
  {
   "cell_type": "code",
   "execution_count": 177,
   "id": "6a1c1bf6",
   "metadata": {},
   "outputs": [],
   "source": [
    "dict_height_1.update({'Lakhan':5.7})"
   ]
  },
  {
   "cell_type": "code",
   "execution_count": 178,
   "id": "bac8a546",
   "metadata": {},
   "outputs": [
    {
     "data": {
      "text/plain": [
       "{'Ubaid': 5.8, 'Neha': 5.6, 'Lakhan': 5.7}"
      ]
     },
     "execution_count": 178,
     "metadata": {},
     "output_type": "execute_result"
    }
   ],
   "source": [
    "dict_height_1"
   ]
  },
  {
   "cell_type": "code",
   "execution_count": 179,
   "id": "b0c0d44e",
   "metadata": {},
   "outputs": [
    {
     "name": "stdout",
     "output_type": "stream",
     "text": [
      "Ubaid 5.8\n",
      "Neha 5.6\n",
      "Lakhan 5.7\n"
     ]
    }
   ],
   "source": [
    "for k,v in dict_height_1.items():\n",
    "    print(k,v)"
   ]
  },
  {
   "cell_type": "code",
   "execution_count": 182,
   "id": "00cce96a",
   "metadata": {},
   "outputs": [
    {
     "name": "stdout",
     "output_type": "stream",
     "text": [
      "0 ('Ubaid', 5.8)\n",
      "1 ('Neha', 5.6)\n",
      "2 ('Lakhan', 5.7)\n"
     ]
    }
   ],
   "source": [
    "for i,item in enumerate(dict_height_1.items()):\n",
    "    print(i,item)"
   ]
  },
  {
   "cell_type": "code",
   "execution_count": null,
   "id": "72a68550",
   "metadata": {},
   "outputs": [],
   "source": []
  }
 ],
 "metadata": {
  "kernelspec": {
   "display_name": "Python 3 (ipykernel)",
   "language": "python",
   "name": "python3"
  },
  "language_info": {
   "codemirror_mode": {
    "name": "ipython",
    "version": 3
   },
   "file_extension": ".py",
   "mimetype": "text/x-python",
   "name": "python",
   "nbconvert_exporter": "python",
   "pygments_lexer": "ipython3",
   "version": "3.8.13"
  }
 },
 "nbformat": 4,
 "nbformat_minor": 5
}
