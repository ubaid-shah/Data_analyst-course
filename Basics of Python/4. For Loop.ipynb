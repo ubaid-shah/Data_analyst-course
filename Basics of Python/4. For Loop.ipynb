{
 "cells": [
  {
   "cell_type": "code",
   "execution_count": 2,
   "id": "562b394e",
   "metadata": {},
   "outputs": [
    {
     "name": "stdout",
     "output_type": "stream",
     "text": [
      "0\n",
      "1\n",
      "2\n",
      "3\n",
      "4\n",
      "5\n"
     ]
    }
   ],
   "source": [
    "for i in range(6):   #(start,end+1)    start=0\n",
    "    print(i)\n",
    "    \n",
    "    \n"
   ]
  },
  {
   "cell_type": "code",
   "execution_count": 3,
   "id": "3b037a8b",
   "metadata": {},
   "outputs": [
    {
     "name": "stdout",
     "output_type": "stream",
     "text": [
      "1\n",
      "2\n",
      "3\n",
      "4\n",
      "5\n",
      "6\n",
      "7\n",
      "8\n",
      "9\n",
      "10\n"
     ]
    }
   ],
   "source": [
    "for i in range(1,11):   #(start,end+1)    start=0\n",
    "    print(i)"
   ]
  },
  {
   "cell_type": "code",
   "execution_count": 8,
   "id": "faa76598",
   "metadata": {},
   "outputs": [
    {
     "name": "stdout",
     "output_type": "stream",
     "text": [
      "1\n",
      "4\n",
      "7\n",
      "10\n",
      "13\n",
      "16\n",
      "19\n"
     ]
    }
   ],
   "source": [
    "for num in range(1,21,3):   #(start,end+1,step)    start=0\n",
    "    print(num)"
   ]
  },
  {
   "cell_type": "code",
   "execution_count": 10,
   "id": "e2ee16dd",
   "metadata": {},
   "outputs": [
    {
     "name": "stdout",
     "output_type": "stream",
     "text": [
      "8 x 1 =8\n",
      "8 x 2 =16\n",
      "8 x 3 =24\n",
      "8 x 4 =32\n",
      "8 x 5 =40\n",
      "8 x 6 =48\n",
      "8 x 7 =56\n",
      "8 x 8 =64\n",
      "8 x 9 =72\n",
      "8 x 10 =80\n"
     ]
    }
   ],
   "source": [
    "for i in range(1,11):\n",
    "    print('%d x %d =%d'%(8,i,8*i))"
   ]
  },
  {
   "cell_type": "code",
   "execution_count": 11,
   "id": "2d0f7097",
   "metadata": {},
   "outputs": [
    {
     "name": "stdout",
     "output_type": "stream",
     "text": [
      "8\n",
      "16\n",
      "24\n",
      "32\n",
      "40\n",
      "48\n",
      "56\n",
      "64\n",
      "72\n",
      "80\n"
     ]
    }
   ],
   "source": [
    "for i in range(1,11):\n",
    "    print((8*i))"
   ]
  },
  {
   "cell_type": "code",
   "execution_count": 12,
   "id": "86822327",
   "metadata": {},
   "outputs": [
    {
     "name": "stdout",
     "output_type": "stream",
     "text": [
      "8 + 0 =8\n",
      "8 + 1 =9\n",
      "8 + 2 =10\n",
      "8 + 3 =11\n",
      "8 + 4 =12\n",
      "8 + 5 =13\n",
      "8 + 6 =14\n",
      "8 + 7 =15\n",
      "8 + 8 =16\n",
      "8 + 9 =17\n",
      "8 + 10 =18\n"
     ]
    }
   ],
   "source": [
    "for i in range(11):\n",
    "    print('%d + %d =%d'%(8,i,8+i))"
   ]
  },
  {
   "cell_type": "code",
   "execution_count": 13,
   "id": "67dafccb",
   "metadata": {
    "collapsed": true
   },
   "outputs": [
    {
     "name": "stdout",
     "output_type": "stream",
     "text": [
      "0\n",
      "2\n",
      "4\n",
      "6\n",
      "8\n",
      "10\n"
     ]
    }
   ],
   "source": [
    "# print even numbers between 0 to 10\n",
    "for i in range(11):\n",
    "    if i%2==0:\n",
    "        print(i)\n",
    "        "
   ]
  },
  {
   "cell_type": "code",
   "execution_count": 14,
   "id": "561b77f0",
   "metadata": {},
   "outputs": [
    {
     "name": "stdout",
     "output_type": "stream",
     "text": [
      "1\n",
      "3\n",
      "5\n",
      "7\n",
      "9\n"
     ]
    }
   ],
   "source": [
    "# print odd numbers between 0 to 10\n",
    "for i in range(11):\n",
    "    if i%2!=0:\n",
    "        print(i)"
   ]
  },
  {
   "cell_type": "code",
   "execution_count": 15,
   "id": "1bb1b4f8",
   "metadata": {},
   "outputs": [
    {
     "name": "stdout",
     "output_type": "stream",
     "text": [
      "P\n",
      "y\n",
      "t\n",
      "h\n",
      "o\n",
      "n\n"
     ]
    }
   ],
   "source": [
    "s='Python'\n",
    "for i in s:\n",
    "    print(i)\n",
    "    "
   ]
  },
  {
   "cell_type": "code",
   "execution_count": 16,
   "id": "14ef15b1",
   "metadata": {},
   "outputs": [
    {
     "name": "stdout",
     "output_type": "stream",
     "text": [
      "Python"
     ]
    }
   ],
   "source": [
    "s='Python'\n",
    "for i in s:\n",
    "    print(i, end='')\n",
    "    "
   ]
  },
  {
   "cell_type": "code",
   "execution_count": 17,
   "id": "d08f8da7",
   "metadata": {},
   "outputs": [
    {
     "name": "stdout",
     "output_type": "stream",
     "text": [
      "P y t h o n "
     ]
    }
   ],
   "source": [
    "s='Python'\n",
    "for i in s:\n",
    "    print(i, end=' ')"
   ]
  },
  {
   "cell_type": "code",
   "execution_count": 19,
   "id": "722bcf5e",
   "metadata": {},
   "outputs": [
    {
     "name": "stdout",
     "output_type": "stream",
     "text": [
      "P.y.t.h.o.n."
     ]
    }
   ],
   "source": [
    "s='Python'\n",
    "for i in s:\n",
    "    print(i, end='.')"
   ]
  },
  {
   "cell_type": "code",
   "execution_count": 39,
   "id": "cb25ad66",
   "metadata": {},
   "outputs": [
    {
     "name": "stdout",
     "output_type": "stream",
     "text": [
      "P y t h o n "
     ]
    }
   ],
   "source": [
    "s='Python'\n",
    "for i in s:\n",
    "    print(i,sep='_',end=' ')"
   ]
  },
  {
   "cell_type": "code",
   "execution_count": 33,
   "id": "7c552a16",
   "metadata": {},
   "outputs": [
    {
     "name": "stdout",
     "output_type": "stream",
     "text": [
      "ubaid@boardinfinity.com"
     ]
    }
   ],
   "source": [
    "s='ubaid'\n",
    "x='boardinfinity'\n",
    "print(s,x,sep='@',end='.com')"
   ]
  },
  {
   "cell_type": "code",
   "execution_count": 34,
   "id": "96a8667d",
   "metadata": {},
   "outputs": [
    {
     "name": "stdout",
     "output_type": "stream",
     "text": [
      "lakhan@boardinfinity.com"
     ]
    }
   ],
   "source": [
    "s='lakhan'\n",
    "x='boardinfinity'\n",
    "print(s,x,sep='@',end='.com')"
   ]
  },
  {
   "cell_type": "code",
   "execution_count": 76,
   "id": "05b5b53a",
   "metadata": {},
   "outputs": [],
   "source": [
    "u='ubaidshah@gmail.com'\n",
    "l='lakhannaik@hotmail.com'\n",
    "n='nehagulati@yahoo.com'\n",
    "s='sonupatidar@outlook.com'\n",
    "d='www'    "
   ]
  },
  {
   "cell_type": "code",
   "execution_count": 78,
   "id": "586b5272",
   "metadata": {},
   "outputs": [],
   "source": [
    "u=u.split('@')"
   ]
  },
  {
   "cell_type": "code",
   "execution_count": 83,
   "id": "6792b4ef",
   "metadata": {},
   "outputs": [
    {
     "data": {
      "text/plain": [
       "['ubaidshah', 'gmail.com']"
      ]
     },
     "execution_count": 83,
     "metadata": {},
     "output_type": "execute_result"
    }
   ],
   "source": [
    "u"
   ]
  },
  {
   "cell_type": "code",
   "execution_count": 79,
   "id": "d3618cf1",
   "metadata": {},
   "outputs": [
    {
     "name": "stdout",
     "output_type": "stream",
     "text": [
      "www.gmail.com\n"
     ]
    }
   ],
   "source": [
    "print(d,u[1],sep='.')"
   ]
  },
  {
   "cell_type": "code",
   "execution_count": 82,
   "id": "c8b17167",
   "metadata": {},
   "outputs": [
    {
     "name": "stdout",
     "output_type": "stream",
     "text": [
      "www.gmail.com\n",
      "www.yahoo.com\n",
      "www.hotmail.com\n",
      "www.outlook.com\n"
     ]
    }
   ],
   "source": [
    "l=l.split('@')\n",
    "n=n.split('@')\n",
    "s=s.split('@')\n",
    "\n",
    "print(d,u[1],sep='.')\n",
    "print(d,n[1],sep='.')\n",
    "print(d,l[1],sep='.')\n",
    "print(d,s[1],sep='.')"
   ]
  },
  {
   "cell_type": "code",
   "execution_count": 47,
   "id": "ccace92f",
   "metadata": {},
   "outputs": [],
   "source": [
    "a=u+','+l+','+n+','+s"
   ]
  },
  {
   "cell_type": "code",
   "execution_count": 48,
   "id": "072ffad2",
   "metadata": {},
   "outputs": [
    {
     "data": {
      "text/plain": [
       "'ubaidshah@gmail.com,lakhannaik@hotmail.com,nehagulati@yahoo.com,sonupatidar@outlook.com'"
      ]
     },
     "execution_count": 48,
     "metadata": {},
     "output_type": "execute_result"
    }
   ],
   "source": [
    "a"
   ]
  },
  {
   "cell_type": "code",
   "execution_count": 49,
   "id": "d953936a",
   "metadata": {},
   "outputs": [],
   "source": [
    "a=a.split(',')"
   ]
  },
  {
   "cell_type": "code",
   "execution_count": 58,
   "id": "ca2a92ce",
   "metadata": {},
   "outputs": [
    {
     "name": "stdout",
     "output_type": "stream",
     "text": [
      "ubaidshah@gmail.com\n"
     ]
    }
   ],
   "source": [
    "print(a[0])"
   ]
  },
  {
   "cell_type": "code",
   "execution_count": 64,
   "id": "e7cf7649",
   "metadata": {},
   "outputs": [],
   "source": [
    "x=[]\n",
    "for i in range(len(a)):\n",
    "    x.append(a[i].split('@'))\n",
    "for i in range(len(x)):\n",
    "    print(d,x[i][1],sep='@')"
   ]
  },
  {
   "cell_type": "code",
   "execution_count": 67,
   "id": "46599533",
   "metadata": {},
   "outputs": [
    {
     "name": "stdout",
     "output_type": "stream",
     "text": [
      "[['ubaidshah', 'gmail.com'], ['lakhannaik', 'hotmail.com'], ['nehagulati', 'yahoo.com'], ['sonupatidar', 'outlook.com']]\n"
     ]
    }
   ],
   "source": [
    "print(x)"
   ]
  },
  {
   "cell_type": "code",
   "execution_count": 68,
   "id": "fecc7326",
   "metadata": {},
   "outputs": [
    {
     "data": {
      "text/plain": [
       "'www'"
      ]
     },
     "execution_count": 68,
     "metadata": {},
     "output_type": "execute_result"
    }
   ],
   "source": [
    "d"
   ]
  },
  {
   "cell_type": "code",
   "execution_count": 70,
   "id": "63ef7cae",
   "metadata": {},
   "outputs": [
    {
     "name": "stdout",
     "output_type": "stream",
     "text": [
      "www@gmail.com\n",
      "www@hotmail.com\n",
      "www@yahoo.com\n",
      "www@outlook.com\n"
     ]
    }
   ],
   "source": [
    "for i in range(len(x)):\n",
    "    print(d,x[i][1],sep='@')"
   ]
  },
  {
   "cell_type": "code",
   "execution_count": null,
   "id": "22a8f9e1",
   "metadata": {},
   "outputs": [],
   "source": [
    "u='ubaidshah@gmail.com'\n",
    "l='lakhannaik@hotmail.com'\n",
    "n='nehagulati@yahoo.com'\n",
    "s='sonupatidar@outlook.com'\n",
    "d='www'\n",
    "a=u+','+l+','+n+','+s\n",
    "x=[]\n",
    "for i in range(len(a)):\n",
    "    x.append(a[i].split('@'))\n",
    "for i in range(len(x)):\n",
    "    print(d,x[i][1],sep='@')"
   ]
  },
  {
   "cell_type": "code",
   "execution_count": 85,
   "id": "9a15d82f",
   "metadata": {},
   "outputs": [
    {
     "name": "stdout",
     "output_type": "stream",
     "text": [
      "ubaid@shah.com lakhan@naik.com neha@gulati.com sonu@patidar.com\n",
      "www.shah.com\n",
      "www.naik.com\n",
      "www.gulati.com\n",
      "www.patidar.com\n"
     ]
    }
   ],
   "source": [
    "d='www'\n",
    "y=input().split()\n",
    "c=[]\n",
    "for i in range(len(y)):\n",
    "    c.append(y[i].split('@'))\n",
    "for i in range(len(c)):\n",
    "    print(d,c[i][1],sep='.')"
   ]
  },
  {
   "cell_type": "code",
   "execution_count": 86,
   "id": "49c5274a",
   "metadata": {},
   "outputs": [
    {
     "name": "stdout",
     "output_type": "stream",
     "text": [
      "rice\n",
      "headphone\n",
      "Jeans\n"
     ]
    }
   ],
   "source": [
    "for i in range(1,4):\n",
    "    if i==1:\n",
    "        print('rice')\n",
    "    elif i==2:\n",
    "        print('headphone')\n",
    "    else:\n",
    "        print('Jeans')"
   ]
  },
  {
   "cell_type": "code",
   "execution_count": 88,
   "id": "9ae7c58e",
   "metadata": {},
   "outputs": [
    {
     "name": "stdout",
     "output_type": "stream",
     "text": [
      "0\n",
      "1\n",
      "2\n",
      "3\n",
      "4\n",
      "HiFi\n",
      "6\n",
      "7\n",
      "8\n",
      "9\n",
      "10\n"
     ]
    }
   ],
   "source": [
    "for i in range(11):\n",
    "    if i==5:\n",
    "        print('HiFi')\n",
    "    else:\n",
    "        print(i)"
   ]
  },
  {
   "cell_type": "code",
   "execution_count": 91,
   "id": "eb0b3954",
   "metadata": {},
   "outputs": [
    {
     "name": "stdout",
     "output_type": "stream",
     "text": [
      "0\n",
      "1\n",
      "3\n",
      "4\n",
      "6\n",
      "7\n",
      "9\n",
      "10\n"
     ]
    }
   ],
   "source": [
    "for i in range(11):\n",
    "    if i==5 or i==8 or i==2:\n",
    "        continue\n",
    "    else:\n",
    "        print(i)\n",
    "   "
   ]
  },
  {
   "cell_type": "code",
   "execution_count": 93,
   "id": "9eb9dee2",
   "metadata": {},
   "outputs": [
    {
     "name": "stdout",
     "output_type": "stream",
     "text": [
      "-6\n",
      "-9\n"
     ]
    }
   ],
   "source": [
    "a=[1,2,5,-6,8,-9,10]\n",
    "for i in a:\n",
    "    if i>0:\n",
    "        continue\n",
    "    else:\n",
    "        print(i)"
   ]
  },
  {
   "cell_type": "code",
   "execution_count": 94,
   "id": "7baf2aea",
   "metadata": {},
   "outputs": [
    {
     "name": "stdout",
     "output_type": "stream",
     "text": [
      "0\n",
      "1\n",
      "2\n"
     ]
    }
   ],
   "source": [
    "for i in range(7):\n",
    "    if i==3:\n",
    "        break\n",
    "    else:\n",
    "        print(i)"
   ]
  },
  {
   "cell_type": "code",
   "execution_count": 96,
   "id": "7cce2d3e",
   "metadata": {},
   "outputs": [
    {
     "name": "stdout",
     "output_type": "stream",
     "text": [
      "ubaidshah"
     ]
    }
   ],
   "source": [
    "s='ubaidshah@gmail.com'\n",
    "for i in s:\n",
    "    if i=='@':\n",
    "        break\n",
    "    else:\n",
    "        print(i, end='')"
   ]
  },
  {
   "cell_type": "code",
   "execution_count": 105,
   "id": "08438074",
   "metadata": {},
   "outputs": [
    {
     "name": "stdout",
     "output_type": "stream",
     "text": [
      "Not eligible for the test\n",
      "Not eligible for the test\n",
      "Eligible for the test\n",
      "Eligible for the test\n",
      "Eligible for the test\n",
      "Eligible for the test\n",
      "Not eligible for the test\n"
     ]
    }
   ],
   "source": [
    "x=[10, 25, 35, 45, 38, 58, 15]\n",
    "y=['a','b','c','d','e','f','g']\n",
    "pass_cri=30\n",
    "# 'Eligible for the test'\n",
    "\n",
    "# 'Not eligible for the test'\n",
    "\n",
    "for i in x:\n",
    "    if i<pass_cri:\n",
    "        print('Not eligible for the test')\n",
    "    else:\n",
    "        print('Eligible for the test')\n"
   ]
  },
  {
   "cell_type": "code",
   "execution_count": 101,
   "id": "7df562ce",
   "metadata": {
    "collapsed": true
   },
   "outputs": [
    {
     "name": "stdout",
     "output_type": "stream",
     "text": [
      "0\n",
      "1\n",
      "2\n",
      "3\n",
      "4\n",
      "6\n",
      "7\n"
     ]
    }
   ],
   "source": [
    "for i in range(8):\n",
    "    if i==5:\n",
    "        pass\n",
    "    else:\n",
    "        print(i)"
   ]
  },
  {
   "cell_type": "code",
   "execution_count": 106,
   "id": "1928bbaf",
   "metadata": {},
   "outputs": [
    {
     "name": "stdout",
     "output_type": "stream",
     "text": [
      "a :Not eligible for the test\n",
      "b :Not eligible for the test\n",
      "c :Eligible for the test\n",
      "d :Eligible for the test\n",
      "e :Eligible for the test\n",
      "f :Eligible for the test\n",
      "g :Not eligible for the test\n"
     ]
    }
   ],
   "source": [
    "x=[10, 25, 35, 45, 38, 58, 15]\n",
    "y=['a','b','c','d','e','f','g']\n",
    "pass_cri=30\n",
    "# 'Eligible for the test'\n",
    "\n",
    "# 'Not eligible for the test'\n",
    "\n",
    "for i in range(len(x)):\n",
    "    if x[i]<pass_cri:\n",
    "        print(y[i],':Not eligible for the test')\n",
    "    else:\n",
    "        print(y[i],':Eligible for the test')"
   ]
  },
  {
   "cell_type": "code",
   "execution_count": 109,
   "id": "4c01863d",
   "metadata": {},
   "outputs": [
    {
     "name": "stdout",
     "output_type": "stream",
     "text": [
      "Enter your marks:90\n",
      "Enter your name:xyz\n",
      "xyz :Eligible for the test\n"
     ]
    }
   ],
   "source": [
    "x=int(input('Enter your marks:'))\n",
    "y=input('Enter your name:')\n",
    "pass_cri=30\n",
    "# 'Eligible for the test'\n",
    "\n",
    "# 'Not eligible for the test'\n",
    "\n",
    "if x<pass_cri:\n",
    "    print(y,':Not eligible for the test')\n",
    "else:\n",
    "    print(y,':Eligible for the test')"
   ]
  },
  {
   "cell_type": "code",
   "execution_count": 111,
   "id": "de7462f6",
   "metadata": {},
   "outputs": [
    {
     "name": "stdout",
     "output_type": "stream",
     "text": [
      "10,25,35,45,38,58,15\n",
      "ana,bablu,chandu,dholu,ena,farah,gangu\n",
      "ana :Not eligible for the test\n",
      "bablu :Not eligible for the test\n",
      "chandu :Eligible for the test\n",
      "dholu :Eligible for the test\n",
      "ena :Eligible for the test\n",
      "farah :Eligible for the test\n",
      "gangu :Not eligible for the test\n"
     ]
    }
   ],
   "source": [
    "x=list(map(int,input().split(',')))\n",
    "y=input().split(',')\n",
    "\n",
    "# x=[10,25,35,45,38,58,15]\n",
    "# y=['ana','bablu','chandu','dholu','ena','farah','gangu']\n",
    "pass_cri=30\n",
    "# 'Eligible for the test'\n",
    "\n",
    "# 'Not eligible for the test'\n",
    "\n",
    "for i in range(len(x)):\n",
    "    if x[i]<pass_cri:\n",
    "        print(y[i],':Not eligible for the test')\n",
    "    else:\n",
    "        print(y[i],':Eligible for the test')"
   ]
  },
  {
   "cell_type": "code",
   "execution_count": null,
   "id": "f5bfefec",
   "metadata": {},
   "outputs": [],
   "source": []
  }
 ],
 "metadata": {
  "kernelspec": {
   "display_name": "Python 3 (ipykernel)",
   "language": "python",
   "name": "python3"
  },
  "language_info": {
   "codemirror_mode": {
    "name": "ipython",
    "version": 3
   },
   "file_extension": ".py",
   "mimetype": "text/x-python",
   "name": "python",
   "nbconvert_exporter": "python",
   "pygments_lexer": "ipython3",
   "version": "3.8.13"
  }
 },
 "nbformat": 4,
 "nbformat_minor": 5
}
