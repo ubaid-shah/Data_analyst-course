{
 "cells": [
  {
   "cell_type": "code",
   "execution_count": 2,
   "id": "7d32ca12",
   "metadata": {},
   "outputs": [
    {
     "name": "stdout",
     "output_type": "stream",
     "text": [
      "2.6\n"
     ]
    }
   ],
   "source": [
    "if True:\n",
    "    print(2+3/5)"
   ]
  },
  {
   "cell_type": "code",
   "execution_count": 3,
   "id": "ed02e458",
   "metadata": {},
   "outputs": [],
   "source": [
    "if False:\n",
    "    print(2+3/5)"
   ]
  },
  {
   "cell_type": "code",
   "execution_count": 4,
   "id": "f9ed97f7",
   "metadata": {},
   "outputs": [],
   "source": [
    "x=2\n",
    "y=5\n",
    "\n",
    "if x<y:\n",
    "    z=y-x"
   ]
  },
  {
   "cell_type": "code",
   "execution_count": 5,
   "id": "f776ce42",
   "metadata": {},
   "outputs": [
    {
     "data": {
      "text/plain": [
       "3"
      ]
     },
     "execution_count": 5,
     "metadata": {},
     "output_type": "execute_result"
    }
   ],
   "source": [
    "z"
   ]
  },
  {
   "cell_type": "code",
   "execution_count": 6,
   "id": "e3bdc2ff",
   "metadata": {},
   "outputs": [],
   "source": [
    "if x>z:\n",
    "    w=x-z"
   ]
  },
  {
   "cell_type": "code",
   "execution_count": 7,
   "id": "a22e0879",
   "metadata": {},
   "outputs": [
    {
     "ename": "NameError",
     "evalue": "name 'w' is not defined",
     "output_type": "error",
     "traceback": [
      "\u001b[1;31m---------------------------------------------------------------------------\u001b[0m",
      "\u001b[1;31mNameError\u001b[0m                                 Traceback (most recent call last)",
      "Input \u001b[1;32mIn [7]\u001b[0m, in \u001b[0;36m<cell line: 1>\u001b[1;34m()\u001b[0m\n\u001b[1;32m----> 1\u001b[0m \u001b[43mw\u001b[49m\n",
      "\u001b[1;31mNameError\u001b[0m: name 'w' is not defined"
     ]
    }
   ],
   "source": [
    "w"
   ]
  },
  {
   "cell_type": "code",
   "execution_count": 8,
   "id": "b60681be",
   "metadata": {},
   "outputs": [],
   "source": [
    "x=10\n",
    "y=15\n",
    "z=20\n",
    "\n",
    "if x==y and z>y:\n",
    "    print('Ok')"
   ]
  },
  {
   "cell_type": "code",
   "execution_count": 9,
   "id": "d4c607ee",
   "metadata": {},
   "outputs": [
    {
     "name": "stdout",
     "output_type": "stream",
     "text": [
      "Now this is ok\n"
     ]
    }
   ],
   "source": [
    "if x>5 and y<17:\n",
    "    print('Now this is ok')"
   ]
  },
  {
   "cell_type": "code",
   "execution_count": 10,
   "id": "5f31c4a2",
   "metadata": {},
   "outputs": [
    {
     "name": "stdout",
     "output_type": "stream",
     "text": [
      "Ok\n"
     ]
    }
   ],
   "source": [
    "if x==y or z>y:\n",
    "    print('Ok')"
   ]
  },
  {
   "cell_type": "code",
   "execution_count": 16,
   "id": "2d70e776",
   "metadata": {},
   "outputs": [],
   "source": [
    "if (x==y and z>y):\n",
    "    print('Ok')"
   ]
  },
  {
   "cell_type": "code",
   "execution_count": 17,
   "id": "1a9965c4",
   "metadata": {},
   "outputs": [],
   "source": [
    "x=15\n",
    "y=10\n",
    "\n",
    "if x>y:\n",
    "    z=x-y\n",
    "else:\n",
    "    z=y-x"
   ]
  },
  {
   "cell_type": "code",
   "execution_count": 18,
   "id": "a17543da",
   "metadata": {},
   "outputs": [
    {
     "data": {
      "text/plain": [
       "5"
      ]
     },
     "execution_count": 18,
     "metadata": {},
     "output_type": "execute_result"
    }
   ],
   "source": [
    "z"
   ]
  },
  {
   "cell_type": "code",
   "execution_count": 19,
   "id": "c422ce15",
   "metadata": {},
   "outputs": [],
   "source": [
    "x=15\n",
    "y=10\n",
    "\n",
    "if x<y:\n",
    "    z=x-y\n",
    "else:\n",
    "    z=y-x"
   ]
  },
  {
   "cell_type": "code",
   "execution_count": 20,
   "id": "0224b97c",
   "metadata": {},
   "outputs": [
    {
     "data": {
      "text/plain": [
       "-5"
      ]
     },
     "execution_count": 20,
     "metadata": {},
     "output_type": "execute_result"
    }
   ],
   "source": [
    "z"
   ]
  },
  {
   "cell_type": "code",
   "execution_count": null,
   "id": "5689a93f",
   "metadata": {},
   "outputs": [],
   "source": []
  },
  {
   "cell_type": "code",
   "execution_count": null,
   "id": "d316afb4",
   "metadata": {},
   "outputs": [],
   "source": []
  },
  {
   "cell_type": "code",
   "execution_count": 24,
   "id": "6c1c8698",
   "metadata": {},
   "outputs": [
    {
     "name": "stdout",
     "output_type": "stream",
     "text": [
      "Bought Mobile 4\n"
     ]
    }
   ],
   "source": [
    "color_choice='black'\n",
    "required_ram= '8GB'\n",
    "color_choice_1='red'\n",
    "color_choice_2='black'\n",
    "ram_1='4GB'\n",
    "ram_2='8GB'\n",
    "\n",
    "\n",
    "if color_choice==color_choice_1 and required_ram== ram_1:\n",
    "    print('Bought Mobile 1')\n",
    "\n",
    "elif color_choice==color_choice_2 and required_ram== ram_1:\n",
    "    print('Bought Mobile 2')\n",
    "    \n",
    "elif color_choice==color_choice_1 and required_ram== ram_2:\n",
    "    print('Bought Mobile 3')\n",
    "    \n",
    "elif color_choice==color_choice_2 and required_ram== ram_2:\n",
    "    print('Bought Mobile 4')\n",
    "    \n",
    "else:\n",
    "    print('Please go to the next shop')\n",
    "\n"
   ]
  },
  {
   "cell_type": "code",
   "execution_count": 26,
   "id": "0b0381b8",
   "metadata": {},
   "outputs": [
    {
     "name": "stdout",
     "output_type": "stream",
     "text": [
      "Buy online\n"
     ]
    }
   ],
   "source": [
    "required_brand='IPhone'\n",
    "color_choice='black'\n",
    "required_ram= '8GB'\n",
    "color_choice_1='red'\n",
    "color_choice_2='black'\n",
    "ram_1='4GB'\n",
    "ram_2='8GB'\n",
    "brand_1='Redmi'\n",
    "brand_2='Samsung'\n",
    "\n",
    "if required_brand==brand_1:\n",
    "    if color_choice==color_choice_1 and required_ram== ram_1:\n",
    "        print('Bought Mobile 1')\n",
    "\n",
    "    elif color_choice==color_choice_2 and required_ram== ram_1:\n",
    "        print('Bought Mobile 2')\n",
    "    \n",
    "    elif color_choice==color_choice_1 and required_ram== ram_2:\n",
    "        print('Bought Mobile 3')\n",
    "    \n",
    "    elif color_choice==color_choice_2 and required_ram== ram_2:\n",
    "        print('Bought Mobile 4')\n",
    "    \n",
    "    else:\n",
    "        print('Please go to the next shop')\n",
    "        \n",
    "elif required_brand==brand_2:\n",
    "    if color_choice==color_choice_1 and required_ram== ram_1:\n",
    "        print('Bought Mobile 5')\n",
    "\n",
    "    elif color_choice==color_choice_2 and required_ram== ram_1:\n",
    "        print('Bought Mobile 6')\n",
    "    \n",
    "    elif color_choice==color_choice_1 and required_ram== ram_2:\n",
    "        print('Bought Mobile 7')\n",
    "    \n",
    "    elif color_choice==color_choice_2 and required_ram== ram_2:\n",
    "        print('Bought Mobile 8')\n",
    "    \n",
    "    else:\n",
    "        print('Please go to the next shop')\n",
    "\n",
    "else:\n",
    "    print('Buy online')"
   ]
  },
  {
   "cell_type": "code",
   "execution_count": 29,
   "id": "c525fd5e",
   "metadata": {},
   "outputs": [
    {
     "ename": "SyntaxError",
     "evalue": "invalid syntax (2483788160.py, line 8)",
     "output_type": "error",
     "traceback": [
      "\u001b[1;36m  Input \u001b[1;32mIn [29]\u001b[1;36m\u001b[0m\n\u001b[1;33m    else x<y:\u001b[0m\n\u001b[1;37m         ^\u001b[0m\n\u001b[1;31mSyntaxError\u001b[0m\u001b[1;31m:\u001b[0m invalid syntax\n"
     ]
    }
   ],
   "source": [
    "x=1\n",
    "y=2\n",
    "\n",
    "if x>y:\n",
    "    print('x')\n",
    "elif x>3:\n",
    "    print('5')\n",
    "else x<y:\n",
    "    print('9')"
   ]
  },
  {
   "cell_type": "code",
   "execution_count": 30,
   "id": "8b43c97a",
   "metadata": {},
   "outputs": [
    {
     "name": "stdout",
     "output_type": "stream",
     "text": [
      "9\n"
     ]
    }
   ],
   "source": [
    "x=1\n",
    "y=2\n",
    "\n",
    "if x>y:\n",
    "    print('x')\n",
    "elif x>3:\n",
    "    print('5')\n",
    "else:                                   # don't write any condition for else block\n",
    "    print('9')"
   ]
  },
  {
   "cell_type": "code",
   "execution_count": 42,
   "id": "a4aec788",
   "metadata": {},
   "outputs": [
    {
     "name": "stdout",
     "output_type": "stream",
     "text": [
      "700000\n",
      "52500.0\n"
     ]
    }
   ],
   "source": [
    "salary=int(input())\n",
    "slab1=250000\n",
    "slab2=500000\n",
    "\n",
    "if salary<=slab1:\n",
    "    print('Nil')\n",
    "elif salary>slab1 and salary <=slab2 :\n",
    "    print((salary-250000)*0.05)\n",
    "elif salary>slab2:\n",
    "    print(12500+((salary-500000)*0.20))"
   ]
  },
  {
   "cell_type": "code",
   "execution_count": null,
   "id": "8654768e",
   "metadata": {},
   "outputs": [],
   "source": []
  },
  {
   "cell_type": "code",
   "execution_count": null,
   "id": "389cbd2c",
   "metadata": {},
   "outputs": [],
   "source": []
  },
  {
   "cell_type": "code",
   "execution_count": null,
   "id": "fb7222bf",
   "metadata": {},
   "outputs": [],
   "source": []
  },
  {
   "cell_type": "code",
   "execution_count": null,
   "id": "f649f72d",
   "metadata": {},
   "outputs": [],
   "source": []
  },
  {
   "cell_type": "code",
   "execution_count": null,
   "id": "bbe3a68c",
   "metadata": {},
   "outputs": [],
   "source": []
  }
 ],
 "metadata": {
  "kernelspec": {
   "display_name": "Python 3 (ipykernel)",
   "language": "python",
   "name": "python3"
  },
  "language_info": {
   "codemirror_mode": {
    "name": "ipython",
    "version": 3
   },
   "file_extension": ".py",
   "mimetype": "text/x-python",
   "name": "python",
   "nbconvert_exporter": "python",
   "pygments_lexer": "ipython3",
   "version": "3.8.13"
  }
 },
 "nbformat": 4,
 "nbformat_minor": 5
}
